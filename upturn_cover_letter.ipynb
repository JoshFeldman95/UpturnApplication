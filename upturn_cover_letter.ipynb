{
 "cells": [
  {
   "cell_type": "markdown",
   "metadata": {},
   "source": [
    "Dear Ms. Dale:\n",
    "\n",
    "I am writing to apply for Upturn's 2019 Summer Fellowship. I heard about the opportunity from Hilary Ross, who was asked by Miranda Bogen to encourage those connected to Harvard's Berkman Klein Center for Internet & Society to apply. I later spoke with Ms. Bogen over the phone to learn more about Upturn’s fascinating advocacy. As someone who has a strong technical understanding of machine learning, I feel an obligation to ensure that algorithmic decision-making lessens rather than widens social inequality, which is why Upturn's mission deeply resonates with me.\n",
    "\n",
    "I am well-suited for this position because I have experience working across the many subjects involved in digital policy – interdisciplinary problems demand an interdisciplinary education. While I am currently based at Harvard's Engineering School completing a M.Sc. in Data Science, I have sought out opportunities to reflect on the ethics and governance of AI across the Harvard institutions (see map below). Similarly, during my B.Sc. at Dalhousie University, I gained a foundation in mathematics and computer science, but also wrestled with critical ethical and political debates surrounding technology through my minor in Contemporary Studies. The Upturn Summer Fellowship would allow me to both apply what I've learned from these many academic subjects and help me further develop my interdisciplinary research skills."
   ]
  },
  {
   "cell_type": "code",
   "execution_count": 22,
   "metadata": {},
   "outputs": [
    {
     "name": "stdout",
     "output_type": "stream",
     "text": [
      "Click the markers to learn more!\n"
     ]
    },
    {
     "data": {
      "application/vnd.jupyter.widget-view+json": {
       "model_id": "5139c06b1f7c4bf5bc8fb870f8624b8f",
       "version_major": 2,
       "version_minor": 0
      },
      "text/plain": [
       "Map(basemap={'url': 'http://server.arcgisonline.com/ArcGIS/rest/services/NatGeo_World_Map/MapServer/tile/{z}/{…"
      ]
     },
     "metadata": {},
     "output_type": "display_data"
    }
   ],
   "source": [
    "from ipyleaflet import Map, basemaps, Popup, Marker\n",
    "from ipywidgets import HTML\n",
    "\n",
    "m = Map(\n",
    "    center=(42.3760, -71.1167), \n",
    "    zoom=15, \n",
    "    basemap = basemaps.Esri.NatGeoWorldMap\n",
    ")\n",
    "hks = Marker(location=(42.3714, -71.1220), rise_on_hover = True, draggable = False)\n",
    "hks_message = HTML()\n",
    "hks_message.value = \"\"\"\n",
    "<b> At the Kennedy School, I am reflecting on the regulation and self-regulation that will\n",
    "be most effective in harnessing the benefits of digital technology: </b>  \n",
    "<br> - I am a student in Solutions for Technology's Public Dilemmas instructed by former secretary of defense Ash Carter \n",
    "<br> - I help organize events and programming tutorials with the Future Society, a student organization focused on emerging policy issues\n",
    "\n",
    "\"\"\"\n",
    "hks.popup = hks_message\n",
    "hls = Marker(location=(42.3781, -71.1188), draggable = False)\n",
    "hls_message = HTML()\n",
    "hls_message.value = \"\"\"\n",
    "<b> At the Law School, I am researching the legal ramifications of artificially intelligent devices: </b>\n",
    "<br> - As a research assistant for Sara Gerke, I critically analyzed definitions of AI proposed by U.S. congress\n",
    "<br> - As a member of <a href=\"http://techtopia.harvard.edu/\">Techtopia</a>, I participate in bi-weekly interdisciplinary seminars on digital ethics\n",
    "\"\"\"\n",
    "hls.popup = hls_message\n",
    "seas = Marker(location=(42.3782, -71.1171), draggable = False)\n",
    "seas_message = HTML()\n",
    "seas_message.value = \"\"\"\n",
    "<b> At the Engineering School, I am promoting public interest technology: </b>\n",
    "<br> - I am creating a fellowship in public interest data science, which will encourage students to apply their skills to social problems and help prepare them for these challenges\n",
    "<br> - As a student in the M.Sc. in Data Science program, I am learning cutting edge techniques in statistics, computer science, and machine learning\n",
    "<br> - As a member of the Philantropy Advisory Fellowship, I am applying my statistical modelling skills to identify effective interventions to address the opioid epidemic\n",
    "\"\"\"\n",
    "seas.popup = seas_message\n",
    "markers = [hks, hls, seas]\n",
    "for mark in markers:\n",
    "    m.add_layer(mark)\n",
    "\n",
    "\n",
    "print(\"Click the markers to learn more!\")\n",
    "display(m)"
   ]
  },
  {
   "cell_type": "markdown",
   "metadata": {},
   "source": [
    "In addition to reaching across academic disciplines, when working on issues related to equity, I believe affected communities need to be involved and I seek out these partnerships. When I helped facilitate a summer reading camp for Indigenous children in northern Canada, I worked closely with my Inuit co-counselors to ensure that the camp was culturally relevant and that the material resonated with the students. Likewise, when I organized a homework club for new immigrants to Halifax, I would often co-teach with the older students. They had an intuitive understanding of the many social and linguistic barriers the students faced, which helped us overcome barriers unique to new immigrants in Canada. At Upturn, I would ensure to collaborate with the communities most negatively impacted by digital innovation.\n",
    "\n",
    "Thank you for considering my application. I would be very excited to help with Upturn’s important and timely digital advocacy.\n",
    "\n",
    "Sincerely,\n",
    "\n",
    "Joshua Feldman"
   ]
  }
 ],
 "metadata": {
  "kernelspec": {
   "display_name": "Python 3",
   "language": "python",
   "name": "python3"
  },
  "language_info": {
   "codemirror_mode": {
    "name": "ipython",
    "version": 3
   },
   "file_extension": ".py",
   "mimetype": "text/x-python",
   "name": "python",
   "nbconvert_exporter": "python",
   "pygments_lexer": "ipython3",
   "version": "3.6.6"
  },
  "widgets": {
   "application/vnd.jupyter.widget-state+json": {
    "state": {
     "00e39cf171e245a99886bea7a32b94c0": {
      "model_module": "jupyter-leaflet",
      "model_module_version": "~0.9.1",
      "model_name": "LeafletMapModel",
      "state": {
       "_dom_classes": [],
       "_model_module_version": "~0.9.1",
       "_view_count": null,
       "_view_module_version": "~0.9.1",
       "basemap": {
        "attribution": "Tiles &copy; Esri &mdash; National Geographic, Esri, DeLorme, NAVTEQ, UNEP-WCMC, USGS, NASA, ESA, METI, NRCAN, GEBCO, NOAA, iPC",
        "max_zoom": 16,
        "name": "Esri.NatGeoWorldMap",
        "url": "http://server.arcgisonline.com/ArcGIS/rest/services/NatGeo_World_Map/MapServer/tile/{z}/{y}/{x}"
       },
       "center": [
        42.37577479375367,
        -71.12078385427594
       ],
       "east": -71.09973387792708,
       "interpolation": "bilinear",
       "layers": [
        "IPY_MODEL_eb4807ebda904c078054545db5bdc3ff",
        "IPY_MODEL_c353ac4c2dd94ac9af9a87573b55376b",
        "IPY_MODEL_ecf8d7441cb940848a5eb6aab0f0c7eb",
        "IPY_MODEL_76618d8f7f074bcfa070bf6ce57fe1af"
       ],
       "layout": "IPY_MODEL_50f91375b36c4a4d940915043fb90e04",
       "modisdate": "yesterday",
       "north": 42.38211513316616,
       "options": [
        "attribution_control",
        "basemap",
        "bounce_at_zoom_limits",
        "box_zoom",
        "center",
        "close_popup_on_click",
        "double_click_zoom",
        "dragging",
        "inertia",
        "inertia_deceleration",
        "inertia_max_speed",
        "interpolation",
        "keyboard",
        "keyboard_pan_offset",
        "keyboard_zoom_offset",
        "max_zoom",
        "min_zoom",
        "scroll_wheel_zoom",
        "tap",
        "tap_tolerance",
        "touch_zoom",
        "world_copy_jump",
        "zoom",
        "zoom_animation_threshold",
        "zoom_control",
        "zoom_start"
       ],
       "south": 42.36943381415259,
       "west": -71.14183383062483,
       "zoom": 15
      }
     },
     "02ade056d71c43cdb579a12efc95626a": {
      "model_module": "jupyter-leaflet",
      "model_module_version": "~0.9.1",
      "model_name": "LeafletMarkerModel",
      "state": {
       "_model_module_version": "~0.9.1",
       "_view_count": null,
       "_view_module_version": "~0.9.1",
       "draggable": false,
       "location": [
        42.3781,
        -71.1188
       ],
       "options": [
        "alt",
        "draggable",
        "keyboard",
        "rise_offset",
        "rise_on_hover",
        "rotation_angle",
        "rotation_origin",
        "title",
        "z_index_offset"
       ],
       "popup": "IPY_MODEL_2745c2304a36413184aad807c96a0de1"
      }
     },
     "02c91e4a60b74754a4343c20a9a79258": {
      "model_module": "@jupyter-widgets/base",
      "model_module_version": "1.1.0",
      "model_name": "LayoutModel",
      "state": {}
     },
     "04085f46b2334255a7a5c6c30b6cbbf3": {
      "model_module": "@jupyter-widgets/base",
      "model_module_version": "1.1.0",
      "model_name": "LayoutModel",
      "state": {}
     },
     "04bd4398e09846d0b0e0cc204b123517": {
      "model_module": "@jupyter-widgets/base",
      "model_module_version": "1.1.0",
      "model_name": "LayoutModel",
      "state": {}
     },
     "07627431b3034786bd249f946e3e813e": {
      "model_module": "jupyter-leaflet",
      "model_module_version": "~0.9.1",
      "model_name": "LeafletMapModel",
      "state": {
       "_dom_classes": [],
       "_model_module_version": "~0.9.1",
       "_view_count": null,
       "_view_module_version": "~0.9.1",
       "basemap": {
        "attribution": "Tiles &copy; Esri &mdash; Source: Esri, DeLorme, NAVTEQ, USGS, Intermap, iPC, NRCAN, Esri Japan, METI, Esri China (Hong Kong), Esri (Thailand), TomTom, 2012",
        "max_zoom": 20,
        "name": "Esri.WoldStreetMap",
        "url": "http://server.arcgisonline.com/ArcGIS/rest/services/World_Street_Map/MapServer/tile/{z}/{y}/{x}"
       },
       "center": [
        42.376,
        -71.1167
       ],
       "east": -71.09566211700441,
       "interpolation": "bilinear",
       "layers": [
        "IPY_MODEL_adb8301e359b4e68b53da231a4828ec8",
        "IPY_MODEL_53212bc0145d468dbc29221ef1004a2a",
        "IPY_MODEL_77603ee673d141ea8ecd1dfbf9eed696",
        "IPY_MODEL_7847fcd62d0e4a888678a367c5155752"
       ],
       "layout": "IPY_MODEL_a9f66586c91b442dbdf2aa987f8dd1cb",
       "modisdate": "yesterday",
       "north": 42.38235511234488,
       "options": [
        "attribution_control",
        "basemap",
        "bounce_at_zoom_limits",
        "box_zoom",
        "center",
        "close_popup_on_click",
        "double_click_zoom",
        "dragging",
        "inertia",
        "inertia_deceleration",
        "inertia_max_speed",
        "interpolation",
        "keyboard",
        "keyboard_pan_offset",
        "keyboard_zoom_offset",
        "max_zoom",
        "min_zoom",
        "scroll_wheel_zoom",
        "tap",
        "tap_tolerance",
        "touch_zoom",
        "world_copy_jump",
        "zoom",
        "zoom_animation_threshold",
        "zoom_control",
        "zoom_start"
       ],
       "south": 42.36967384179557,
       "west": -71.13776206970216,
       "zoom": 15
      }
     },
     "076a32fbf2684f1d92d7fff52a692a10": {
      "model_module": "@jupyter-widgets/controls",
      "model_module_version": "1.4.0",
      "model_name": "HTMLModel",
      "state": {
       "layout": "IPY_MODEL_c7f25cd717c1486b8ef8d0b30cc41350",
       "style": "IPY_MODEL_c801db2a0464404593ec3482f732b7aa",
       "value": "\n<b> At the Engineering School, I am promoting public interest technology: </b>\n<br> - I am creating a fellowship in public interest data science, which will encourage students to apply their skills to social problems and help prepare them for these challenges\n<br> - As a student in the M.Sc. in Data Science program, I am learning cutting edge techniques in statistics, computer science, and machine learning\n<br> - As a member of the Philantropy Advisory Fellowship, I am applying my statistical modelling skills to identify effective interventions to address the opioid epidemic\n"
      }
     },
     "0826b6bd04704bfe88251bd71e4a243d": {
      "model_module": "@jupyter-widgets/base",
      "model_module_version": "1.1.0",
      "model_name": "LayoutModel",
      "state": {}
     },
     "094d2b2e747f427ea527e3951cfbf648": {
      "model_module": "@jupyter-widgets/base",
      "model_module_version": "1.1.0",
      "model_name": "LayoutModel",
      "state": {}
     },
     "098afa6000f0422aa9c89589355fd61f": {
      "model_module": "@jupyter-widgets/controls",
      "model_module_version": "1.4.0",
      "model_name": "HTMLModel",
      "state": {
       "layout": "IPY_MODEL_1e24a765fdbc4a6cb5be1643f59ac29a",
       "style": "IPY_MODEL_6bd38141835d4186b050fe5901e33650",
       "value": "\n<b> At the Engineering School, I am promoting public interest technology: </b>\n<br> - I am creating a fellowship in public interest data science, which will encourage students to apply their skills to social problems and help prepare them for these challenges\n<br> - As a student in the M.Sc. in Data Science program, I am learning cutting edge techniques in statistics, computer science, and machine learning\n<br> - As a member of the Philantropy Advisory Fellowship, I am applying my statistical modelling skills to identify effective interventions to address the opioid epidemic\n"
      }
     },
     "09db2ab527844d1fab7f04f9e2bb26d1": {
      "model_module": "@jupyter-widgets/controls",
      "model_module_version": "1.4.0",
      "model_name": "DescriptionStyleModel",
      "state": {
       "description_width": ""
      }
     },
     "0cbb0424430441e98d56cf27bcfd8404": {
      "model_module": "jupyter-leaflet",
      "model_module_version": "~0.9.1",
      "model_name": "LeafletMarkerModel",
      "state": {
       "_model_module_version": "~0.9.1",
       "_view_count": null,
       "_view_module_version": "~0.9.1",
       "draggable": false,
       "location": [
        42.3781,
        -71.1188
       ],
       "options": [
        "alt",
        "draggable",
        "keyboard",
        "rise_offset",
        "rise_on_hover",
        "rotation_angle",
        "rotation_origin",
        "title",
        "z_index_offset"
       ],
       "popup": "IPY_MODEL_dede9a67cc754fd18758ed2f113acd4b"
      }
     },
     "1169ab5c6717462e90ca0aa8bb7e8bc5": {
      "model_module": "jupyter-leaflet",
      "model_module_version": "~0.9.1",
      "model_name": "LeafletMarkerModel",
      "state": {
       "_model_module_version": "~0.9.1",
       "_view_count": null,
       "_view_module_version": "~0.9.1",
       "draggable": false,
       "location": [
        42.3781,
        -71.1188
       ],
       "options": [
        "alt",
        "draggable",
        "keyboard",
        "rise_offset",
        "rise_on_hover",
        "rotation_angle",
        "rotation_origin",
        "title",
        "z_index_offset"
       ],
       "popup": "IPY_MODEL_a39f06eda5a3424a8934852823d706c6"
      }
     },
     "1503a65565544b74abada8577d5b4e59": {
      "model_module": "jupyter-leaflet",
      "model_module_version": "~0.9.1",
      "model_name": "LeafletMapModel",
      "state": {
       "_dom_classes": [],
       "_model_module_version": "~0.9.1",
       "_view_count": null,
       "_view_module_version": "~0.9.1",
       "basemap": {
        "attribution": "&copy; <a href=\"http://www.openstreetmap.org/copyright\">OpenStreetMap</a> &copy; <a href=\"http://cartodb.com/attributions\">CartoDB</a>",
        "max_zoom": 19,
        "name": "CartoDB.DarkMatter",
        "url": "http://c.basemaps.cartocdn.com/dark_all/{z}/{x}/{y}.png"
       },
       "center": [
        42.376,
        -71.1167
       ],
       "east": -71.09566211700441,
       "interpolation": "bilinear",
       "layers": [
        "IPY_MODEL_4ed0aba8cd1b4d5ca67bc65b1a4cb30e",
        "IPY_MODEL_eabab5cd29434abaa9078ff833b2f637",
        "IPY_MODEL_40fa32f2b3d048359d17c7f29d953a46",
        "IPY_MODEL_509ec9ac996247bb8f6c5007940b74a3"
       ],
       "layout": "IPY_MODEL_9f7dd7e942484437ab23cd0881dea0c1",
       "modisdate": "yesterday",
       "north": 42.38235511234488,
       "options": [
        "attribution_control",
        "basemap",
        "bounce_at_zoom_limits",
        "box_zoom",
        "center",
        "close_popup_on_click",
        "double_click_zoom",
        "dragging",
        "inertia",
        "inertia_deceleration",
        "inertia_max_speed",
        "interpolation",
        "keyboard",
        "keyboard_pan_offset",
        "keyboard_zoom_offset",
        "max_zoom",
        "min_zoom",
        "scroll_wheel_zoom",
        "tap",
        "tap_tolerance",
        "touch_zoom",
        "world_copy_jump",
        "zoom",
        "zoom_animation_threshold",
        "zoom_control",
        "zoom_start"
       ],
       "south": 42.36967384179557,
       "west": -71.13776206970216,
       "zoom": 15
      }
     },
     "166c6c467b2149038b4cac6ed5ebf088": {
      "model_module": "@jupyter-widgets/base",
      "model_module_version": "1.1.0",
      "model_name": "LayoutModel",
      "state": {}
     },
     "1700e1ead8804e41b732f8cb62342104": {
      "model_module": "@jupyter-widgets/base",
      "model_module_version": "1.1.0",
      "model_name": "LayoutModel",
      "state": {}
     },
     "170ccf2c4fa14fc7a32ca3846bef6f63": {
      "model_module": "jupyter-leaflet",
      "model_module_version": "~0.9.1",
      "model_name": "LeafletMapModel",
      "state": {
       "_dom_classes": [],
       "_model_module_version": "~0.9.1",
       "_view_count": null,
       "_view_module_version": "~0.9.1",
       "basemap": {
        "attribution": "Tiles &copy; Esri &mdash; National Geographic, Esri, DeLorme, NAVTEQ, UNEP-WCMC, USGS, NASA, ESA, METI, NRCAN, GEBCO, NOAA, iPC",
        "max_zoom": 16,
        "name": "Esri.NatGeoWorldMap",
        "url": "http://server.arcgisonline.com/ArcGIS/rest/services/NatGeo_World_Map/MapServer/tile/{z}/{y}/{x}"
       },
       "center": [
        42.376,
        -71.1167
       ],
       "east": -71.09566211700441,
       "interpolation": "bilinear",
       "layers": [
        "IPY_MODEL_a391fb8ca1284c50a175033b29de56b9",
        "IPY_MODEL_fbc5a3aa8f2542358240c397942b47f5",
        "IPY_MODEL_1169ab5c6717462e90ca0aa8bb7e8bc5",
        "IPY_MODEL_a9824664ade046b4b8ae9356e78a4628"
       ],
       "layout": "IPY_MODEL_1d93074110344f79a3b5861bcd533ba0",
       "modisdate": "yesterday",
       "north": 42.38235511234488,
       "options": [
        "attribution_control",
        "basemap",
        "bounce_at_zoom_limits",
        "box_zoom",
        "center",
        "close_popup_on_click",
        "double_click_zoom",
        "dragging",
        "inertia",
        "inertia_deceleration",
        "inertia_max_speed",
        "interpolation",
        "keyboard",
        "keyboard_pan_offset",
        "keyboard_zoom_offset",
        "max_zoom",
        "min_zoom",
        "scroll_wheel_zoom",
        "tap",
        "tap_tolerance",
        "touch_zoom",
        "world_copy_jump",
        "zoom",
        "zoom_animation_threshold",
        "zoom_control",
        "zoom_start"
       ],
       "south": 42.36967384179557,
       "west": -71.13776206970216,
       "zoom": 15
      }
     },
     "17a36584477044378b4e6263a2665431": {
      "model_module": "jupyter-leaflet",
      "model_module_version": "~0.9.1",
      "model_name": "LeafletMapModel",
      "state": {
       "_dom_classes": [],
       "_model_module_version": "~0.9.1",
       "_view_count": null,
       "_view_module_version": "~0.9.1",
       "basemap": {
        "attribution": "Tiles &copy; Esri &mdash; Source: Esri, i-cubed, USDA, USGS, AEX, GeoEye, Getmapping, Aerogrid, IGN, IGP, UPR-EGP, and the GIS User Community",
        "max_zoom": 20,
        "name": "Esri.WorldImagery",
        "url": "http://server.arcgisonline.com/ArcGIS/rest/services/World_Imagery/MapServer/tile/{z}/{y}/{x}"
       },
       "center": [
        42.376,
        -71.1167
       ],
       "east": -71.09566211700441,
       "interpolation": "bilinear",
       "layers": [
        "IPY_MODEL_7b702f7704e04ba3982885f5f7a67c34",
        "IPY_MODEL_edbc462c9416446cbeefe131151f8fdb",
        "IPY_MODEL_2ccaf651faeb4671a81973e4c2aae548",
        "IPY_MODEL_3e903aa6eb9849efaef11caf640dcbca"
       ],
       "layout": "IPY_MODEL_afa6d7af6d4e4af3a84e346e02179cd8",
       "modisdate": "yesterday",
       "north": 42.38235511234488,
       "options": [
        "attribution_control",
        "basemap",
        "bounce_at_zoom_limits",
        "box_zoom",
        "center",
        "close_popup_on_click",
        "double_click_zoom",
        "dragging",
        "inertia",
        "inertia_deceleration",
        "inertia_max_speed",
        "interpolation",
        "keyboard",
        "keyboard_pan_offset",
        "keyboard_zoom_offset",
        "max_zoom",
        "min_zoom",
        "scroll_wheel_zoom",
        "tap",
        "tap_tolerance",
        "touch_zoom",
        "world_copy_jump",
        "zoom",
        "zoom_animation_threshold",
        "zoom_control",
        "zoom_start"
       ],
       "south": 42.36967384179557,
       "west": -71.13776206970216,
       "zoom": 15
      }
     },
     "184dd60e39a14f54b02769709944e937": {
      "model_module": "@jupyter-widgets/base",
      "model_module_version": "1.1.0",
      "model_name": "LayoutModel",
      "state": {}
     },
     "1881a27cddb64d6d9feb722324836ee1": {
      "model_module": "@jupyter-widgets/controls",
      "model_module_version": "1.4.0",
      "model_name": "HTMLModel",
      "state": {
       "layout": "IPY_MODEL_483d993ef0c24e84b283509988755b68",
       "style": "IPY_MODEL_eead10692a1248e2a7064e6e03768040",
       "value": "\n<b> At the Engineering School, I am promoting public interest technology: </b>\n<br> - I am creating a fellowship in public interest data science, which will encourage students to apply their skills to social problems and help prepare them for these challenges\n<br> - As a student in the M.Sc. in Data Science program, I am learning cutting edge techniques in statistics, computer science, and machine learning\n<br> - As a member of the Philantropy Advisory Fellowship, I am applying my statistical modelling skills to identify effective interventions to address the opioid epidemic\n"
      }
     },
     "18b7a04dbaf64fdfad85a8e1300a9f44": {
      "model_module": "@jupyter-widgets/controls",
      "model_module_version": "1.4.0",
      "model_name": "HTMLModel",
      "state": {
       "layout": "IPY_MODEL_a6f21019f2174f8d84788a0692556777",
       "style": "IPY_MODEL_e897ed56efb4427591c7731c23aa4c82",
       "value": "\n<b> At the Engineering School, I am promoting public interest technology: </b>\n<br> - I am creating a fellowship in public interest data science, which will encourage students to apply their skills to social problems and help prepare them for these challenges\n<br> - As a student in the M.Sc. in Data Science program, I am learning cutting edge techniques in statistics, computer science, and machine learning\n<br> - As a member of the Philantropy Advisory Fellowship, I am applying my statistical modelling skills to identify effective interventions to address the opioid epidemic\n"
      }
     },
     "1a20cc97b33042d8b217f4a9d5814fdd": {
      "model_module": "@jupyter-widgets/base",
      "model_module_version": "1.1.0",
      "model_name": "LayoutModel",
      "state": {}
     },
     "1d93074110344f79a3b5861bcd533ba0": {
      "model_module": "@jupyter-widgets/base",
      "model_module_version": "1.1.0",
      "model_name": "LayoutModel",
      "state": {}
     },
     "1e24a765fdbc4a6cb5be1643f59ac29a": {
      "model_module": "@jupyter-widgets/base",
      "model_module_version": "1.1.0",
      "model_name": "LayoutModel",
      "state": {}
     },
     "1fca0241ba6f471f9d1c40108f83e825": {
      "model_module": "@jupyter-widgets/base",
      "model_module_version": "1.1.0",
      "model_name": "LayoutModel",
      "state": {}
     },
     "2093c01510fb4d8a83ba5286375899a7": {
      "model_module": "jupyter-leaflet",
      "model_module_version": "~0.9.1",
      "model_name": "LeafletMapModel",
      "state": {
       "_dom_classes": [],
       "_model_module_version": "~0.9.1",
       "_view_count": null,
       "_view_module_version": "~0.9.1",
       "basemap": {
        "attribution": "Tiles &copy; Esri &mdash; Copyright: &copy;2012 DeLorme",
        "max_zoom": 11,
        "min_zoom": 1,
        "name": "Esri.DeLorme",
        "url": "http://server.arcgisonline.com/ArcGIS/rest/services/Specialty/DeLorme_World_Base_Map/MapServer/tile/{z}/{y}/{x}"
       },
       "center": [
        42.37601479716476,
        -71.11671209335329
       ],
       "east": -71.09566211700441,
       "interpolation": "bilinear",
       "layers": [
        "IPY_MODEL_634b65313b4f4cff9a628706b83e4f76",
        "IPY_MODEL_cbd2d18068464d768d5c246414d4e37b",
        "IPY_MODEL_9fabf24e7e624d6f9a37586a699b3019",
        "IPY_MODEL_e9c40db2d76146f7b3990c259e354044"
       ],
       "layout": "IPY_MODEL_1700e1ead8804e41b732f8cb62342104",
       "modisdate": "yesterday",
       "north": 42.38235511234488,
       "options": [
        "attribution_control",
        "basemap",
        "bounce_at_zoom_limits",
        "box_zoom",
        "center",
        "close_popup_on_click",
        "double_click_zoom",
        "dragging",
        "inertia",
        "inertia_deceleration",
        "inertia_max_speed",
        "interpolation",
        "keyboard",
        "keyboard_pan_offset",
        "keyboard_zoom_offset",
        "max_zoom",
        "min_zoom",
        "scroll_wheel_zoom",
        "tap",
        "tap_tolerance",
        "touch_zoom",
        "world_copy_jump",
        "zoom",
        "zoom_animation_threshold",
        "zoom_control",
        "zoom_start"
       ],
       "south": 42.36967384179557,
       "west": -71.13776206970216,
       "zoom": 15
      }
     },
     "2189c09627bb48c9a6b9d1fb119029ed": {
      "model_module": "@jupyter-widgets/controls",
      "model_module_version": "1.4.0",
      "model_name": "DescriptionStyleModel",
      "state": {
       "description_width": ""
      }
     },
     "2199f8b141bb4e858a9304d6aef0e69a": {
      "model_module": "jupyter-leaflet",
      "model_module_version": "~0.9.1",
      "model_name": "LeafletMarkerModel",
      "state": {
       "_model_module_version": "~0.9.1",
       "_view_count": null,
       "_view_module_version": "~0.9.1",
       "draggable": false,
       "location": [
        42.3714,
        -71.122
       ],
       "options": [
        "alt",
        "draggable",
        "keyboard",
        "rise_offset",
        "rise_on_hover",
        "rotation_angle",
        "rotation_origin",
        "title",
        "z_index_offset"
       ],
       "popup": "IPY_MODEL_6ed48a6e50a946e285b985874a81c940",
       "rise_on_hover": true
      }
     },
     "22c967d4255b4a2398d261a5f75a5d71": {
      "model_module": "@jupyter-widgets/base",
      "model_module_version": "1.1.0",
      "model_name": "LayoutModel",
      "state": {}
     },
     "240ca9d8af3c4d8e97d51658018d51a2": {
      "model_module": "jupyter-leaflet",
      "model_module_version": "~0.9.1",
      "model_name": "LeafletMarkerModel",
      "state": {
       "_model_module_version": "~0.9.1",
       "_view_count": null,
       "_view_module_version": "~0.9.1",
       "draggable": false,
       "location": [
        42.3714,
        -71.122
       ],
       "options": [
        "alt",
        "draggable",
        "keyboard",
        "rise_offset",
        "rise_on_hover",
        "rotation_angle",
        "rotation_origin",
        "title",
        "z_index_offset"
       ],
       "popup": "IPY_MODEL_47ab95ae55234c3da0d0879747bf3cc0",
       "rise_on_hover": true
      }
     },
     "25f3e4907c364366ad1cbf5723db5303": {
      "model_module": "jupyter-leaflet",
      "model_module_version": "~0.9.1",
      "model_name": "LeafletMarkerModel",
      "state": {
       "_model_module_version": "~0.9.1",
       "_view_count": null,
       "_view_module_version": "~0.9.1",
       "draggable": false,
       "location": [
        42.3782,
        -71.1171
       ],
       "options": [
        "alt",
        "draggable",
        "keyboard",
        "rise_offset",
        "rise_on_hover",
        "rotation_angle",
        "rotation_origin",
        "title",
        "z_index_offset"
       ],
       "popup": "IPY_MODEL_550ecc3f8b64420f9922044666cb9cf0"
      }
     },
     "2745c2304a36413184aad807c96a0de1": {
      "model_module": "@jupyter-widgets/controls",
      "model_module_version": "1.4.0",
      "model_name": "HTMLModel",
      "state": {
       "layout": "IPY_MODEL_652a79807be342d6921f998fb625be64",
       "style": "IPY_MODEL_81de7b7acfe64c60ab6deb877b6ea07e",
       "value": "\n<b> At the Law School, I am researching the legal ramifications of artificially intelligent devices: </b>\n<br> - As a research assistant for Sara Gerke, I critically analyzed definitions of AI proposed by U.S. congress\n<br> - As a member of <a href=\"http://techtopia.harvard.edu/\">Techtopia</a>, I participate in bi-weekly interdisciplinary seminars on digital ethics\n"
      }
     },
     "27f2f8831bb04761a0172512f737b97f": {
      "model_module": "@jupyter-widgets/controls",
      "model_module_version": "1.4.0",
      "model_name": "HTMLModel",
      "state": {
       "layout": "IPY_MODEL_0826b6bd04704bfe88251bd71e4a243d",
       "style": "IPY_MODEL_bc2a61225acf420ab41ca6664c723a26",
       "value": "\n<b> At the Engineering School, I am promoting public interest technology: </b>\n<br> - I am creating a fellowship in public interest data science, to encourage students to apply their skills to social problems and prepare them for these challenges\n<br> - As a student in the M.Sc. in Data Science Program, I am learning cutting edge techniques in statistics, computer science, and machine learning\n<br> - As a member of the Philantropy Advisory Fellowship, I am applying my statistical modelling skills to identify effective interventions to address the opioid epidemic\n"
      }
     },
     "289ec730342347ffa10d180cf6e43759": {
      "model_module": "@jupyter-widgets/controls",
      "model_module_version": "1.4.0",
      "model_name": "HTMLModel",
      "state": {
       "layout": "IPY_MODEL_405dde37d6a44ff08af4161d8c8befe4",
       "style": "IPY_MODEL_48c8eab9ea16410594f548ff5305b0cd",
       "value": "\n<b> At the Engineering School, I am promoting public interest technology: </b>\n<br> - I am creating a fellowship in public interest data science, which will encourage students to apply their skills to social problems and help prepare them for these challenges\n<br> - As a student in the M.Sc. in Data Science program, I am learning cutting edge techniques in statistics, computer science, and machine learning\n<br> - As a member of the Philantropy Advisory Fellowship, I am applying my statistical modelling skills to identify effective interventions to address the opioid epidemic\n"
      }
     },
     "29700ba95ddc46bb825a0415e81cc51a": {
      "model_module": "@jupyter-widgets/controls",
      "model_module_version": "1.4.0",
      "model_name": "DescriptionStyleModel",
      "state": {
       "description_width": ""
      }
     },
     "2a6d33c0efd14974b094b4eb4c4cd61a": {
      "model_module": "@jupyter-widgets/controls",
      "model_module_version": "1.4.0",
      "model_name": "HTMLModel",
      "state": {
       "layout": "IPY_MODEL_dfdfe6ab8e4c42819c67904ced967039",
       "style": "IPY_MODEL_b624f7c56ad44dc68e376cc2ccfe4d3c",
       "value": "\n<b> At the Law School, I am researching the legal ramifications of artificially intelligent devices: </b>\n<br> - As a research assistant for Sara Gerke, I critically analyzed definitions of AI proposed by U.S. congress\n<br> - As a member of <a href=\"http://techtopia.harvard.edu/\">Techtopia</a>, I participate in bi-weekly interdisciplinary seminars on digital ethics\n"
      }
     },
     "2b211253b51b461fbbe8bd86d0eead51": {
      "model_module": "jupyter-leaflet",
      "model_module_version": "~0.9.1",
      "model_name": "LeafletMarkerModel",
      "state": {
       "_model_module_version": "~0.9.1",
       "_view_count": null,
       "_view_module_version": "~0.9.1",
       "draggable": false,
       "location": [
        42.3782,
        -71.1171
       ],
       "options": [
        "alt",
        "draggable",
        "keyboard",
        "rise_offset",
        "rise_on_hover",
        "rotation_angle",
        "rotation_origin",
        "title",
        "z_index_offset"
       ],
       "popup": "IPY_MODEL_27f2f8831bb04761a0172512f737b97f"
      }
     },
     "2ccaf651faeb4671a81973e4c2aae548": {
      "model_module": "jupyter-leaflet",
      "model_module_version": "~0.9.1",
      "model_name": "LeafletMarkerModel",
      "state": {
       "_model_module_version": "~0.9.1",
       "_view_count": null,
       "_view_module_version": "~0.9.1",
       "draggable": false,
       "location": [
        42.3781,
        -71.1188
       ],
       "options": [
        "alt",
        "draggable",
        "keyboard",
        "rise_offset",
        "rise_on_hover",
        "rotation_angle",
        "rotation_origin",
        "title",
        "z_index_offset"
       ],
       "popup": "IPY_MODEL_cdf5f80d86ec45b299fd6a71c164cd26"
      }
     },
     "2d12c337ee274f4b90f64ab998f309de": {
      "model_module": "@jupyter-widgets/controls",
      "model_module_version": "1.4.0",
      "model_name": "DescriptionStyleModel",
      "state": {
       "description_width": ""
      }
     },
     "2d13584ae8ca4116a58afabe1e6efdd9": {
      "model_module": "@jupyter-widgets/controls",
      "model_module_version": "1.4.0",
      "model_name": "HTMLModel",
      "state": {
       "layout": "IPY_MODEL_a8c646c3dfa54767974dc6db4e6eeb55",
       "style": "IPY_MODEL_09db2ab527844d1fab7f04f9e2bb26d1",
       "value": "\n<b> At the Kennedy School, I am reflecting on the regulation and self-regulation that will\nbe most effective in harnessing the benefits of digital technology: </b>  \n<br> - As a student in Solutions for Technology's Public Dilemmas instructed by former secretary of defense Ash Carter \n<br> - As an active member in the Future Society, a student organization focused on emerging policy issues\n\n"
      }
     },
     "2e5a53683100488ebebfb83f73ff0aa6": {
      "model_module": "@jupyter-widgets/controls",
      "model_module_version": "1.4.0",
      "model_name": "DescriptionStyleModel",
      "state": {
       "description_width": ""
      }
     },
     "2e9c138dd77146369230d05461c2bb43": {
      "model_module": "@jupyter-widgets/base",
      "model_module_version": "1.1.0",
      "model_name": "LayoutModel",
      "state": {}
     },
     "32a9d203c4d84088b0f464f0f0711aca": {
      "model_module": "@jupyter-widgets/controls",
      "model_module_version": "1.4.0",
      "model_name": "HTMLModel",
      "state": {
       "layout": "IPY_MODEL_67772ca8a1ba49de9220721bfa9b4501",
       "style": "IPY_MODEL_61da5e409add46ea8872f2f1260c9c4f",
       "value": "\n<b> At the Law School, I am researching the legal ramifications of artificially intelligent devices: </b>\n<br> - As a research assistant for Sara Gerke, I study the implications of medical device regulation \non machine learning used in healthcare settings\n<br> - As a member of Techtopia, I participate in bi-weekly interdisciplinary seminars on digital ethics\n"
      }
     },
     "344061dd305f4906ae45bd1a0b67108a": {
      "model_module": "@jupyter-widgets/controls",
      "model_module_version": "1.4.0",
      "model_name": "DescriptionStyleModel",
      "state": {
       "description_width": ""
      }
     },
     "3619bbf174e6472593195bce3852f6a0": {
      "model_module": "@jupyter-widgets/base",
      "model_module_version": "1.1.0",
      "model_name": "LayoutModel",
      "state": {}
     },
     "3e903aa6eb9849efaef11caf640dcbca": {
      "model_module": "jupyter-leaflet",
      "model_module_version": "~0.9.1",
      "model_name": "LeafletMarkerModel",
      "state": {
       "_model_module_version": "~0.9.1",
       "_view_count": null,
       "_view_module_version": "~0.9.1",
       "draggable": false,
       "location": [
        42.3782,
        -71.1171
       ],
       "options": [
        "alt",
        "draggable",
        "keyboard",
        "rise_offset",
        "rise_on_hover",
        "rotation_angle",
        "rotation_origin",
        "title",
        "z_index_offset"
       ],
       "popup": "IPY_MODEL_18b7a04dbaf64fdfad85a8e1300a9f44"
      }
     },
     "405dde37d6a44ff08af4161d8c8befe4": {
      "model_module": "@jupyter-widgets/base",
      "model_module_version": "1.1.0",
      "model_name": "LayoutModel",
      "state": {}
     },
     "40fa32f2b3d048359d17c7f29d953a46": {
      "model_module": "jupyter-leaflet",
      "model_module_version": "~0.9.1",
      "model_name": "LeafletMarkerModel",
      "state": {
       "_model_module_version": "~0.9.1",
       "_view_count": null,
       "_view_module_version": "~0.9.1",
       "draggable": false,
       "location": [
        42.3781,
        -71.1188
       ],
       "options": [
        "alt",
        "draggable",
        "keyboard",
        "rise_offset",
        "rise_on_hover",
        "rotation_angle",
        "rotation_origin",
        "title",
        "z_index_offset"
       ],
       "popup": "IPY_MODEL_e70ed84aca194d6e97bcd00dad40c914"
      }
     },
     "413234676fb1430399368a28173f7fdc": {
      "model_module": "@jupyter-widgets/base",
      "model_module_version": "1.1.0",
      "model_name": "LayoutModel",
      "state": {}
     },
     "46a00f2dd3df486b92ffefbc2fdf0b1e": {
      "model_module": "@jupyter-widgets/controls",
      "model_module_version": "1.4.0",
      "model_name": "DescriptionStyleModel",
      "state": {
       "description_width": ""
      }
     },
     "4714989104ce4532836eefcdd2faf441": {
      "model_module": "jupyter-leaflet",
      "model_module_version": "~0.9.1",
      "model_name": "LeafletMarkerModel",
      "state": {
       "_model_module_version": "~0.9.1",
       "_view_count": null,
       "_view_module_version": "~0.9.1",
       "draggable": false,
       "location": [
        42.3714,
        -71.122
       ],
       "options": [
        "alt",
        "draggable",
        "keyboard",
        "rise_offset",
        "rise_on_hover",
        "rotation_angle",
        "rotation_origin",
        "title",
        "z_index_offset"
       ],
       "popup": "IPY_MODEL_cb6c5f41200d411296547a9d9fd3f6b1",
       "rise_on_hover": true
      }
     },
     "4779e2af02324ebd85b4c861dc16da38": {
      "model_module": "jupyter-leaflet",
      "model_module_version": "~0.9.1",
      "model_name": "LeafletTileLayerModel",
      "state": {
       "_model_module_version": "~0.9.1",
       "_view_count": null,
       "_view_module_version": "~0.9.1",
       "attribution": "Tiles &copy; Esri &mdash; Source: Esri, DeLorme, NAVTEQ, USGS, Intermap, iPC, NRCAN, Esri Japan, METI, Esri China (Hong Kong), Esri (Thailand), TomTom, 2012",
       "base": true,
       "max_zoom": 20,
       "min_zoom": 1,
       "name": "Esri.WoldStreetMap",
       "options": [
        "attribution",
        "detect_retina",
        "max_zoom",
        "min_zoom",
        "tile_size"
       ],
       "url": "http://server.arcgisonline.com/ArcGIS/rest/services/World_Street_Map/MapServer/tile/{z}/{y}/{x}"
      }
     },
     "47ab95ae55234c3da0d0879747bf3cc0": {
      "model_module": "@jupyter-widgets/controls",
      "model_module_version": "1.4.0",
      "model_name": "HTMLModel",
      "state": {
       "layout": "IPY_MODEL_60586c7b12e04315bc497548923d48d1",
       "style": "IPY_MODEL_e4de3d69ccb54e6781a90d9045a54ee1",
       "value": "\n<b> At the Kennedy School, I am reflecting on the regulation and self-regulation that will\nbe most effective in harnessing the benefits of digital technology: </b>  \n<br> - As a student in Solutions for Technology's Public Dilemmas instructed by former secretary of defense Ash Carter \n<br> - As an active member in the Future Society, a student organization focused on emerging policy issues\n\n"
      }
     },
     "4832de96cba640d6961e6602f5ceb7f0": {
      "model_module": "@jupyter-widgets/controls",
      "model_module_version": "1.4.0",
      "model_name": "DescriptionStyleModel",
      "state": {
       "description_width": ""
      }
     },
     "483d993ef0c24e84b283509988755b68": {
      "model_module": "@jupyter-widgets/base",
      "model_module_version": "1.1.0",
      "model_name": "LayoutModel",
      "state": {}
     },
     "48c8eab9ea16410594f548ff5305b0cd": {
      "model_module": "@jupyter-widgets/controls",
      "model_module_version": "1.4.0",
      "model_name": "DescriptionStyleModel",
      "state": {
       "description_width": ""
      }
     },
     "49f778c5237e4e5fa85c98e84d49cd70": {
      "model_module": "@jupyter-widgets/controls",
      "model_module_version": "1.4.0",
      "model_name": "DescriptionStyleModel",
      "state": {
       "description_width": ""
      }
     },
     "4b0c87ba4c214869aa671d64b5fe8a22": {
      "model_module": "@jupyter-widgets/controls",
      "model_module_version": "1.4.0",
      "model_name": "DescriptionStyleModel",
      "state": {
       "description_width": ""
      }
     },
     "4c401f7510d9475c9fef6d151602aa2e": {
      "model_module": "@jupyter-widgets/controls",
      "model_module_version": "1.4.0",
      "model_name": "HTMLModel",
      "state": {
       "layout": "IPY_MODEL_184dd60e39a14f54b02769709944e937",
       "style": "IPY_MODEL_344061dd305f4906ae45bd1a0b67108a",
       "value": "\n<b> At the Law School, I am researching the legal ramifications of artificially intelligent devices: </b>\n<br> - As a research assistant for Sara Gerke, I critically analyzed definitions of AI proposed by U.S. congress\n<br> - As a member of <a href=\"http://techtopia.harvard.edu/\">Techtopia</a>, I participate in bi-weekly interdisciplinary seminars on digital ethics\n"
      }
     },
     "4ed0aba8cd1b4d5ca67bc65b1a4cb30e": {
      "model_module": "jupyter-leaflet",
      "model_module_version": "~0.9.1",
      "model_name": "LeafletTileLayerModel",
      "state": {
       "_model_module_version": "~0.9.1",
       "_view_count": null,
       "_view_module_version": "~0.9.1",
       "attribution": "&copy; <a href=\"http://www.openstreetmap.org/copyright\">OpenStreetMap</a> &copy; <a href=\"http://cartodb.com/attributions\">CartoDB</a>",
       "base": true,
       "max_zoom": 19,
       "min_zoom": 1,
       "name": "CartoDB.DarkMatter",
       "options": [
        "attribution",
        "detect_retina",
        "max_zoom",
        "min_zoom",
        "tile_size"
       ],
       "url": "http://c.basemaps.cartocdn.com/dark_all/{z}/{x}/{y}.png"
      }
     },
     "5049a96fb9b944f6acf106d68fb4c969": {
      "model_module": "@jupyter-widgets/controls",
      "model_module_version": "1.4.0",
      "model_name": "HTMLModel",
      "state": {
       "layout": "IPY_MODEL_cc4f22b66621429fbd3a50df8d618d57",
       "style": "IPY_MODEL_a9033125f53d418192533d0907ae763f",
       "value": "\n<b> At the Kennedy School, I am reflecting on the regulation and self-regulation that will\nbe most effective in harnessing the benefits of digital technology: </b>  \n<br> - I am a student in Solutions for Technology's Public Dilemmas instructed by former secretary of defense Ash Carter \n<br> - I help organize events and programming tutorials with the Future Society, a student organization focused on emerging policy issues\n\n"
      }
     },
     "509ec9ac996247bb8f6c5007940b74a3": {
      "model_module": "jupyter-leaflet",
      "model_module_version": "~0.9.1",
      "model_name": "LeafletMarkerModel",
      "state": {
       "_model_module_version": "~0.9.1",
       "_view_count": null,
       "_view_module_version": "~0.9.1",
       "draggable": false,
       "location": [
        42.3782,
        -71.1171
       ],
       "options": [
        "alt",
        "draggable",
        "keyboard",
        "rise_offset",
        "rise_on_hover",
        "rotation_angle",
        "rotation_origin",
        "title",
        "z_index_offset"
       ],
       "popup": "IPY_MODEL_74634cb1bf2c45489d5f0dcd9bac8566"
      }
     },
     "50f91375b36c4a4d940915043fb90e04": {
      "model_module": "@jupyter-widgets/base",
      "model_module_version": "1.1.0",
      "model_name": "LayoutModel",
      "state": {}
     },
     "5139c06b1f7c4bf5bc8fb870f8624b8f": {
      "model_module": "jupyter-leaflet",
      "model_module_version": "~0.9.1",
      "model_name": "LeafletMapModel",
      "state": {
       "_dom_classes": [],
       "_model_module_version": "~0.9.1",
       "_view_count": null,
       "_view_module_version": "~0.9.1",
       "basemap": {
        "attribution": "Tiles &copy; Esri &mdash; National Geographic, Esri, DeLorme, NAVTEQ, UNEP-WCMC, USGS, NASA, ESA, METI, NRCAN, GEBCO, NOAA, iPC",
        "max_zoom": 16,
        "name": "Esri.NatGeoWorldMap",
        "url": "http://server.arcgisonline.com/ArcGIS/rest/services/NatGeo_World_Map/MapServer/tile/{z}/{y}/{x}"
       },
       "center": [
        42.376,
        -71.1167
       ],
       "east": -71.09566211700441,
       "interpolation": "bilinear",
       "layers": [
        "IPY_MODEL_66551485497d470c96ffea1a26bb24cb",
        "IPY_MODEL_75f6775931df4cf782911836c5fb4885",
        "IPY_MODEL_02ade056d71c43cdb579a12efc95626a",
        "IPY_MODEL_6f31fc3652244748b33025cfbaeb3996"
       ],
       "layout": "IPY_MODEL_c7810af2c1b7467bb54ecf6768266dd2",
       "modisdate": "yesterday",
       "north": 42.38235511234488,
       "options": [
        "attribution_control",
        "basemap",
        "bounce_at_zoom_limits",
        "box_zoom",
        "center",
        "close_popup_on_click",
        "double_click_zoom",
        "dragging",
        "inertia",
        "inertia_deceleration",
        "inertia_max_speed",
        "interpolation",
        "keyboard",
        "keyboard_pan_offset",
        "keyboard_zoom_offset",
        "max_zoom",
        "min_zoom",
        "scroll_wheel_zoom",
        "tap",
        "tap_tolerance",
        "touch_zoom",
        "world_copy_jump",
        "zoom",
        "zoom_animation_threshold",
        "zoom_control",
        "zoom_start"
       ],
       "south": 42.36967384179557,
       "west": -71.13776206970216,
       "zoom": 15
      }
     },
     "52bf0a5e9d414977b5e1404e4e710591": {
      "model_module": "@jupyter-widgets/controls",
      "model_module_version": "1.4.0",
      "model_name": "DescriptionStyleModel",
      "state": {
       "description_width": ""
      }
     },
     "53212bc0145d468dbc29221ef1004a2a": {
      "model_module": "jupyter-leaflet",
      "model_module_version": "~0.9.1",
      "model_name": "LeafletMarkerModel",
      "state": {
       "_model_module_version": "~0.9.1",
       "_view_count": null,
       "_view_module_version": "~0.9.1",
       "draggable": false,
       "location": [
        42.3714,
        -71.122
       ],
       "options": [
        "alt",
        "draggable",
        "keyboard",
        "rise_offset",
        "rise_on_hover",
        "rotation_angle",
        "rotation_origin",
        "title",
        "z_index_offset"
       ],
       "popup": "IPY_MODEL_e16722ef3b134d558a67659a7d85747c",
       "rise_on_hover": true
      }
     },
     "550ecc3f8b64420f9922044666cb9cf0": {
      "model_module": "@jupyter-widgets/controls",
      "model_module_version": "1.4.0",
      "model_name": "HTMLModel",
      "state": {
       "layout": "IPY_MODEL_baa23b6d18604d3197211ed5a5f3ac4a",
       "style": "IPY_MODEL_6b249684f94d427f8a9b5eed75d79fcf",
       "value": "\n<b> At the Engineering School, I am promoting public interest technology: </b>\n<br> - I am creating a fellowship in public interest data science, which will encourage students to apply their skills to social problems and help prepare them for these challenges\n<br> - As a student in the M.Sc. in Data Science program, I am learning cutting edge techniques in statistics, computer science, and machine learning\n<br> - As a member of the Philantropy Advisory Fellowship, I am applying my statistical modelling skills to identify effective interventions to address the opioid epidemic\n"
      }
     },
     "581ad94976fb4d89a38959912fa77b70": {
      "model_module": "jupyter-leaflet",
      "model_module_version": "~0.9.1",
      "model_name": "LeafletMapModel",
      "state": {
       "_dom_classes": [],
       "_model_module_version": "~0.9.1",
       "_view_count": null,
       "_view_module_version": "~0.9.1",
       "basemap": {
        "attribution": "Tiles &copy; Esri &mdash; National Geographic, Esri, DeLorme, NAVTEQ, UNEP-WCMC, USGS, NASA, ESA, METI, NRCAN, GEBCO, NOAA, iPC",
        "max_zoom": 16,
        "name": "Esri.NatGeoWorldMap",
        "url": "http://server.arcgisonline.com/ArcGIS/rest/services/NatGeo_World_Map/MapServer/tile/{z}/{y}/{x}"
       },
       "center": [
        42.376,
        -71.1167
       ],
       "east": -71.09566211700441,
       "interpolation": "bilinear",
       "layers": [
        "IPY_MODEL_cf1178a9d1144df39439cf680ffde508",
        "IPY_MODEL_4714989104ce4532836eefcdd2faf441",
        "IPY_MODEL_bd47371fd47b4f35955d8d7eee75cfe5",
        "IPY_MODEL_25f3e4907c364366ad1cbf5723db5303"
       ],
       "layout": "IPY_MODEL_094d2b2e747f427ea527e3951cfbf648",
       "modisdate": "yesterday",
       "north": 42.38235511234488,
       "options": [
        "attribution_control",
        "basemap",
        "bounce_at_zoom_limits",
        "box_zoom",
        "center",
        "close_popup_on_click",
        "double_click_zoom",
        "dragging",
        "inertia",
        "inertia_deceleration",
        "inertia_max_speed",
        "interpolation",
        "keyboard",
        "keyboard_pan_offset",
        "keyboard_zoom_offset",
        "max_zoom",
        "min_zoom",
        "scroll_wheel_zoom",
        "tap",
        "tap_tolerance",
        "touch_zoom",
        "world_copy_jump",
        "zoom",
        "zoom_animation_threshold",
        "zoom_control",
        "zoom_start"
       ],
       "south": 42.36967384179557,
       "west": -71.13776206970216,
       "zoom": 15
      }
     },
     "5c26ae5fd58a4f4bb1522fd001945745": {
      "model_module": "@jupyter-widgets/controls",
      "model_module_version": "1.4.0",
      "model_name": "DescriptionStyleModel",
      "state": {
       "description_width": ""
      }
     },
     "5cdcb17443d343a8a40242805db51b69": {
      "model_module": "@jupyter-widgets/controls",
      "model_module_version": "1.4.0",
      "model_name": "DescriptionStyleModel",
      "state": {
       "description_width": ""
      }
     },
     "5de9191f909a467393106c000ae0cc16": {
      "model_module": "@jupyter-widgets/controls",
      "model_module_version": "1.4.0",
      "model_name": "HTMLModel",
      "state": {
       "layout": "IPY_MODEL_e4e40ce71fad470bae3c3a0c3d5f8d9f",
       "style": "IPY_MODEL_da5464ed9deb4d19b66b4860e27af33c",
       "value": "\n<b> At the Kennedy School, I am reflecting on the regulation and self-regulation that will\nbe most effective in harnessing the benefits of digital technology: </b>  \n<br> - I am a student in Solutions for Technology's Public Dilemmas instructed by former secretary of defense Ash Carter \n<br> - I help organize events and programming tutorials with the Future Society, a student organization focused on emerging policy issues\n\n"
      }
     },
     "60586c7b12e04315bc497548923d48d1": {
      "model_module": "@jupyter-widgets/base",
      "model_module_version": "1.1.0",
      "model_name": "LayoutModel",
      "state": {}
     },
     "61da5e409add46ea8872f2f1260c9c4f": {
      "model_module": "@jupyter-widgets/controls",
      "model_module_version": "1.4.0",
      "model_name": "DescriptionStyleModel",
      "state": {
       "description_width": ""
      }
     },
     "625da6c762bb4c2ea9e67b30e882790c": {
      "model_module": "@jupyter-widgets/controls",
      "model_module_version": "1.4.0",
      "model_name": "DescriptionStyleModel",
      "state": {
       "description_width": ""
      }
     },
     "628a2eecce3044d0bf60782d2e008c05": {
      "model_module": "@jupyter-widgets/controls",
      "model_module_version": "1.4.0",
      "model_name": "HTMLModel",
      "state": {
       "layout": "IPY_MODEL_6eb8d19c372d4d97ac3056b0cca58e12",
       "style": "IPY_MODEL_dfb2b8cbee674ba28f07e9a5605c9bdb",
       "value": "\n<b> At the Kennedy School, I am reflecting on the regulation and self-regulation that will\nbe most effective in harnessing the benefits of digital technology: </b>  \n<br> - I am a student in Solutions for Technology's Public Dilemmas instructed by former secretary of defense Ash Carter \n<br> - I help organize events and programming tutorials with the Future Society, a student organization focused on emerging policy issues\n\n"
      }
     },
     "634b65313b4f4cff9a628706b83e4f76": {
      "model_module": "jupyter-leaflet",
      "model_module_version": "~0.9.1",
      "model_name": "LeafletTileLayerModel",
      "state": {
       "_model_module_version": "~0.9.1",
       "_view_count": null,
       "_view_module_version": "~0.9.1",
       "attribution": "Tiles &copy; Esri &mdash; Copyright: &copy;2012 DeLorme",
       "base": true,
       "max_zoom": 11,
       "min_zoom": 1,
       "name": "Esri.DeLorme",
       "options": [
        "attribution",
        "detect_retina",
        "max_zoom",
        "min_zoom",
        "tile_size"
       ],
       "url": "http://server.arcgisonline.com/ArcGIS/rest/services/Specialty/DeLorme_World_Base_Map/MapServer/tile/{z}/{y}/{x}"
      }
     },
     "63836ac29d784361bb132ca892dbe9ac": {
      "model_module": "jupyter-leaflet",
      "model_module_version": "~0.9.1",
      "model_name": "LeafletMarkerModel",
      "state": {
       "_model_module_version": "~0.9.1",
       "_view_count": null,
       "_view_module_version": "~0.9.1",
       "draggable": false,
       "location": [
        42.3781,
        -71.1188
       ],
       "options": [
        "alt",
        "draggable",
        "keyboard",
        "rise_offset",
        "rise_on_hover",
        "rotation_angle",
        "rotation_origin",
        "title",
        "z_index_offset"
       ],
       "popup": "IPY_MODEL_6b445722302a4daa9a6fb9617099aecb"
      }
     },
     "64c01fcbb8d54abc972fc9a369969b16": {
      "model_module": "@jupyter-widgets/base",
      "model_module_version": "1.1.0",
      "model_name": "LayoutModel",
      "state": {}
     },
     "652a79807be342d6921f998fb625be64": {
      "model_module": "@jupyter-widgets/base",
      "model_module_version": "1.1.0",
      "model_name": "LayoutModel",
      "state": {}
     },
     "66551485497d470c96ffea1a26bb24cb": {
      "model_module": "jupyter-leaflet",
      "model_module_version": "~0.9.1",
      "model_name": "LeafletTileLayerModel",
      "state": {
       "_model_module_version": "~0.9.1",
       "_view_count": null,
       "_view_module_version": "~0.9.1",
       "attribution": "Tiles &copy; Esri &mdash; National Geographic, Esri, DeLorme, NAVTEQ, UNEP-WCMC, USGS, NASA, ESA, METI, NRCAN, GEBCO, NOAA, iPC",
       "base": true,
       "max_zoom": 16,
       "min_zoom": 1,
       "name": "Esri.NatGeoWorldMap",
       "options": [
        "attribution",
        "detect_retina",
        "max_zoom",
        "min_zoom",
        "tile_size"
       ],
       "url": "http://server.arcgisonline.com/ArcGIS/rest/services/NatGeo_World_Map/MapServer/tile/{z}/{y}/{x}"
      }
     },
     "67772ca8a1ba49de9220721bfa9b4501": {
      "model_module": "@jupyter-widgets/base",
      "model_module_version": "1.1.0",
      "model_name": "LayoutModel",
      "state": {}
     },
     "6898336e5e8d4600819dce3251b748a6": {
      "model_module": "@jupyter-widgets/base",
      "model_module_version": "1.1.0",
      "model_name": "LayoutModel",
      "state": {}
     },
     "68d1226dadb44a88b4918132be6a7b04": {
      "model_module": "@jupyter-widgets/base",
      "model_module_version": "1.1.0",
      "model_name": "LayoutModel",
      "state": {}
     },
     "6b249684f94d427f8a9b5eed75d79fcf": {
      "model_module": "@jupyter-widgets/controls",
      "model_module_version": "1.4.0",
      "model_name": "DescriptionStyleModel",
      "state": {
       "description_width": ""
      }
     },
     "6b445722302a4daa9a6fb9617099aecb": {
      "model_module": "@jupyter-widgets/controls",
      "model_module_version": "1.4.0",
      "model_name": "HTMLModel",
      "state": {
       "layout": "IPY_MODEL_c53152eaab2d4851ad74ca2efda5022a",
       "style": "IPY_MODEL_52bf0a5e9d414977b5e1404e4e710591",
       "value": "\n<b> At the Law School, I am researching the legal ramifications of artificially intelligent devices: </b>\n<br> - As a research assistant for Sara Gerke, I critically analyzed definitions of AI proposed by U.S. congress\n<br> - As a member of <a href=\"http://techtopia.harvard.edu/\">Techtopia</a>, I participate in bi-weekly interdisciplinary seminars on digital ethics\n"
      }
     },
     "6bd38141835d4186b050fe5901e33650": {
      "model_module": "@jupyter-widgets/controls",
      "model_module_version": "1.4.0",
      "model_name": "DescriptionStyleModel",
      "state": {
       "description_width": ""
      }
     },
     "6eb8d19c372d4d97ac3056b0cca58e12": {
      "model_module": "@jupyter-widgets/base",
      "model_module_version": "1.1.0",
      "model_name": "LayoutModel",
      "state": {}
     },
     "6eb9d3326faa41bd9c1ad84118d46de2": {
      "model_module": "jupyter-leaflet",
      "model_module_version": "~0.9.1",
      "model_name": "LeafletTileLayerModel",
      "state": {
       "_model_module_version": "~0.9.1",
       "_view_count": null,
       "_view_module_version": "~0.9.1",
       "attribution": "Tiles &copy; Esri &mdash; Source: Esri, DeLorme, NAVTEQ, USGS, Intermap, iPC, NRCAN, Esri Japan, METI, Esri China (Hong Kong), Esri (Thailand), TomTom, 2012",
       "base": true,
       "max_zoom": 20,
       "min_zoom": 1,
       "name": "Esri.WoldStreetMap",
       "options": [
        "attribution",
        "detect_retina",
        "max_zoom",
        "min_zoom",
        "tile_size"
       ],
       "url": "http://server.arcgisonline.com/ArcGIS/rest/services/World_Street_Map/MapServer/tile/{z}/{y}/{x}"
      }
     },
     "6ed48a6e50a946e285b985874a81c940": {
      "model_module": "@jupyter-widgets/controls",
      "model_module_version": "1.4.0",
      "model_name": "HTMLModel",
      "state": {
       "layout": "IPY_MODEL_1a20cc97b33042d8b217f4a9d5814fdd",
       "style": "IPY_MODEL_be02ad26555b46c381b9450401c4444a",
       "value": "\n<b> At the Kennedy School, I am reflecting on the regulation and self-regulation that will\nbe most effective in harnessing the benefits of digital technology: </b>  \n<br> - I am a student in Solutions for Technology's Public Dilemmas instructed by former secretary of defense Ash Carter \n<br> - I help organize events and programming tutorials with the Future Society, a student organization focused on emerging policy issues\n\n"
      }
     },
     "6f31fc3652244748b33025cfbaeb3996": {
      "model_module": "jupyter-leaflet",
      "model_module_version": "~0.9.1",
      "model_name": "LeafletMarkerModel",
      "state": {
       "_model_module_version": "~0.9.1",
       "_view_count": null,
       "_view_module_version": "~0.9.1",
       "draggable": false,
       "location": [
        42.3782,
        -71.1171
       ],
       "options": [
        "alt",
        "draggable",
        "keyboard",
        "rise_offset",
        "rise_on_hover",
        "rotation_angle",
        "rotation_origin",
        "title",
        "z_index_offset"
       ],
       "popup": "IPY_MODEL_d998af5ef96e4bd4bbbde76632bd8ecd"
      }
     },
     "6fd367c52cb14aaeb1919390eb1ea545": {
      "model_module": "@jupyter-widgets/controls",
      "model_module_version": "1.4.0",
      "model_name": "HTMLModel",
      "state": {
       "layout": "IPY_MODEL_a80ff7e9223545a49ee978f7e3d9802b",
       "style": "IPY_MODEL_76b56a927f374d918261e8afc8421166",
       "value": "\n<b> At the Kennedy School, I am reflecting on the regulation and self-regulation that will\nbe most effective in harnessing the benefits of digital technology: </b>  \n<br> - I am a student in Solutions for Technology's Public Dilemmas instructed by former secretary of defense Ash Carter \n<br> - I help organize events and programming tutorials with the Future Society, a student organization focused on emerging policy issues\n\n"
      }
     },
     "710b39d6090349698023cc3b5d486f9f": {
      "model_module": "jupyter-leaflet",
      "model_module_version": "~0.9.1",
      "model_name": "LeafletMarkerModel",
      "state": {
       "_model_module_version": "~0.9.1",
       "_view_count": null,
       "_view_module_version": "~0.9.1",
       "draggable": false,
       "location": [
        42.3782,
        -71.1171
       ],
       "options": [
        "alt",
        "draggable",
        "keyboard",
        "rise_offset",
        "rise_on_hover",
        "rotation_angle",
        "rotation_origin",
        "title",
        "z_index_offset"
       ],
       "popup": "IPY_MODEL_e2dfb1aa6fb24dcab09a756e9b569c22"
      }
     },
     "74634cb1bf2c45489d5f0dcd9bac8566": {
      "model_module": "@jupyter-widgets/controls",
      "model_module_version": "1.4.0",
      "model_name": "HTMLModel",
      "state": {
       "layout": "IPY_MODEL_04bd4398e09846d0b0e0cc204b123517",
       "style": "IPY_MODEL_4b0c87ba4c214869aa671d64b5fe8a22",
       "value": "\n<b> At the Engineering School, I am promoting public interest technology: </b>\n<br> - I am creating a fellowship in public interest data science, which will encourage students to apply their skills to social problems and help prepare them for these challenges\n<br> - As a student in the M.Sc. in Data Science program, I am learning cutting edge techniques in statistics, computer science, and machine learning\n<br> - As a member of the Philantropy Advisory Fellowship, I am applying my statistical modelling skills to identify effective interventions to address the opioid epidemic\n"
      }
     },
     "75439ec1e10d45458ca2116443497f2e": {
      "model_module": "@jupyter-widgets/controls",
      "model_module_version": "1.4.0",
      "model_name": "HTMLModel",
      "state": {
       "layout": "IPY_MODEL_1fca0241ba6f471f9d1c40108f83e825",
       "style": "IPY_MODEL_dc9ec891df414b25a9cc6af9af24929b",
       "value": "\n<b> At the Engineering School, I am promoting public interest technology: </b>\n<br> - I am creating a fellowship in public interest data science, to encourage students to apply their skills to social problems and prepare them for these challenges\n<br> - As a student in the M.Sc. in Data Science Program, I am learning cutting edge techniques in statistics, computer science, and machine learning\n<br> - As a member of the Philantropy Advisory Fellowship, I am applying my statistical modelling skills to identify effective interventions to address the opioid epidemic\n"
      }
     },
     "7572083203884e978e156deea14b17e3": {
      "model_module": "@jupyter-widgets/base",
      "model_module_version": "1.1.0",
      "model_name": "LayoutModel",
      "state": {}
     },
     "7599bc7351c746888233828d4fe6ab00": {
      "model_module": "jupyter-leaflet",
      "model_module_version": "~0.9.1",
      "model_name": "LeafletMapModel",
      "state": {
       "_dom_classes": [],
       "_model_module_version": "~0.9.1",
       "_view_count": null,
       "_view_module_version": "~0.9.1",
       "basemap": {
        "attribution": "Tiles &copy; Esri &mdash; Source: Esri, DeLorme, NAVTEQ, USGS, Intermap, iPC, NRCAN, Esri Japan, METI, Esri China (Hong Kong), Esri (Thailand), TomTom, 2012",
        "max_zoom": 20,
        "name": "Esri.WoldStreetMap",
        "url": "http://server.arcgisonline.com/ArcGIS/rest/services/World_Street_Map/MapServer/tile/{z}/{y}/{x}"
       },
       "center": [
        42.3765854517469,
        -71.11671209335329
       ],
       "east": -71.09566211700441,
       "interpolation": "bilinear",
       "layers": [
        "IPY_MODEL_81b32f1bf4424a4da3399a7d853de562",
        "IPY_MODEL_f9d17b54a25f4b8098fe65825a14e7f1",
        "IPY_MODEL_c4d03a6f32594e2cb0035b943f9d3dbe",
        "IPY_MODEL_710b39d6090349698023cc3b5d486f9f"
       ],
       "layout": "IPY_MODEL_6898336e5e8d4600819dce3251b748a6",
       "modisdate": "yesterday",
       "north": 42.38292570930936,
       "options": [
        "attribution_control",
        "basemap",
        "bounce_at_zoom_limits",
        "box_zoom",
        "center",
        "close_popup_on_click",
        "double_click_zoom",
        "dragging",
        "inertia",
        "inertia_deceleration",
        "inertia_max_speed",
        "interpolation",
        "keyboard",
        "keyboard_pan_offset",
        "keyboard_zoom_offset",
        "max_zoom",
        "min_zoom",
        "scroll_wheel_zoom",
        "tap",
        "tap_tolerance",
        "touch_zoom",
        "world_copy_jump",
        "zoom",
        "zoom_animation_threshold",
        "zoom_control",
        "zoom_start"
       ],
       "south": 42.37024455399419,
       "west": -71.13776206970216,
       "zoom": 15
      }
     },
     "75f6775931df4cf782911836c5fb4885": {
      "model_module": "jupyter-leaflet",
      "model_module_version": "~0.9.1",
      "model_name": "LeafletMarkerModel",
      "state": {
       "_model_module_version": "~0.9.1",
       "_view_count": null,
       "_view_module_version": "~0.9.1",
       "draggable": false,
       "location": [
        42.3714,
        -71.122
       ],
       "options": [
        "alt",
        "draggable",
        "keyboard",
        "rise_offset",
        "rise_on_hover",
        "rotation_angle",
        "rotation_origin",
        "title",
        "z_index_offset"
       ],
       "popup": "IPY_MODEL_5049a96fb9b944f6acf106d68fb4c969",
       "rise_on_hover": true
      }
     },
     "76618d8f7f074bcfa070bf6ce57fe1af": {
      "model_module": "jupyter-leaflet",
      "model_module_version": "~0.9.1",
      "model_name": "LeafletMarkerModel",
      "state": {
       "_model_module_version": "~0.9.1",
       "_view_count": null,
       "_view_module_version": "~0.9.1",
       "draggable": false,
       "location": [
        42.3782,
        -71.1171
       ],
       "options": [
        "alt",
        "draggable",
        "keyboard",
        "rise_offset",
        "rise_on_hover",
        "rotation_angle",
        "rotation_origin",
        "title",
        "z_index_offset"
       ],
       "popup": "IPY_MODEL_1881a27cddb64d6d9feb722324836ee1"
      }
     },
     "767c9546e78f4cbeae2feb3fd8bbc6a3": {
      "model_module": "jupyter-leaflet",
      "model_module_version": "~0.9.1",
      "model_name": "LeafletMarkerModel",
      "state": {
       "_model_module_version": "~0.9.1",
       "_view_count": null,
       "_view_module_version": "~0.9.1",
       "draggable": false,
       "location": [
        42.3781,
        -71.1188
       ],
       "options": [
        "alt",
        "draggable",
        "keyboard",
        "rise_offset",
        "rise_on_hover",
        "rotation_angle",
        "rotation_origin",
        "title",
        "z_index_offset"
       ],
       "popup": "IPY_MODEL_2a6d33c0efd14974b094b4eb4c4cd61a"
      }
     },
     "76b56a927f374d918261e8afc8421166": {
      "model_module": "@jupyter-widgets/controls",
      "model_module_version": "1.4.0",
      "model_name": "DescriptionStyleModel",
      "state": {
       "description_width": ""
      }
     },
     "77603ee673d141ea8ecd1dfbf9eed696": {
      "model_module": "jupyter-leaflet",
      "model_module_version": "~0.9.1",
      "model_name": "LeafletMarkerModel",
      "state": {
       "_model_module_version": "~0.9.1",
       "_view_count": null,
       "_view_module_version": "~0.9.1",
       "draggable": false,
       "location": [
        42.3781,
        -71.1188
       ],
       "options": [
        "alt",
        "draggable",
        "keyboard",
        "rise_offset",
        "rise_on_hover",
        "rotation_angle",
        "rotation_origin",
        "title",
        "z_index_offset"
       ],
       "popup": "IPY_MODEL_f29e60bf5cf34f76a9e22963c5ceb14d"
      }
     },
     "7847fcd62d0e4a888678a367c5155752": {
      "model_module": "jupyter-leaflet",
      "model_module_version": "~0.9.1",
      "model_name": "LeafletMarkerModel",
      "state": {
       "_model_module_version": "~0.9.1",
       "_view_count": null,
       "_view_module_version": "~0.9.1",
       "draggable": false,
       "location": [
        42.3782,
        -71.1171
       ],
       "options": [
        "alt",
        "draggable",
        "keyboard",
        "rise_offset",
        "rise_on_hover",
        "rotation_angle",
        "rotation_origin",
        "title",
        "z_index_offset"
       ],
       "popup": "IPY_MODEL_75439ec1e10d45458ca2116443497f2e"
      }
     },
     "7b702f7704e04ba3982885f5f7a67c34": {
      "model_module": "jupyter-leaflet",
      "model_module_version": "~0.9.1",
      "model_name": "LeafletTileLayerModel",
      "state": {
       "_model_module_version": "~0.9.1",
       "_view_count": null,
       "_view_module_version": "~0.9.1",
       "attribution": "Tiles &copy; Esri &mdash; Source: Esri, i-cubed, USDA, USGS, AEX, GeoEye, Getmapping, Aerogrid, IGN, IGP, UPR-EGP, and the GIS User Community",
       "base": true,
       "max_zoom": 20,
       "min_zoom": 1,
       "name": "Esri.WorldImagery",
       "options": [
        "attribution",
        "detect_retina",
        "max_zoom",
        "min_zoom",
        "tile_size"
       ],
       "url": "http://server.arcgisonline.com/ArcGIS/rest/services/World_Imagery/MapServer/tile/{z}/{y}/{x}"
      }
     },
     "7b832057f03e4ec2af2217f18d555b79": {
      "model_module": "@jupyter-widgets/base",
      "model_module_version": "1.1.0",
      "model_name": "LayoutModel",
      "state": {}
     },
     "7ca12286ad72462e86612cda7dd953f4": {
      "model_module": "@jupyter-widgets/base",
      "model_module_version": "1.1.0",
      "model_name": "LayoutModel",
      "state": {}
     },
     "7d84f43346144534ae527a062935c490": {
      "model_module": "@jupyter-widgets/controls",
      "model_module_version": "1.4.0",
      "model_name": "DescriptionStyleModel",
      "state": {
       "description_width": ""
      }
     },
     "81b32f1bf4424a4da3399a7d853de562": {
      "model_module": "jupyter-leaflet",
      "model_module_version": "~0.9.1",
      "model_name": "LeafletTileLayerModel",
      "state": {
       "_model_module_version": "~0.9.1",
       "_view_count": null,
       "_view_module_version": "~0.9.1",
       "attribution": "Tiles &copy; Esri &mdash; Source: Esri, DeLorme, NAVTEQ, USGS, Intermap, iPC, NRCAN, Esri Japan, METI, Esri China (Hong Kong), Esri (Thailand), TomTom, 2012",
       "base": true,
       "max_zoom": 20,
       "min_zoom": 1,
       "name": "Esri.WoldStreetMap",
       "options": [
        "attribution",
        "detect_retina",
        "max_zoom",
        "min_zoom",
        "tile_size"
       ],
       "url": "http://server.arcgisonline.com/ArcGIS/rest/services/World_Street_Map/MapServer/tile/{z}/{y}/{x}"
      }
     },
     "81de7b7acfe64c60ab6deb877b6ea07e": {
      "model_module": "@jupyter-widgets/controls",
      "model_module_version": "1.4.0",
      "model_name": "DescriptionStyleModel",
      "state": {
       "description_width": ""
      }
     },
     "88341a2121bb4be9ac7a1f5c8771719e": {
      "model_module": "@jupyter-widgets/controls",
      "model_module_version": "1.4.0",
      "model_name": "HTMLModel",
      "state": {
       "layout": "IPY_MODEL_fed65e605451446985d0ce456dd9ec20",
       "style": "IPY_MODEL_ba7f7ac27ebf4778b8d6ade4e80d5393",
       "value": "\n<b> At the Kennedy School, I am reflecting on the regulation and self-regulation that will\nbe most effective in harnessing the benefits of digital technology: </b>  \n<br> - I am a student in Solutions for Technology's Public Dilemmas instructed by former secretary of defense Ash Carter \n<br> - I help organize events and programming tutorials with the Future Society, a student organization focused on emerging policy issues\n\n"
      }
     },
     "893c9448c4a444b8a68253deb90d53af": {
      "model_module": "jupyter-leaflet",
      "model_module_version": "~0.9.1",
      "model_name": "LeafletMapModel",
      "state": {
       "_dom_classes": [],
       "_model_module_version": "~0.9.1",
       "_view_count": null,
       "_view_module_version": "~0.9.1",
       "basemap": {
        "attribution": "Tiles &copy; Esri &mdash; Source: Esri, DeLorme, NAVTEQ, USGS, Intermap, iPC, NRCAN, Esri Japan, METI, Esri China (Hong Kong), Esri (Thailand), TomTom, 2012",
        "max_zoom": 20,
        "name": "Esri.WoldStreetMap",
        "url": "http://server.arcgisonline.com/ArcGIS/rest/services/World_Street_Map/MapServer/tile/{z}/{y}/{x}"
       },
       "center": [
        42.37552029997061,
        -71.11830163747074
       ],
       "east": -71.09725166112186,
       "interpolation": "bilinear",
       "layers": [
        "IPY_MODEL_4779e2af02324ebd85b4c861dc16da38",
        "IPY_MODEL_2199f8b141bb4e858a9304d6aef0e69a",
        "IPY_MODEL_ade672cff9844771bf4128831d190669",
        "IPY_MODEL_2b211253b51b461fbbe8bd86d0eead51"
       ],
       "layout": "IPY_MODEL_7b832057f03e4ec2af2217f18d555b79",
       "modisdate": "yesterday",
       "north": 42.38186066507845,
       "options": [
        "attribution_control",
        "basemap",
        "bounce_at_zoom_limits",
        "box_zoom",
        "center",
        "close_popup_on_click",
        "double_click_zoom",
        "dragging",
        "inertia",
        "inertia_deceleration",
        "inertia_max_speed",
        "interpolation",
        "keyboard",
        "keyboard_pan_offset",
        "keyboard_zoom_offset",
        "max_zoom",
        "min_zoom",
        "scroll_wheel_zoom",
        "tap",
        "tap_tolerance",
        "touch_zoom",
        "world_copy_jump",
        "zoom",
        "zoom_animation_threshold",
        "zoom_control",
        "zoom_start"
       ],
       "south": 42.36917929467472,
       "west": -71.13935161381961,
       "zoom": 15
      }
     },
     "8b063bb9e6c04dbd9fc81ef5a18d2d56": {
      "model_module": "@jupyter-widgets/base",
      "model_module_version": "1.1.0",
      "model_name": "LayoutModel",
      "state": {}
     },
     "8c82df44b2714945beb24ec0b8d484ef": {
      "model_module": "@jupyter-widgets/controls",
      "model_module_version": "1.4.0",
      "model_name": "DescriptionStyleModel",
      "state": {
       "description_width": ""
      }
     },
     "8ced9903004c4e1898afdc800bd1ad32": {
      "model_module": "@jupyter-widgets/base",
      "model_module_version": "1.1.0",
      "model_name": "LayoutModel",
      "state": {}
     },
     "8eafd648f3a740648a2851a49f013185": {
      "model_module": "jupyter-leaflet",
      "model_module_version": "~0.9.1",
      "model_name": "LeafletMarkerModel",
      "state": {
       "_model_module_version": "~0.9.1",
       "_view_count": null,
       "_view_module_version": "~0.9.1",
       "draggable": false,
       "location": [
        42.3782,
        -71.1171
       ],
       "options": [
        "alt",
        "draggable",
        "keyboard",
        "rise_offset",
        "rise_on_hover",
        "rotation_angle",
        "rotation_origin",
        "title",
        "z_index_offset"
       ],
       "popup": "IPY_MODEL_289ec730342347ffa10d180cf6e43759"
      }
     },
     "8f9d44e1d18b492fb951b582219b3091": {
      "model_module": "@jupyter-widgets/controls",
      "model_module_version": "1.4.0",
      "model_name": "HTMLModel",
      "state": {
       "layout": "IPY_MODEL_413234676fb1430399368a28173f7fdc",
       "style": "IPY_MODEL_2d12c337ee274f4b90f64ab998f309de",
       "value": "\n<b> At the Engineering School, I am promoting public interest technology: </b>\n<br> - As a student in the M.Sc. in Data Science Program, I am learning cutting edge techniques in statistics, computer science, and machine learning\n<br> - As a member of the Philantropy Advisory Fellowship, I am applying my statistical modelling skills to identify effective interventions to address the opioid epidemic\n<br> - I am creating a fellowship in public interest data science, to encourage students to apply their skills to social problems and prepare them for these challenges\n\n"
      }
     },
     "9819e46ea6094835b5801155b54fe8b7": {
      "model_module": "@jupyter-widgets/controls",
      "model_module_version": "1.4.0",
      "model_name": "HTMLModel",
      "state": {
       "layout": "IPY_MODEL_d440c3e9c8ee48ceae79fdf7b4b1d21d",
       "style": "IPY_MODEL_29700ba95ddc46bb825a0415e81cc51a",
       "value": "\n<b> At the Kennedy School, I am reflecting on the regulation and self-regulation that will\nbe most effective in harnessing the benefits of digital technology: </b>  \n<br> - I am a student in Solutions for Technology's Public Dilemmas instructed by former secretary of defense Ash Carter \n<br> - I help organize events and programming tutorials with the Future Society, a student organization focused on emerging policy issues\n\n"
      }
     },
     "9914cba84d8e46249667f8d8c9661728": {
      "model_module": "@jupyter-widgets/base",
      "model_module_version": "1.1.0",
      "model_name": "LayoutModel",
      "state": {}
     },
     "9d1491d7d447407ab986f154526a232a": {
      "model_module": "@jupyter-widgets/controls",
      "model_module_version": "1.4.0",
      "model_name": "DescriptionStyleModel",
      "state": {
       "description_width": ""
      }
     },
     "9f7dd7e942484437ab23cd0881dea0c1": {
      "model_module": "@jupyter-widgets/base",
      "model_module_version": "1.1.0",
      "model_name": "LayoutModel",
      "state": {}
     },
     "9fabf24e7e624d6f9a37586a699b3019": {
      "model_module": "jupyter-leaflet",
      "model_module_version": "~0.9.1",
      "model_name": "LeafletMarkerModel",
      "state": {
       "_model_module_version": "~0.9.1",
       "_view_count": null,
       "_view_module_version": "~0.9.1",
       "draggable": false,
       "location": [
        42.3781,
        -71.1188
       ],
       "options": [
        "alt",
        "draggable",
        "keyboard",
        "rise_offset",
        "rise_on_hover",
        "rotation_angle",
        "rotation_origin",
        "title",
        "z_index_offset"
       ],
       "popup": "IPY_MODEL_ad2cd8ce69f94eb3be10ea1b59bbe2d3"
      }
     },
     "a217ddc0a9bd417f8fc8aeb80aef7362": {
      "model_module": "@jupyter-widgets/base",
      "model_module_version": "1.1.0",
      "model_name": "LayoutModel",
      "state": {}
     },
     "a391fb8ca1284c50a175033b29de56b9": {
      "model_module": "jupyter-leaflet",
      "model_module_version": "~0.9.1",
      "model_name": "LeafletTileLayerModel",
      "state": {
       "_model_module_version": "~0.9.1",
       "_view_count": null,
       "_view_module_version": "~0.9.1",
       "attribution": "Tiles &copy; Esri &mdash; National Geographic, Esri, DeLorme, NAVTEQ, UNEP-WCMC, USGS, NASA, ESA, METI, NRCAN, GEBCO, NOAA, iPC",
       "base": true,
       "max_zoom": 16,
       "min_zoom": 1,
       "name": "Esri.NatGeoWorldMap",
       "options": [
        "attribution",
        "detect_retina",
        "max_zoom",
        "min_zoom",
        "tile_size"
       ],
       "url": "http://server.arcgisonline.com/ArcGIS/rest/services/NatGeo_World_Map/MapServer/tile/{z}/{y}/{x}"
      }
     },
     "a39f06eda5a3424a8934852823d706c6": {
      "model_module": "@jupyter-widgets/controls",
      "model_module_version": "1.4.0",
      "model_name": "HTMLModel",
      "state": {
       "layout": "IPY_MODEL_ed6df389498f4b7ebe2ec05799d1f921",
       "style": "IPY_MODEL_8c82df44b2714945beb24ec0b8d484ef",
       "value": "\n<b> At the Law School, I am researching the legal ramifications of artificially intelligent devices: </b>\n<br> - As a research assistant for Sara Gerke, I critically analyzed definitions of AI proposed by U.S. congress\n<br> - As a member of <a href=\"http://techtopia.harvard.edu/\">Techtopia</a>, I participate in bi-weekly interdisciplinary seminars on digital ethics\n"
      }
     },
     "a4e027197c0a46ab846712c821ed72af": {
      "model_module": "jupyter-leaflet",
      "model_module_version": "~0.9.1",
      "model_name": "LeafletMapModel",
      "state": {
       "_dom_classes": [],
       "_model_module_version": "~0.9.1",
       "_view_count": null,
       "_view_module_version": "~0.9.1",
       "basemap": {
        "attribution": "Tiles &copy; Esri &mdash; Esri, DeLorme, NAVTEQ, TomTom, Intermap, iPC, USGS, FAO, NPS, NRCAN, GeoBase, Kadaster NL, Ordnance Survey, Esri Japan, METI, Esri China (Hong Kong), and the GIS User Community",
        "max_zoom": 20,
        "name": "Esri.WorldTopoMap",
        "url": "http://server.arcgisonline.com/ArcGIS/rest/services/World_Topo_Map/MapServer/tile/{z}/{y}/{x}"
       },
       "center": [
        42.376,
        -71.1167
       ],
       "east": -71.09566211700441,
       "interpolation": "bilinear",
       "layers": [
        "IPY_MODEL_cb1f738a597a4214859e74247b9f1feb",
        "IPY_MODEL_b48c6a48ca05477cbbebbc07a5666c1c",
        "IPY_MODEL_63836ac29d784361bb132ca892dbe9ac",
        "IPY_MODEL_8eafd648f3a740648a2851a49f013185"
       ],
       "layout": "IPY_MODEL_68d1226dadb44a88b4918132be6a7b04",
       "modisdate": "yesterday",
       "north": 42.38235511234488,
       "options": [
        "attribution_control",
        "basemap",
        "bounce_at_zoom_limits",
        "box_zoom",
        "center",
        "close_popup_on_click",
        "double_click_zoom",
        "dragging",
        "inertia",
        "inertia_deceleration",
        "inertia_max_speed",
        "interpolation",
        "keyboard",
        "keyboard_pan_offset",
        "keyboard_zoom_offset",
        "max_zoom",
        "min_zoom",
        "scroll_wheel_zoom",
        "tap",
        "tap_tolerance",
        "touch_zoom",
        "world_copy_jump",
        "zoom",
        "zoom_animation_threshold",
        "zoom_control",
        "zoom_start"
       ],
       "south": 42.36967384179557,
       "west": -71.13776206970216,
       "zoom": 15
      }
     },
     "a508e5751d7f4a4997446501cdc1871f": {
      "model_module": "@jupyter-widgets/controls",
      "model_module_version": "1.4.0",
      "model_name": "DescriptionStyleModel",
      "state": {
       "description_width": ""
      }
     },
     "a68db0f26bd14228abdccd15946e7f44": {
      "model_module": "@jupyter-widgets/base",
      "model_module_version": "1.1.0",
      "model_name": "LayoutModel",
      "state": {}
     },
     "a6f21019f2174f8d84788a0692556777": {
      "model_module": "@jupyter-widgets/base",
      "model_module_version": "1.1.0",
      "model_name": "LayoutModel",
      "state": {}
     },
     "a705e088d0a642f5b7518c572e6e3297": {
      "model_module": "jupyter-leaflet",
      "model_module_version": "~0.9.1",
      "model_name": "LeafletMarkerModel",
      "state": {
       "_model_module_version": "~0.9.1",
       "_view_count": null,
       "_view_module_version": "~0.9.1",
       "draggable": false,
       "location": [
        42.3714,
        -71.122
       ],
       "options": [
        "alt",
        "draggable",
        "keyboard",
        "rise_offset",
        "rise_on_hover",
        "rotation_angle",
        "rotation_origin",
        "title",
        "z_index_offset"
       ],
       "popup": "IPY_MODEL_f3258ce22f874839b9b9fcf1b5a44430",
       "rise_on_hover": true
      }
     },
     "a80ff7e9223545a49ee978f7e3d9802b": {
      "model_module": "@jupyter-widgets/base",
      "model_module_version": "1.1.0",
      "model_name": "LayoutModel",
      "state": {}
     },
     "a8c646c3dfa54767974dc6db4e6eeb55": {
      "model_module": "@jupyter-widgets/base",
      "model_module_version": "1.1.0",
      "model_name": "LayoutModel",
      "state": {}
     },
     "a9033125f53d418192533d0907ae763f": {
      "model_module": "@jupyter-widgets/controls",
      "model_module_version": "1.4.0",
      "model_name": "DescriptionStyleModel",
      "state": {
       "description_width": ""
      }
     },
     "a9824664ade046b4b8ae9356e78a4628": {
      "model_module": "jupyter-leaflet",
      "model_module_version": "~0.9.1",
      "model_name": "LeafletMarkerModel",
      "state": {
       "_model_module_version": "~0.9.1",
       "_view_count": null,
       "_view_module_version": "~0.9.1",
       "draggable": false,
       "location": [
        42.3782,
        -71.1171
       ],
       "options": [
        "alt",
        "draggable",
        "keyboard",
        "rise_offset",
        "rise_on_hover",
        "rotation_angle",
        "rotation_origin",
        "title",
        "z_index_offset"
       ],
       "popup": "IPY_MODEL_aec95d6f42cd46cf8bb327bfb818795b"
      }
     },
     "a9f66586c91b442dbdf2aa987f8dd1cb": {
      "model_module": "@jupyter-widgets/base",
      "model_module_version": "1.1.0",
      "model_name": "LayoutModel",
      "state": {}
     },
     "ad2cd8ce69f94eb3be10ea1b59bbe2d3": {
      "model_module": "@jupyter-widgets/controls",
      "model_module_version": "1.4.0",
      "model_name": "HTMLModel",
      "state": {
       "layout": "IPY_MODEL_7ca12286ad72462e86612cda7dd953f4",
       "style": "IPY_MODEL_2e5a53683100488ebebfb83f73ff0aa6",
       "value": "\n<b> At the Law School, I am researching the legal ramifications of artificially intelligent devices: </b>\n<br> - As a research assistant for Sara Gerke, I critically analyzed definitions of AI proposed by U.S. congress\n<br> - As a member of <a href=\"http://techtopia.harvard.edu/\">Techtopia</a>, I participate in bi-weekly interdisciplinary seminars on digital ethics\n"
      }
     },
     "adaee502c8974320a94231fb82eaaa36": {
      "model_module": "jupyter-leaflet",
      "model_module_version": "~0.9.1",
      "model_name": "LeafletTileLayerModel",
      "state": {
       "_model_module_version": "~0.9.1",
       "_view_count": null,
       "_view_module_version": "~0.9.1",
       "attribution": "&copy; <a href=\"http://www.openstreetmap.org/copyright\">OpenStreetMap</a> &amp; USGS",
       "base": true,
       "max_zoom": 20,
       "min_zoom": 1,
       "name": "CartoDB.Positron",
       "options": [
        "attribution",
        "detect_retina",
        "max_zoom",
        "min_zoom",
        "tile_size"
       ],
       "url": "http://tile.mtbmap.cz/mtbmap_tiles/{z}/{x}/{y}.png"
      }
     },
     "adb8301e359b4e68b53da231a4828ec8": {
      "model_module": "jupyter-leaflet",
      "model_module_version": "~0.9.1",
      "model_name": "LeafletTileLayerModel",
      "state": {
       "_model_module_version": "~0.9.1",
       "_view_count": null,
       "_view_module_version": "~0.9.1",
       "attribution": "Tiles &copy; Esri &mdash; Source: Esri, DeLorme, NAVTEQ, USGS, Intermap, iPC, NRCAN, Esri Japan, METI, Esri China (Hong Kong), Esri (Thailand), TomTom, 2012",
       "base": true,
       "max_zoom": 20,
       "min_zoom": 1,
       "name": "Esri.WoldStreetMap",
       "options": [
        "attribution",
        "detect_retina",
        "max_zoom",
        "min_zoom",
        "tile_size"
       ],
       "url": "http://server.arcgisonline.com/ArcGIS/rest/services/World_Street_Map/MapServer/tile/{z}/{y}/{x}"
      }
     },
     "ade672cff9844771bf4128831d190669": {
      "model_module": "jupyter-leaflet",
      "model_module_version": "~0.9.1",
      "model_name": "LeafletMarkerModel",
      "state": {
       "_model_module_version": "~0.9.1",
       "_view_count": null,
       "_view_module_version": "~0.9.1",
       "draggable": false,
       "location": [
        42.3781,
        -71.1188
       ],
       "options": [
        "alt",
        "draggable",
        "keyboard",
        "rise_offset",
        "rise_on_hover",
        "rotation_angle",
        "rotation_origin",
        "title",
        "z_index_offset"
       ],
       "popup": "IPY_MODEL_32a9d203c4d84088b0f464f0f0711aca"
      }
     },
     "aec95d6f42cd46cf8bb327bfb818795b": {
      "model_module": "@jupyter-widgets/controls",
      "model_module_version": "1.4.0",
      "model_name": "HTMLModel",
      "state": {
       "layout": "IPY_MODEL_02c91e4a60b74754a4343c20a9a79258",
       "style": "IPY_MODEL_46a00f2dd3df486b92ffefbc2fdf0b1e",
       "value": "\n<b> At the Engineering School, I am promoting public interest technology: </b>\n<br> - I am creating a fellowship in public interest data science, which will encourage students to apply their skills to social problems and help prepare them for these challenges\n<br> - As a student in the M.Sc. in Data Science program, I am learning cutting edge techniques in statistics, computer science, and machine learning\n<br> - As a member of the Philantropy Advisory Fellowship, I am applying my statistical modelling skills to identify effective interventions to address the opioid epidemic\n"
      }
     },
     "afa6d7af6d4e4af3a84e346e02179cd8": {
      "model_module": "@jupyter-widgets/base",
      "model_module_version": "1.1.0",
      "model_name": "LayoutModel",
      "state": {}
     },
     "b22700391df34fefaa59454a02e8d8dd": {
      "model_module": "@jupyter-widgets/base",
      "model_module_version": "1.1.0",
      "model_name": "LayoutModel",
      "state": {}
     },
     "b48c6a48ca05477cbbebbc07a5666c1c": {
      "model_module": "jupyter-leaflet",
      "model_module_version": "~0.9.1",
      "model_name": "LeafletMarkerModel",
      "state": {
       "_model_module_version": "~0.9.1",
       "_view_count": null,
       "_view_module_version": "~0.9.1",
       "draggable": false,
       "location": [
        42.3714,
        -71.122
       ],
       "options": [
        "alt",
        "draggable",
        "keyboard",
        "rise_offset",
        "rise_on_hover",
        "rotation_angle",
        "rotation_origin",
        "title",
        "z_index_offset"
       ],
       "popup": "IPY_MODEL_6fd367c52cb14aaeb1919390eb1ea545",
       "rise_on_hover": true
      }
     },
     "b624f7c56ad44dc68e376cc2ccfe4d3c": {
      "model_module": "@jupyter-widgets/controls",
      "model_module_version": "1.4.0",
      "model_name": "DescriptionStyleModel",
      "state": {
       "description_width": ""
      }
     },
     "b821252208ee431ea1c38c8be2eb5343": {
      "model_module": "jupyter-leaflet",
      "model_module_version": "~0.9.1",
      "model_name": "LeafletMapModel",
      "state": {
       "_dom_classes": [],
       "_model_module_version": "~0.9.1",
       "_view_count": null,
       "_view_module_version": "~0.9.1",
       "basemap": {
        "attribution": "Tiles &copy; Esri &mdash; Source: Esri, DeLorme, NAVTEQ, USGS, Intermap, iPC, NRCAN, Esri Japan, METI, Esri China (Hong Kong), Esri (Thailand), TomTom, 2012",
        "max_zoom": 20,
        "name": "Esri.WoldStreetMap",
        "url": "http://server.arcgisonline.com/ArcGIS/rest/services/World_Street_Map/MapServer/tile/{z}/{y}/{x}"
       },
       "center": [
        42.376,
        -71.1167
       ],
       "east": -71.09566211700441,
       "interpolation": "bilinear",
       "layers": [
        "IPY_MODEL_6eb9d3326faa41bd9c1ad84118d46de2",
        "IPY_MODEL_240ca9d8af3c4d8e97d51658018d51a2",
        "IPY_MODEL_0cbb0424430441e98d56cf27bcfd8404",
        "IPY_MODEL_bd28f515004d4843985f7e863ba12414"
       ],
       "layout": "IPY_MODEL_04085f46b2334255a7a5c6c30b6cbbf3",
       "modisdate": "yesterday",
       "north": 42.38235511234488,
       "options": [
        "attribution_control",
        "basemap",
        "bounce_at_zoom_limits",
        "box_zoom",
        "center",
        "close_popup_on_click",
        "double_click_zoom",
        "dragging",
        "inertia",
        "inertia_deceleration",
        "inertia_max_speed",
        "interpolation",
        "keyboard",
        "keyboard_pan_offset",
        "keyboard_zoom_offset",
        "max_zoom",
        "min_zoom",
        "scroll_wheel_zoom",
        "tap",
        "tap_tolerance",
        "touch_zoom",
        "world_copy_jump",
        "zoom",
        "zoom_animation_threshold",
        "zoom_control",
        "zoom_start"
       ],
       "south": 42.36967384179557,
       "west": -71.13776206970216,
       "zoom": 15
      }
     },
     "b857c9c9429c46d3afdc6218591156f4": {
      "model_module": "@jupyter-widgets/base",
      "model_module_version": "1.1.0",
      "model_name": "LayoutModel",
      "state": {}
     },
     "b91de508dd3a40a8abf455e9fb47cb33": {
      "model_module": "@jupyter-widgets/controls",
      "model_module_version": "1.4.0",
      "model_name": "HTMLModel",
      "state": {
       "layout": "IPY_MODEL_64c01fcbb8d54abc972fc9a369969b16",
       "style": "IPY_MODEL_9d1491d7d447407ab986f154526a232a",
       "value": "\n<b> At the Kennedy School, I am reflecting on the regulation and self-regulation that will\nbe most effective in harnessing the benefits of digital technology: </b>  \n<br> - I am a student in Solutions for Technology's Public Dilemmas instructed by former secretary of defense Ash Carter \n<br> - I help organize events and programming tutorials with the Future Society, a student organization focused on emerging policy issues\n\n"
      }
     },
     "ba7f7ac27ebf4778b8d6ade4e80d5393": {
      "model_module": "@jupyter-widgets/controls",
      "model_module_version": "1.4.0",
      "model_name": "DescriptionStyleModel",
      "state": {
       "description_width": ""
      }
     },
     "baa23b6d18604d3197211ed5a5f3ac4a": {
      "model_module": "@jupyter-widgets/base",
      "model_module_version": "1.1.0",
      "model_name": "LayoutModel",
      "state": {}
     },
     "bc2a61225acf420ab41ca6664c723a26": {
      "model_module": "@jupyter-widgets/controls",
      "model_module_version": "1.4.0",
      "model_name": "DescriptionStyleModel",
      "state": {
       "description_width": ""
      }
     },
     "bd28f515004d4843985f7e863ba12414": {
      "model_module": "jupyter-leaflet",
      "model_module_version": "~0.9.1",
      "model_name": "LeafletMarkerModel",
      "state": {
       "_model_module_version": "~0.9.1",
       "_view_count": null,
       "_view_module_version": "~0.9.1",
       "draggable": false,
       "location": [
        42.3782,
        -71.1171
       ],
       "options": [
        "alt",
        "draggable",
        "keyboard",
        "rise_offset",
        "rise_on_hover",
        "rotation_angle",
        "rotation_origin",
        "title",
        "z_index_offset"
       ],
       "popup": "IPY_MODEL_8f9d44e1d18b492fb951b582219b3091"
      }
     },
     "bd47371fd47b4f35955d8d7eee75cfe5": {
      "model_module": "jupyter-leaflet",
      "model_module_version": "~0.9.1",
      "model_name": "LeafletMarkerModel",
      "state": {
       "_model_module_version": "~0.9.1",
       "_view_count": null,
       "_view_module_version": "~0.9.1",
       "draggable": false,
       "location": [
        42.3781,
        -71.1188
       ],
       "options": [
        "alt",
        "draggable",
        "keyboard",
        "rise_offset",
        "rise_on_hover",
        "rotation_angle",
        "rotation_origin",
        "title",
        "z_index_offset"
       ],
       "popup": "IPY_MODEL_4c401f7510d9475c9fef6d151602aa2e"
      }
     },
     "be02ad26555b46c381b9450401c4444a": {
      "model_module": "@jupyter-widgets/controls",
      "model_module_version": "1.4.0",
      "model_name": "DescriptionStyleModel",
      "state": {
       "description_width": ""
      }
     },
     "c164a32619514a368ad28a49e4562323": {
      "model_module": "@jupyter-widgets/controls",
      "model_module_version": "1.4.0",
      "model_name": "DescriptionStyleModel",
      "state": {
       "description_width": ""
      }
     },
     "c28552ae06a34e729edfae0fdad31b14": {
      "model_module": "jupyter-leaflet",
      "model_module_version": "~0.9.1",
      "model_name": "LeafletMapModel",
      "state": {
       "_dom_classes": [],
       "_model_module_version": "~0.9.1",
       "_view_count": null,
       "_view_module_version": "~0.9.1",
       "basemap": {
        "attribution": "&copy; <a href=\"http://www.openstreetmap.org/copyright\">OpenStreetMap</a> &amp; USGS",
        "max_zoom": 20,
        "name": "CartoDB.Positron",
        "url": "http://tile.mtbmap.cz/mtbmap_tiles/{z}/{x}/{y}.png"
       },
       "center": [
        48.6977589603096,
        23.18527221679688
       ],
       "east": 109.40597534179689,
       "interpolation": "bilinear",
       "layers": [
        "IPY_MODEL_adaee502c8974320a94231fb82eaaa36",
        "IPY_MODEL_a705e088d0a642f5b7518c572e6e3297",
        "IPY_MODEL_767c9546e78f4cbeae2feb3fd8bbc6a3",
        "IPY_MODEL_d059cf16af1143a989cc045dbf15d710"
       ],
       "layout": "IPY_MODEL_8ced9903004c4e1898afdc800bd1ad32",
       "modisdate": "yesterday",
       "north": 66.93409590164389,
       "options": [
        "attribution_control",
        "basemap",
        "bounce_at_zoom_limits",
        "box_zoom",
        "center",
        "close_popup_on_click",
        "double_click_zoom",
        "dragging",
        "inertia",
        "inertia_deceleration",
        "inertia_max_speed",
        "interpolation",
        "keyboard",
        "keyboard_pan_offset",
        "keyboard_zoom_offset",
        "max_zoom",
        "min_zoom",
        "scroll_wheel_zoom",
        "tap",
        "tap_tolerance",
        "touch_zoom",
        "world_copy_jump",
        "zoom",
        "zoom_animation_threshold",
        "zoom_control",
        "zoom_start"
       ],
       "south": 20.313076962381277,
       "west": -63.03543090820313,
       "zoom": 3
      }
     },
     "c353ac4c2dd94ac9af9a87573b55376b": {
      "model_module": "jupyter-leaflet",
      "model_module_version": "~0.9.1",
      "model_name": "LeafletMarkerModel",
      "state": {
       "_model_module_version": "~0.9.1",
       "_view_count": null,
       "_view_module_version": "~0.9.1",
       "draggable": false,
       "location": [
        42.3714,
        -71.122
       ],
       "options": [
        "alt",
        "draggable",
        "keyboard",
        "rise_offset",
        "rise_on_hover",
        "rotation_angle",
        "rotation_origin",
        "title",
        "z_index_offset"
       ],
       "popup": "IPY_MODEL_88341a2121bb4be9ac7a1f5c8771719e",
       "rise_on_hover": true
      }
     },
     "c4d03a6f32594e2cb0035b943f9d3dbe": {
      "model_module": "jupyter-leaflet",
      "model_module_version": "~0.9.1",
      "model_name": "LeafletMarkerModel",
      "state": {
       "_model_module_version": "~0.9.1",
       "_view_count": null,
       "_view_module_version": "~0.9.1",
       "draggable": false,
       "location": [
        42.3781,
        -71.1188
       ],
       "options": [
        "alt",
        "draggable",
        "keyboard",
        "rise_offset",
        "rise_on_hover",
        "rotation_angle",
        "rotation_origin",
        "title",
        "z_index_offset"
       ],
       "popup": "IPY_MODEL_ee6297fc558f4c278fe2ed9ea4962305"
      }
     },
     "c53152eaab2d4851ad74ca2efda5022a": {
      "model_module": "@jupyter-widgets/base",
      "model_module_version": "1.1.0",
      "model_name": "LayoutModel",
      "state": {}
     },
     "c7810af2c1b7467bb54ecf6768266dd2": {
      "model_module": "@jupyter-widgets/base",
      "model_module_version": "1.1.0",
      "model_name": "LayoutModel",
      "state": {}
     },
     "c7f25cd717c1486b8ef8d0b30cc41350": {
      "model_module": "@jupyter-widgets/base",
      "model_module_version": "1.1.0",
      "model_name": "LayoutModel",
      "state": {}
     },
     "c801db2a0464404593ec3482f732b7aa": {
      "model_module": "@jupyter-widgets/controls",
      "model_module_version": "1.4.0",
      "model_name": "DescriptionStyleModel",
      "state": {
       "description_width": ""
      }
     },
     "cb1f738a597a4214859e74247b9f1feb": {
      "model_module": "jupyter-leaflet",
      "model_module_version": "~0.9.1",
      "model_name": "LeafletTileLayerModel",
      "state": {
       "_model_module_version": "~0.9.1",
       "_view_count": null,
       "_view_module_version": "~0.9.1",
       "attribution": "Tiles &copy; Esri &mdash; Esri, DeLorme, NAVTEQ, TomTom, Intermap, iPC, USGS, FAO, NPS, NRCAN, GeoBase, Kadaster NL, Ordnance Survey, Esri Japan, METI, Esri China (Hong Kong), and the GIS User Community",
       "base": true,
       "max_zoom": 20,
       "min_zoom": 1,
       "name": "Esri.WorldTopoMap",
       "options": [
        "attribution",
        "detect_retina",
        "max_zoom",
        "min_zoom",
        "tile_size"
       ],
       "url": "http://server.arcgisonline.com/ArcGIS/rest/services/World_Topo_Map/MapServer/tile/{z}/{y}/{x}"
      }
     },
     "cb6c5f41200d411296547a9d9fd3f6b1": {
      "model_module": "@jupyter-widgets/controls",
      "model_module_version": "1.4.0",
      "model_name": "HTMLModel",
      "state": {
       "layout": "IPY_MODEL_166c6c467b2149038b4cac6ed5ebf088",
       "style": "IPY_MODEL_dbf6994430c444679f0d056b2896abe6",
       "value": "\n<b> At the Kennedy School, I am reflecting on the regulation and self-regulation that will\nbe most effective in harnessing the benefits of digital technology: </b>  \n<br> - I am a student in Solutions for Technology's Public Dilemmas instructed by former secretary of defense Ash Carter \n<br> - I help organize events and programming tutorials with the Future Society, a student organization focused on emerging policy issues\n\n"
      }
     },
     "cbd2d18068464d768d5c246414d4e37b": {
      "model_module": "jupyter-leaflet",
      "model_module_version": "~0.9.1",
      "model_name": "LeafletMarkerModel",
      "state": {
       "_model_module_version": "~0.9.1",
       "_view_count": null,
       "_view_module_version": "~0.9.1",
       "draggable": false,
       "location": [
        42.3714,
        -71.122
       ],
       "options": [
        "alt",
        "draggable",
        "keyboard",
        "rise_offset",
        "rise_on_hover",
        "rotation_angle",
        "rotation_origin",
        "title",
        "z_index_offset"
       ],
       "popup": "IPY_MODEL_b91de508dd3a40a8abf455e9fb47cb33",
       "rise_on_hover": true
      }
     },
     "cc4f22b66621429fbd3a50df8d618d57": {
      "model_module": "@jupyter-widgets/base",
      "model_module_version": "1.1.0",
      "model_name": "LayoutModel",
      "state": {}
     },
     "cdf5f80d86ec45b299fd6a71c164cd26": {
      "model_module": "@jupyter-widgets/controls",
      "model_module_version": "1.4.0",
      "model_name": "HTMLModel",
      "state": {
       "layout": "IPY_MODEL_a217ddc0a9bd417f8fc8aeb80aef7362",
       "style": "IPY_MODEL_a508e5751d7f4a4997446501cdc1871f",
       "value": "\n<b> At the Law School, I am researching the legal ramifications of artificially intelligent devices: </b>\n<br> - As a research assistant for Sara Gerke, I critically analyzed definitions of AI proposed by U.S. congress\n<br> - As a member of <a href=\"http://techtopia.harvard.edu/\">Techtopia</a>, I participate in bi-weekly interdisciplinary seminars on digital ethics\n"
      }
     },
     "cf1178a9d1144df39439cf680ffde508": {
      "model_module": "jupyter-leaflet",
      "model_module_version": "~0.9.1",
      "model_name": "LeafletTileLayerModel",
      "state": {
       "_model_module_version": "~0.9.1",
       "_view_count": null,
       "_view_module_version": "~0.9.1",
       "attribution": "Tiles &copy; Esri &mdash; National Geographic, Esri, DeLorme, NAVTEQ, UNEP-WCMC, USGS, NASA, ESA, METI, NRCAN, GEBCO, NOAA, iPC",
       "base": true,
       "max_zoom": 16,
       "min_zoom": 1,
       "name": "Esri.NatGeoWorldMap",
       "options": [
        "attribution",
        "detect_retina",
        "max_zoom",
        "min_zoom",
        "tile_size"
       ],
       "url": "http://server.arcgisonline.com/ArcGIS/rest/services/NatGeo_World_Map/MapServer/tile/{z}/{y}/{x}"
      }
     },
     "d059cf16af1143a989cc045dbf15d710": {
      "model_module": "jupyter-leaflet",
      "model_module_version": "~0.9.1",
      "model_name": "LeafletMarkerModel",
      "state": {
       "_model_module_version": "~0.9.1",
       "_view_count": null,
       "_view_module_version": "~0.9.1",
       "draggable": false,
       "location": [
        42.3782,
        -71.1171
       ],
       "options": [
        "alt",
        "draggable",
        "keyboard",
        "rise_offset",
        "rise_on_hover",
        "rotation_angle",
        "rotation_origin",
        "title",
        "z_index_offset"
       ],
       "popup": "IPY_MODEL_076a32fbf2684f1d92d7fff52a692a10"
      }
     },
     "d440c3e9c8ee48ceae79fdf7b4b1d21d": {
      "model_module": "@jupyter-widgets/base",
      "model_module_version": "1.1.0",
      "model_name": "LayoutModel",
      "state": {}
     },
     "d595651da58a4bd9998f1a5ee172a54d": {
      "model_module": "@jupyter-widgets/controls",
      "model_module_version": "1.4.0",
      "model_name": "DescriptionStyleModel",
      "state": {
       "description_width": ""
      }
     },
     "d998af5ef96e4bd4bbbde76632bd8ecd": {
      "model_module": "@jupyter-widgets/controls",
      "model_module_version": "1.4.0",
      "model_name": "HTMLModel",
      "state": {
       "layout": "IPY_MODEL_8b063bb9e6c04dbd9fc81ef5a18d2d56",
       "style": "IPY_MODEL_c164a32619514a368ad28a49e4562323",
       "value": "\n<b> At the Engineering School, I am promoting public interest technology: </b>\n<br> - I am creating a fellowship in public interest data science, which will encourage students to apply their skills to social problems and help prepare them for these challenges\n<br> - As a student in the M.Sc. in Data Science program, I am learning cutting edge techniques in statistics, computer science, and machine learning\n<br> - As a member of the Philantropy Advisory Fellowship, I am applying my statistical modelling skills to identify effective interventions to address the opioid epidemic\n"
      }
     },
     "da5464ed9deb4d19b66b4860e27af33c": {
      "model_module": "@jupyter-widgets/controls",
      "model_module_version": "1.4.0",
      "model_name": "DescriptionStyleModel",
      "state": {
       "description_width": ""
      }
     },
     "dbf6994430c444679f0d056b2896abe6": {
      "model_module": "@jupyter-widgets/controls",
      "model_module_version": "1.4.0",
      "model_name": "DescriptionStyleModel",
      "state": {
       "description_width": ""
      }
     },
     "dc9ec891df414b25a9cc6af9af24929b": {
      "model_module": "@jupyter-widgets/controls",
      "model_module_version": "1.4.0",
      "model_name": "DescriptionStyleModel",
      "state": {
       "description_width": ""
      }
     },
     "dede9a67cc754fd18758ed2f113acd4b": {
      "model_module": "@jupyter-widgets/controls",
      "model_module_version": "1.4.0",
      "model_name": "HTMLModel",
      "state": {
       "layout": "IPY_MODEL_b857c9c9429c46d3afdc6218591156f4",
       "style": "IPY_MODEL_4832de96cba640d6961e6602f5ceb7f0",
       "value": "\n<b> At the Law School, I am researching the legal ramifications of artificially intelligent devices: </b>\n<br> - As a research assistant for Sara Gerke, I study the implications of medical device regulation \non machine learning used in healthcare settings\n<br> - As a member of Techtopia, I participate in bi-weekly interdisciplinary seminars on digital ethics\n"
      }
     },
     "dfb2b8cbee674ba28f07e9a5605c9bdb": {
      "model_module": "@jupyter-widgets/controls",
      "model_module_version": "1.4.0",
      "model_name": "DescriptionStyleModel",
      "state": {
       "description_width": ""
      }
     },
     "dfdfe6ab8e4c42819c67904ced967039": {
      "model_module": "@jupyter-widgets/base",
      "model_module_version": "1.1.0",
      "model_name": "LayoutModel",
      "state": {}
     },
     "e16722ef3b134d558a67659a7d85747c": {
      "model_module": "@jupyter-widgets/controls",
      "model_module_version": "1.4.0",
      "model_name": "HTMLModel",
      "state": {
       "layout": "IPY_MODEL_2e9c138dd77146369230d05461c2bb43",
       "style": "IPY_MODEL_625da6c762bb4c2ea9e67b30e882790c",
       "value": "\n<b> At the Kennedy School, I am reflecting on the regulation and self-regulation that will\nbe most effective in harnessing the benefits of digital technology: </b>  \n<br> - I am a student in Solutions for Technology's Public Dilemmas instructed by former secretary of defense Ash Carter \n<br> - I help organize events and programming tutorials with the Future Society, a student organization focused on emerging policy issues\n\n"
      }
     },
     "e2dfb1aa6fb24dcab09a756e9b569c22": {
      "model_module": "@jupyter-widgets/controls",
      "model_module_version": "1.4.0",
      "model_name": "HTMLModel",
      "state": {
       "layout": "IPY_MODEL_7572083203884e978e156deea14b17e3",
       "style": "IPY_MODEL_5cdcb17443d343a8a40242805db51b69",
       "value": "\n<b> At the Engineering School, I am promoting public interest technology: </b>\n<br> - As a student in the M.Sc. in Data Science Program, I am learning cutting edge techniques in statistics, computer science, and machine learning\n<br> - As a member of the Philantropy Advisory Fellowship, I am applying my statistical modelling skills to identify effective interventions to address the opioid epidemic\n<br> - I am creating a fellowship in public interest data science, to encourage students to apply their skills to social problems and prepare them for these challenges\n\n"
      }
     },
     "e4de3d69ccb54e6781a90d9045a54ee1": {
      "model_module": "@jupyter-widgets/controls",
      "model_module_version": "1.4.0",
      "model_name": "DescriptionStyleModel",
      "state": {
       "description_width": ""
      }
     },
     "e4e40ce71fad470bae3c3a0c3d5f8d9f": {
      "model_module": "@jupyter-widgets/base",
      "model_module_version": "1.1.0",
      "model_name": "LayoutModel",
      "state": {}
     },
     "e70ed84aca194d6e97bcd00dad40c914": {
      "model_module": "@jupyter-widgets/controls",
      "model_module_version": "1.4.0",
      "model_name": "HTMLModel",
      "state": {
       "layout": "IPY_MODEL_9914cba84d8e46249667f8d8c9661728",
       "style": "IPY_MODEL_d595651da58a4bd9998f1a5ee172a54d",
       "value": "\n<b> At the Law School, I am researching the legal ramifications of artificially intelligent devices: </b>\n<br> - As a research assistant for Sara Gerke, I critically analyzed definitions of AI proposed by U.S. congress\n<br> - As a member of <a href=\"http://techtopia.harvard.edu/\">Techtopia</a>, I participate in bi-weekly interdisciplinary seminars on digital ethics\n"
      }
     },
     "e897ed56efb4427591c7731c23aa4c82": {
      "model_module": "@jupyter-widgets/controls",
      "model_module_version": "1.4.0",
      "model_name": "DescriptionStyleModel",
      "state": {
       "description_width": ""
      }
     },
     "e9c40db2d76146f7b3990c259e354044": {
      "model_module": "jupyter-leaflet",
      "model_module_version": "~0.9.1",
      "model_name": "LeafletMarkerModel",
      "state": {
       "_model_module_version": "~0.9.1",
       "_view_count": null,
       "_view_module_version": "~0.9.1",
       "draggable": false,
       "location": [
        42.3782,
        -71.1171
       ],
       "options": [
        "alt",
        "draggable",
        "keyboard",
        "rise_offset",
        "rise_on_hover",
        "rotation_angle",
        "rotation_origin",
        "title",
        "z_index_offset"
       ],
       "popup": "IPY_MODEL_098afa6000f0422aa9c89589355fd61f"
      }
     },
     "eabab5cd29434abaa9078ff833b2f637": {
      "model_module": "jupyter-leaflet",
      "model_module_version": "~0.9.1",
      "model_name": "LeafletMarkerModel",
      "state": {
       "_model_module_version": "~0.9.1",
       "_view_count": null,
       "_view_module_version": "~0.9.1",
       "draggable": false,
       "location": [
        42.3714,
        -71.122
       ],
       "options": [
        "alt",
        "draggable",
        "keyboard",
        "rise_offset",
        "rise_on_hover",
        "rotation_angle",
        "rotation_origin",
        "title",
        "z_index_offset"
       ],
       "popup": "IPY_MODEL_628a2eecce3044d0bf60782d2e008c05",
       "rise_on_hover": true
      }
     },
     "eb4807ebda904c078054545db5bdc3ff": {
      "model_module": "jupyter-leaflet",
      "model_module_version": "~0.9.1",
      "model_name": "LeafletTileLayerModel",
      "state": {
       "_model_module_version": "~0.9.1",
       "_view_count": null,
       "_view_module_version": "~0.9.1",
       "attribution": "Tiles &copy; Esri &mdash; National Geographic, Esri, DeLorme, NAVTEQ, UNEP-WCMC, USGS, NASA, ESA, METI, NRCAN, GEBCO, NOAA, iPC",
       "base": true,
       "max_zoom": 16,
       "min_zoom": 1,
       "name": "Esri.NatGeoWorldMap",
       "options": [
        "attribution",
        "detect_retina",
        "max_zoom",
        "min_zoom",
        "tile_size"
       ],
       "url": "http://server.arcgisonline.com/ArcGIS/rest/services/NatGeo_World_Map/MapServer/tile/{z}/{y}/{x}"
      }
     },
     "eb4cc7e4878a4772b4c466c5889a57c7": {
      "model_module": "@jupyter-widgets/controls",
      "model_module_version": "1.4.0",
      "model_name": "HTMLModel",
      "state": {
       "layout": "IPY_MODEL_3619bbf174e6472593195bce3852f6a0",
       "style": "IPY_MODEL_5c26ae5fd58a4f4bb1522fd001945745",
       "value": "\n<b> At the Law School, I am researching the legal ramifications of artificially intelligent devices: </b>\n<br> - As a research assistant for Sara Gerke, I critically analyzed definitions of AI proposed by U.S. congress\n<br> - As a member of <a href=\"http://techtopia.harvard.edu/\">Techtopia</a>, I participate in bi-weekly interdisciplinary seminars on digital ethics\n"
      }
     },
     "ecf8d7441cb940848a5eb6aab0f0c7eb": {
      "model_module": "jupyter-leaflet",
      "model_module_version": "~0.9.1",
      "model_name": "LeafletMarkerModel",
      "state": {
       "_model_module_version": "~0.9.1",
       "_view_count": null,
       "_view_module_version": "~0.9.1",
       "draggable": false,
       "location": [
        42.3781,
        -71.1188
       ],
       "options": [
        "alt",
        "draggable",
        "keyboard",
        "rise_offset",
        "rise_on_hover",
        "rotation_angle",
        "rotation_origin",
        "title",
        "z_index_offset"
       ],
       "popup": "IPY_MODEL_eb4cc7e4878a4772b4c466c5889a57c7"
      }
     },
     "ed6df389498f4b7ebe2ec05799d1f921": {
      "model_module": "@jupyter-widgets/base",
      "model_module_version": "1.1.0",
      "model_name": "LayoutModel",
      "state": {}
     },
     "edbc462c9416446cbeefe131151f8fdb": {
      "model_module": "jupyter-leaflet",
      "model_module_version": "~0.9.1",
      "model_name": "LeafletMarkerModel",
      "state": {
       "_model_module_version": "~0.9.1",
       "_view_count": null,
       "_view_module_version": "~0.9.1",
       "draggable": false,
       "location": [
        42.3714,
        -71.122
       ],
       "options": [
        "alt",
        "draggable",
        "keyboard",
        "rise_offset",
        "rise_on_hover",
        "rotation_angle",
        "rotation_origin",
        "title",
        "z_index_offset"
       ],
       "popup": "IPY_MODEL_9819e46ea6094835b5801155b54fe8b7",
       "rise_on_hover": true
      }
     },
     "ee6297fc558f4c278fe2ed9ea4962305": {
      "model_module": "@jupyter-widgets/controls",
      "model_module_version": "1.4.0",
      "model_name": "HTMLModel",
      "state": {
       "layout": "IPY_MODEL_b22700391df34fefaa59454a02e8d8dd",
       "style": "IPY_MODEL_49f778c5237e4e5fa85c98e84d49cd70",
       "value": "\n<b> At the Law School, I am researching the legal ramifications of artificially intelligent devices: </b>\n<br> - As a research assistant for Sara Gerke, I study the implications of medical device regulation \non machine learning used in healthcare settings\n<br> - As a member of Techtopia, I participate in bi-weekly interdisciplinary seminars on digital ethics\n"
      }
     },
     "eead10692a1248e2a7064e6e03768040": {
      "model_module": "@jupyter-widgets/controls",
      "model_module_version": "1.4.0",
      "model_name": "DescriptionStyleModel",
      "state": {
       "description_width": ""
      }
     },
     "f29e60bf5cf34f76a9e22963c5ceb14d": {
      "model_module": "@jupyter-widgets/controls",
      "model_module_version": "1.4.0",
      "model_name": "HTMLModel",
      "state": {
       "layout": "IPY_MODEL_a68db0f26bd14228abdccd15946e7f44",
       "style": "IPY_MODEL_2189c09627bb48c9a6b9d1fb119029ed",
       "value": "\n<b> At the Law School, I am researching the legal ramifications of artificially intelligent devices: </b>\n<br> - As a research assistant for Sara Gerke, I study the implications of medical device regulation \non machine learning used in healthcare settings\n<br> - As a member of Techtopia, I participate in bi-weekly interdisciplinary seminars on digital ethics\n"
      }
     },
     "f3258ce22f874839b9b9fcf1b5a44430": {
      "model_module": "@jupyter-widgets/controls",
      "model_module_version": "1.4.0",
      "model_name": "HTMLModel",
      "state": {
       "layout": "IPY_MODEL_22c967d4255b4a2398d261a5f75a5d71",
       "style": "IPY_MODEL_7d84f43346144534ae527a062935c490",
       "value": "\n<b> At the Kennedy School, I am reflecting on the regulation and self-regulation that will\nbe most effective in harnessing the benefits of digital technology: </b>  \n<br> - I am a student in Solutions for Technology's Public Dilemmas instructed by former secretary of defense Ash Carter \n<br> - I help organize events and programming tutorials with the Future Society, a student organization focused on emerging policy issues\n\n"
      }
     },
     "f9d17b54a25f4b8098fe65825a14e7f1": {
      "model_module": "jupyter-leaflet",
      "model_module_version": "~0.9.1",
      "model_name": "LeafletMarkerModel",
      "state": {
       "_model_module_version": "~0.9.1",
       "_view_count": null,
       "_view_module_version": "~0.9.1",
       "draggable": false,
       "location": [
        42.3714,
        -71.122
       ],
       "options": [
        "alt",
        "draggable",
        "keyboard",
        "rise_offset",
        "rise_on_hover",
        "rotation_angle",
        "rotation_origin",
        "title",
        "z_index_offset"
       ],
       "popup": "IPY_MODEL_2d13584ae8ca4116a58afabe1e6efdd9",
       "rise_on_hover": true
      }
     },
     "fbc5a3aa8f2542358240c397942b47f5": {
      "model_module": "jupyter-leaflet",
      "model_module_version": "~0.9.1",
      "model_name": "LeafletMarkerModel",
      "state": {
       "_model_module_version": "~0.9.1",
       "_view_count": null,
       "_view_module_version": "~0.9.1",
       "draggable": false,
       "location": [
        42.3714,
        -71.122
       ],
       "options": [
        "alt",
        "draggable",
        "keyboard",
        "rise_offset",
        "rise_on_hover",
        "rotation_angle",
        "rotation_origin",
        "title",
        "z_index_offset"
       ],
       "popup": "IPY_MODEL_5de9191f909a467393106c000ae0cc16",
       "rise_on_hover": true
      }
     },
     "fed65e605451446985d0ce456dd9ec20": {
      "model_module": "@jupyter-widgets/base",
      "model_module_version": "1.1.0",
      "model_name": "LayoutModel",
      "state": {}
     }
    },
    "version_major": 2,
    "version_minor": 0
   }
  }
 },
 "nbformat": 4,
 "nbformat_minor": 2
}
