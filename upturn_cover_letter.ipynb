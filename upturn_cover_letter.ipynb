{
 "cells": [
  {
   "attachments": {},
   "cell_type": "markdown",
   "metadata": {},
   "source": [
    "Dear Ms. Dale:\n",
    "\n",
    "I am writing to apply for Upturn's 2019 Summer Fellowship. I heard about the opportunity from Hilary Ross, who was asked by Miranda Bogen to encourage those connected to Harvard's Berkman Klein Center for Internet & Society to apply. As someone who has a strong technical understanding of machine learning, I feel an obligation to ensure that AI lessens rather than widens social inequality, which is why Upturn's mission deeply resonates with me.\n",
    "\n",
    "I am well-suited for this position because I have experience working across the many subjects involved in digital policy – interdisciplinary problems demand an interdisciplinary education. While I am currently based at Harvard's Engineering School completing a M.Sc. in Data Science, I have sought out opportunities to learn about the ethics and governance of AI across the Harvard institutions (see map below). Similarly, during my B.Sc. at Dalhousie University, I gained a foundation in mathematics and computer science, but also studied modern ethical, political, and literary debates through my minor in Contemporary Studies. The Upturn Summer Fellowship would allow me to both apply what I've learned from these many academic subjects and help me further develop my interdisciplinary research skills."
   ]
  },
  {
   "cell_type": "code",
   "execution_count": 3,
   "metadata": {},
   "outputs": [
    {
     "name": "stdout",
     "output_type": "stream",
     "text": [
      "Click the markers to learn more!\n"
     ]
    },
    {
     "data": {
      "application/vnd.jupyter.widget-view+json": {
       "model_id": "07bd095701604ef1b542d2aaa184a0a5",
       "version_major": 2,
       "version_minor": 0
      },
      "text/plain": [
       "Map(basemap={'url': 'http://server.arcgisonline.com/ArcGIS/rest/services/World_Street_Map/MapServer/tile/{z}/{…"
      ]
     },
     "metadata": {},
     "output_type": "display_data"
    }
   ],
   "source": [
    "from ipyleaflet import Map, basemaps, Popup, Marker\n",
    "from ipywidgets import HTML\n",
    "\n",
    "m = Map(\n",
    "    center=(42.3760, -71.1167), \n",
    "    zoom=15, \n",
    "    basemap = basemaps.Esri.WorldStreetMap\n",
    ")\n",
    "hks = Marker(location=(42.3714, -71.1220), rise_on_hover = True, draggable = False)\n",
    "hks_message = HTML()\n",
    "hks_message.value = \"\"\"\n",
    "<b> At the Kennedy School, I am reflecting on the regulation and self-regulation that will\n",
    "be most effective in harnessing the benefits of digital technology: </b>  \n",
    "<br> - As a student in Solutions for Technology's Public Dilemmas instructed by former secretary of defense Ash Carter \n",
    "<br> - As an active member in the Future Society, a student organization focused on emerging policy issues\n",
    "\n",
    "\"\"\"\n",
    "hks.popup = hks_message\n",
    "hls = Marker(location=(42.3781, -71.1188), draggable = False)\n",
    "hls_message = HTML()\n",
    "hls_message.value = \"\"\"\n",
    "<b> At the Law School, I am researching the legal ramifications of artificially intelligent devices: </b>\n",
    "<br> - As a research assistant for Sara Gerke, I study the implications of medical device regulation \n",
    "on machine learning used in healthcare settings\n",
    "<br> - As a member of Techtopia, I participate in bi-weekly interdisciplinary seminars on digital ethics\n",
    "\"\"\"\n",
    "hls.popup = hls_message\n",
    "seas = Marker(location=(42.3782, -71.1171), draggable = False)\n",
    "seas_message = HTML()\n",
    "seas_message.value = \"\"\"\n",
    "<b> At the Engineering School, I am promoting public interest technology: </b>\n",
    "<br> - As a student in the M.Sc. in Data Science Program, I am learning cutting edge techniques in statistics, computer science, and machine learning\n",
    "<br> - As a member of the Philantropy Advisory Fellowship, I am applying my statistical modelling skills to identify effective interventions to address the opioid epidemic\n",
    "<br> - I am creating a fellowship in public interest data science, to encourage students to apply their skills to social problems and prepare them for these challenges\n",
    "\n",
    "\"\"\"\n",
    "seas.popup = seas_message\n",
    "markers = [hks, hls, seas]\n",
    "for mark in markers:\n",
    "    m.add_layer(mark)\n",
    "\n",
    "\n",
    "print(\"Click the markers to learn more!\")\n",
    "m"
   ]
  },
  {
   "attachments": {},
   "cell_type": "markdown",
   "metadata": {},
   "source": [
    "In addition to reaching across academic communities, when working on issues related to equity, I believe affected communities need to be involved and I seek out these partnerships. When I helped facilitate a summer reading camp for Indigenous children in northern Canada, I worked closely with my Inuit co-counselors to ensure that the camp was culturally relevant and that the material resonated with the students. Likewise, when I organized a homework club for new immigrants to Halifax, I would often co-teach with the older students. They had an intuitive understanding of the many social and linguistic barriers the students faced, which helped us overcome barriers unique to new immigrants in Canada. At Upturn, I would ensure to collaborate with the communities most negatively impacted by digital innovation.\n",
    "\n",
    "Thank you for considering my application. I would be very excited to help with Upturn’s important and timely digital advocacy.\n",
    "\n",
    "Sincerely,\n",
    "\n",
    "Joshua Feldman"
   ]
  },
  {
   "cell_type": "code",
   "execution_count": null,
   "metadata": {},
   "outputs": [],
   "source": []
  }
 ],
 "metadata": {
  "kernelspec": {
   "display_name": "Python 3",
   "language": "python",
   "name": "python3"
  },
  "language_info": {
   "codemirror_mode": {
    "name": "ipython",
    "version": 3
   },
   "file_extension": ".py",
   "mimetype": "text/x-python",
   "name": "python",
   "nbconvert_exporter": "python",
   "pygments_lexer": "ipython3",
   "version": "3.6.7"
  }
 },
 "nbformat": 4,
 "nbformat_minor": 2
}
