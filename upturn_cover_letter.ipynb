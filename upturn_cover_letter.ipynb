{
 "cells": [
  {
   "cell_type": "markdown",
   "metadata": {},
   "source": [
    "Dear Ms. Dale:\n",
    "\n",
    "I am writing to apply for Upturn's 2019 Summer Fellowship. I heard about the opportunity from Hilary Ross, who was asked by Miranda Bogen to encourage those connected to Harvard's Berkman Klein Center for Internet & Society to apply. As someone who has a strong technical understanding of machine learning, I feel an obligation to ensure that AI lessens rather than widens social inequality, which is why Upturn's mission deeply resonates with me.\n",
    "\n",
    "I am well-suited for this position because I have experience working across the many subjects involved in digital policy – interdisciplinary problems demand an interdisciplinary education. While I am currently based at Harvard's Engineering School completing a M.Sc. in Data Science, I have sought out opportunities to learn about the ethics and governance of AI across the Harvard institutions (see map below). Similarly, during my B.Sc. at Dalhousie University, I gained a foundation in mathematics and computer science, but also studied modern ethical, political, and literary debates through my minor in Contemporary Studies. The Upturn Summer Fellowship would allow me to both apply what I've learned from these many academic subjects and help me further develop my interdisciplinary research skills."
   ]
  },
  {
   "cell_type": "code",
   "execution_count": 4,
   "metadata": {},
   "outputs": [
    {
     "name": "stdout",
     "output_type": "stream",
     "text": [
      "Click the markers to learn more!\n"
     ]
    },
    {
     "data": {
      "application/vnd.jupyter.widget-view+json": {
       "model_id": "3f1376fbd7de49edb1044ed75b1f55d4",
       "version_major": 2,
       "version_minor": 0
      },
      "text/plain": [
       "Map(basemap={'url': 'http://server.arcgisonline.com/ArcGIS/rest/services/World_Street_Map/MapServer/tile/{z}/{…"
      ]
     },
     "metadata": {},
     "output_type": "display_data"
    }
   ],
   "source": [
    "from ipyleaflet import Map, basemaps, Popup, Marker\n",
    "from ipywidgets import HTML\n",
    "\n",
    "m = Map(\n",
    "    center=(42.3760, -71.1167), \n",
    "    zoom=15, \n",
    "    basemap = basemaps.Esri.WorldStreetMap\n",
    ")\n",
    "hks = Marker(location=(42.3714, -71.1220), rise_on_hover = True, draggable = False)\n",
    "hks_message = HTML()\n",
    "hks_message.value = \"\"\"\n",
    "<b> At the Kennedy School, I am reflecting on the regulation and self-regulation that will\n",
    "be most effective in harnessing the benefits of digital technology: </b>  \n",
    "<br> - As a student in Solutions for Technology's Public Dilemmas instructed by former secretary of defense Ash Carter \n",
    "<br> - As an active member in the Future Society, a student organization focused on emerging policy issues\n",
    "\n",
    "\"\"\"\n",
    "hks.popup = hks_message\n",
    "hls = Marker(location=(42.3781, -71.1188), draggable = False)\n",
    "hls_message = HTML()\n",
    "hls_message.value = \"\"\"\n",
    "<b> At the Law School, I am researching the legal ramifications of artificially intelligent devices: </b>\n",
    "<br> - As a research assistant for Sara Gerke, I study the implications of medical device regulation \n",
    "on machine learning used in healthcare settings\n",
    "<br> - As a member of Techtopia, I participate in bi-weekly interdisciplinary seminars on digital ethics\n",
    "\"\"\"\n",
    "hls.popup = hls_message\n",
    "seas = Marker(location=(42.3782, -71.1171), draggable = False)\n",
    "seas_message = HTML()\n",
    "seas_message.value = \"\"\"\n",
    "<b> At the Engineering School, I am promoting public interest technology: </b>\n",
    "<br> - As a student in the M.Sc. in Data Science Program, I am learning cutting edge techniques in statistics, computer science, and machine learning\n",
    "<br> - As a member of the Philantropy Advisory Fellowship, I am applying my statistical modelling skills to identify effective interventions to address the opioid epidemic\n",
    "<br> - I am creating a fellowship in public interest data science, to encourage students to apply their skills to social problems and prepare them for these challenges\n",
    "\n",
    "\"\"\"\n",
    "seas.popup = seas_message\n",
    "markers = [hks, hls, seas]\n",
    "for mark in markers:\n",
    "    m.add_layer(mark)\n",
    "\n",
    "\n",
    "print(\"Click the markers to learn more!\")\n",
    "m"
   ]
  },
  {
   "cell_type": "markdown",
   "metadata": {},
   "source": [
    "In addition to reaching across academic communities, when working on issues related to equity, I believe affected communities need to be involved and I seek out these partnerships. When I helped facilitate a summer reading camp for Indigenous children in northern Canada, I worked closely with my Inuit co-counselors to ensure that the camp was culturally relevant and that the material resonated with the students. Likewise, when I organized a homework club for new immigrants to Halifax, I would often co-teach with the older students. They had an intuitive understanding of the many social and linguistic barriers the students faced, which helped us overcome barriers unique to new immigrants in Canada. At Upturn, I would ensure to collaborate with the communities most negatively impacted by digital innovation.\n",
    "\n",
    "Thank you for considering my application. I would be very excited to help with Upturn’s important and timely digital advocacy.\n",
    "\n",
    "Sincerely,\n",
    "\n",
    "Joshua Feldman"
   ]
  }
 ],
 "metadata": {
  "kernelspec": {
   "display_name": "Python 3",
   "language": "python",
   "name": "python3"
  },
  "language_info": {
   "codemirror_mode": {
    "name": "ipython",
    "version": 3
   },
   "file_extension": ".py",
   "mimetype": "text/x-python",
   "name": "python",
   "nbconvert_exporter": "python",
   "pygments_lexer": "ipython3",
   "version": "3.6.7"
  },
  "widgets": {
   "application/vnd.jupyter.widget-state+json": {
    "state": {
     "07bd095701604ef1b542d2aaa184a0a5": {
      "model_module": "jupyter-leaflet",
      "model_module_version": "~0.9.1",
      "model_name": "LeafletMapModel",
      "state": {
       "_dom_classes": [],
       "_model_module_version": "~0.9.1",
       "_view_count": null,
       "_view_module_version": "~0.9.1",
       "basemap": {
        "attribution": "Tiles &copy; Esri &mdash; Source: Esri, DeLorme, NAVTEQ, USGS, Intermap, iPC, NRCAN, Esri Japan, METI, Esri China (Hong Kong), Esri (Thailand), TomTom, 2012",
        "max_zoom": 20,
        "name": "Esri.WoldStreetMap",
        "url": "http://server.arcgisonline.com/ArcGIS/rest/services/World_Street_Map/MapServer/tile/{z}/{y}/{x}"
       },
       "center": [
        42.376,
        -71.1167
       ],
       "east": -71.10364437103273,
       "interpolation": "bilinear",
       "layers": [
        "IPY_MODEL_1daaf75903974c03bdfcc6782da4bddb",
        "IPY_MODEL_5930c6f37b944fdd9bf49ec432d508b3",
        "IPY_MODEL_956d030c13b64b6a98cb14a6dcb2a8e3",
        "IPY_MODEL_b114d4f3126a44b8bbb0b93c8ec757fe"
       ],
       "layout": "IPY_MODEL_185bece78cb6437586cce8b6b0b6bd71",
       "modisdate": "yesterday",
       "north": 42.38235511234488,
       "options": [
        "attribution_control",
        "basemap",
        "bounce_at_zoom_limits",
        "box_zoom",
        "center",
        "close_popup_on_click",
        "double_click_zoom",
        "dragging",
        "inertia",
        "inertia_deceleration",
        "inertia_max_speed",
        "interpolation",
        "keyboard",
        "keyboard_pan_offset",
        "keyboard_zoom_offset",
        "max_zoom",
        "min_zoom",
        "scroll_wheel_zoom",
        "tap",
        "tap_tolerance",
        "touch_zoom",
        "world_copy_jump",
        "zoom",
        "zoom_animation_threshold",
        "zoom_control",
        "zoom_start"
       ],
       "south": 42.36967384179557,
       "west": -71.12977981567384,
       "zoom": 15
      }
     },
     "0ae3a91530604a2cbb73e9805edb5a96": {
      "model_module": "@jupyter-widgets/controls",
      "model_module_version": "1.4.0",
      "model_name": "HTMLModel",
      "state": {
       "layout": "IPY_MODEL_b41d544cc7bb468cb60343e9962888ee",
       "style": "IPY_MODEL_79ca81a5465b46e382188f9b1ada9db6",
       "value": "\n<b> At the Kennedy School, I am reflecting on the regulation and self-regulation that will\nbe most effective in harnessing the benefits of digital technology: </b>  \n<br> - As a student in Solutions for Technology's Public Dilemmas instructed by former secretary of defense Ash Carter \n<br> - As an active member in the Future Society, a student organization focused on emerging policy issues\n\n"
      }
     },
     "0f3d730140034c8b899837a65955986f": {
      "model_module": "@jupyter-widgets/base",
      "model_module_version": "1.1.0",
      "model_name": "LayoutModel",
      "state": {}
     },
     "11f2e2d4ce084d76b6e6e147d5b11e36": {
      "model_module": "@jupyter-widgets/base",
      "model_module_version": "1.1.0",
      "model_name": "LayoutModel",
      "state": {}
     },
     "12fd6645b25d452db6eee470d52a2d17": {
      "model_module": "@jupyter-widgets/base",
      "model_module_version": "1.1.0",
      "model_name": "LayoutModel",
      "state": {}
     },
     "145d324bd81b471387ac5020f00ebab3": {
      "model_module": "@jupyter-widgets/base",
      "model_module_version": "1.1.0",
      "model_name": "LayoutModel",
      "state": {}
     },
     "185bece78cb6437586cce8b6b0b6bd71": {
      "model_module": "@jupyter-widgets/base",
      "model_module_version": "1.1.0",
      "model_name": "LayoutModel",
      "state": {}
     },
     "1b8c71a5d4be4ad5af35621a52b70e50": {
      "model_module": "@jupyter-widgets/base",
      "model_module_version": "1.1.0",
      "model_name": "LayoutModel",
      "state": {}
     },
     "1ca52ed47c1c4dcc89528f6f69aa2a81": {
      "model_module": "jupyter-leaflet",
      "model_module_version": "~0.9.1",
      "model_name": "LeafletMarkerModel",
      "state": {
       "_model_module_version": "~0.9.1",
       "_view_count": null,
       "_view_module_version": "~0.9.1",
       "draggable": false,
       "location": [
        42.3714,
        -71.122
       ],
       "options": [
        "alt",
        "draggable",
        "keyboard",
        "rise_offset",
        "rise_on_hover",
        "rotation_angle",
        "rotation_origin",
        "title",
        "z_index_offset"
       ],
       "popup": "IPY_MODEL_0ae3a91530604a2cbb73e9805edb5a96",
       "rise_on_hover": true
      }
     },
     "1daaf75903974c03bdfcc6782da4bddb": {
      "model_module": "jupyter-leaflet",
      "model_module_version": "~0.9.1",
      "model_name": "LeafletTileLayerModel",
      "state": {
       "_model_module_version": "~0.9.1",
       "_view_count": null,
       "_view_module_version": "~0.9.1",
       "attribution": "Tiles &copy; Esri &mdash; Source: Esri, DeLorme, NAVTEQ, USGS, Intermap, iPC, NRCAN, Esri Japan, METI, Esri China (Hong Kong), Esri (Thailand), TomTom, 2012",
       "base": true,
       "max_zoom": 20,
       "min_zoom": 1,
       "name": "Esri.WoldStreetMap",
       "options": [
        "attribution",
        "detect_retina",
        "max_zoom",
        "min_zoom",
        "tile_size"
       ],
       "url": "http://server.arcgisonline.com/ArcGIS/rest/services/World_Street_Map/MapServer/tile/{z}/{y}/{x}"
      }
     },
     "20cd289a1c474dc9a96948701edead45": {
      "model_module": "@jupyter-widgets/controls",
      "model_module_version": "1.4.0",
      "model_name": "HTMLModel",
      "state": {
       "layout": "IPY_MODEL_8011de89949d4f3e9754828a242cf3ba",
       "style": "IPY_MODEL_aa4d72ee728c4b4f9b0d70d82cd1ec67",
       "value": "\n<b> At the Law School, I am researching the legal ramifications of artificially intelligent devices: </b>\n<br> - As a research assistant for Sara Gerke, I study the implications of medical device regulation \non machine learning used in healthcare settings\n<br> - As a member of Techtopia, I participate in bi-weekly interdisciplinary seminars on digital ethics\n"
      }
     },
     "22079e6011894714b40ba80fbad86669": {
      "model_module": "jupyter-leaflet",
      "model_module_version": "~0.9.1",
      "model_name": "LeafletMarkerModel",
      "state": {
       "_model_module_version": "~0.9.1",
       "_view_count": null,
       "_view_module_version": "~0.9.1",
       "draggable": false,
       "location": [
        42.3782,
        -71.1171
       ],
       "options": [
        "alt",
        "draggable",
        "keyboard",
        "rise_offset",
        "rise_on_hover",
        "rotation_angle",
        "rotation_origin",
        "title",
        "z_index_offset"
       ],
       "popup": "IPY_MODEL_e08092e447804e6da3644f6472716677"
      }
     },
     "26334e67bbcf4d7aabd9d6dea1ab469f": {
      "model_module": "jupyter-leaflet",
      "model_module_version": "~0.9.1",
      "model_name": "LeafletMarkerModel",
      "state": {
       "_model_module_version": "~0.9.1",
       "_view_count": null,
       "_view_module_version": "~0.9.1",
       "draggable": false,
       "location": [
        42.3781,
        -71.1188
       ],
       "options": [
        "alt",
        "draggable",
        "keyboard",
        "rise_offset",
        "rise_on_hover",
        "rotation_angle",
        "rotation_origin",
        "title",
        "z_index_offset"
       ],
       "popup": "IPY_MODEL_76063b4ff1ee4b628813464a59ba195d"
      }
     },
     "26f9a123b5c247b68c1784fb071e90ab": {
      "model_module": "jupyter-leaflet",
      "model_module_version": "~0.9.1",
      "model_name": "LeafletTileLayerModel",
      "state": {
       "_model_module_version": "~0.9.1",
       "_view_count": null,
       "_view_module_version": "~0.9.1",
       "attribution": "Tiles &copy; Esri &mdash; Source: Esri, DeLorme, NAVTEQ, USGS, Intermap, iPC, NRCAN, Esri Japan, METI, Esri China (Hong Kong), Esri (Thailand), TomTom, 2012",
       "base": true,
       "max_zoom": 20,
       "min_zoom": 1,
       "name": "Esri.WoldStreetMap",
       "options": [
        "attribution",
        "detect_retina",
        "max_zoom",
        "min_zoom",
        "tile_size"
       ],
       "url": "http://server.arcgisonline.com/ArcGIS/rest/services/World_Street_Map/MapServer/tile/{z}/{y}/{x}"
      }
     },
     "299683b144d24ffba4dde3176e15534a": {
      "model_module": "jupyter-leaflet",
      "model_module_version": "~0.9.1",
      "model_name": "LeafletTileLayerModel",
      "state": {
       "_model_module_version": "~0.9.1",
       "_view_count": null,
       "_view_module_version": "~0.9.1",
       "attribution": "Tiles &copy; Esri &mdash; Source: Esri, DeLorme, NAVTEQ, USGS, Intermap, iPC, NRCAN, Esri Japan, METI, Esri China (Hong Kong), Esri (Thailand), TomTom, 2012",
       "base": true,
       "max_zoom": 20,
       "min_zoom": 1,
       "name": "Esri.WoldStreetMap",
       "options": [
        "attribution",
        "detect_retina",
        "max_zoom",
        "min_zoom",
        "tile_size"
       ],
       "url": "http://server.arcgisonline.com/ArcGIS/rest/services/World_Street_Map/MapServer/tile/{z}/{y}/{x}"
      }
     },
     "2bd40d777e06471b945d593e86055e7d": {
      "model_module": "jupyter-leaflet",
      "model_module_version": "~0.9.1",
      "model_name": "LeafletMarkerModel",
      "state": {
       "_model_module_version": "~0.9.1",
       "_view_count": null,
       "_view_module_version": "~0.9.1",
       "draggable": false,
       "location": [
        42.3782,
        -71.1171
       ],
       "options": [
        "alt",
        "draggable",
        "keyboard",
        "rise_offset",
        "rise_on_hover",
        "rotation_angle",
        "rotation_origin",
        "title",
        "z_index_offset"
       ],
       "popup": "IPY_MODEL_a120a894867a41c6ac7fc0a4a57036b8"
      }
     },
     "30fed83fbfdb4d109d67b47a27cfe298": {
      "model_module": "@jupyter-widgets/base",
      "model_module_version": "1.1.0",
      "model_name": "LayoutModel",
      "state": {}
     },
     "3305f7d84cfd4fa0b553106481a4443f": {
      "model_module": "@jupyter-widgets/base",
      "model_module_version": "1.1.0",
      "model_name": "LayoutModel",
      "state": {}
     },
     "39d975b3782f459e82bc594a3ca96c39": {
      "model_module": "@jupyter-widgets/controls",
      "model_module_version": "1.4.0",
      "model_name": "HTMLModel",
      "state": {
       "layout": "IPY_MODEL_792ccd36af3d49bfa7db80900c19017c",
       "style": "IPY_MODEL_a006335030ab4a6dbdb70ed7e7e537b5",
       "value": "\n<b> At the Law School, I am researching the legal ramifications of artificially intelligent devices: </b>\n<br> - As a research assistant for Sara Gerke, I study the implications of medical device regulation \non machine learning used in healthcare settings\n<br> - As a member of Techtopia, I participate in bi-weekly interdisciplinary seminars on digital ethics\n"
      }
     },
     "3e7f5710635a425991c64f8316bf1f85": {
      "model_module": "@jupyter-widgets/controls",
      "model_module_version": "1.4.0",
      "model_name": "DescriptionStyleModel",
      "state": {
       "description_width": ""
      }
     },
     "3f1376fbd7de49edb1044ed75b1f55d4": {
      "model_module": "jupyter-leaflet",
      "model_module_version": "~0.9.1",
      "model_name": "LeafletMapModel",
      "state": {
       "_dom_classes": [],
       "_model_module_version": "~0.9.1",
       "_view_count": null,
       "_view_module_version": "~0.9.1",
       "basemap": {
        "attribution": "Tiles &copy; Esri &mdash; Source: Esri, DeLorme, NAVTEQ, USGS, Intermap, iPC, NRCAN, Esri Japan, METI, Esri China (Hong Kong), Esri (Thailand), TomTom, 2012",
        "max_zoom": 20,
        "name": "Esri.WoldStreetMap",
        "url": "http://server.arcgisonline.com/ArcGIS/rest/services/World_Street_Map/MapServer/tile/{z}/{y}/{x}"
       },
       "center": [
        42.37601479716476,
        -71.11671209335329
       ],
       "east": -71.09566211700441,
       "interpolation": "bilinear",
       "layers": [
        "IPY_MODEL_dba562189a2f47fea641b8c2ffc9c9eb",
        "IPY_MODEL_45ed638315324ed08f13da01a9487b5e",
        "IPY_MODEL_8ccb63ed70a3405b972fb453f145d848",
        "IPY_MODEL_22079e6011894714b40ba80fbad86669"
       ],
       "layout": "IPY_MODEL_11f2e2d4ce084d76b6e6e147d5b11e36",
       "modisdate": "yesterday",
       "north": 42.38235511234488,
       "options": [
        "attribution_control",
        "basemap",
        "bounce_at_zoom_limits",
        "box_zoom",
        "center",
        "close_popup_on_click",
        "double_click_zoom",
        "dragging",
        "inertia",
        "inertia_deceleration",
        "inertia_max_speed",
        "interpolation",
        "keyboard",
        "keyboard_pan_offset",
        "keyboard_zoom_offset",
        "max_zoom",
        "min_zoom",
        "scroll_wheel_zoom",
        "tap",
        "tap_tolerance",
        "touch_zoom",
        "world_copy_jump",
        "zoom",
        "zoom_animation_threshold",
        "zoom_control",
        "zoom_start"
       ],
       "south": 42.36967384179557,
       "west": -71.13776206970216,
       "zoom": 15
      }
     },
     "44ff8d964f3a4baa81cdf9740c3e14ff": {
      "model_module": "jupyter-leaflet",
      "model_module_version": "~0.9.1",
      "model_name": "LeafletMapModel",
      "state": {
       "_dom_classes": [],
       "_model_module_version": "~0.9.1",
       "_view_count": null,
       "_view_module_version": "~0.9.1",
       "basemap": {
        "attribution": "Tiles &copy; Esri &mdash; Source: Esri, DeLorme, NAVTEQ, USGS, Intermap, iPC, NRCAN, Esri Japan, METI, Esri China (Hong Kong), Esri (Thailand), TomTom, 2012",
        "max_zoom": 20,
        "name": "Esri.WoldStreetMap",
        "url": "http://server.arcgisonline.com/ArcGIS/rest/services/World_Street_Map/MapServer/tile/{z}/{y}/{x}"
       },
       "center": [
        42.37532091482641,
        -71.11609032377602
       ],
       "east": -180,
       "interpolation": "bilinear",
       "layers": [
        "IPY_MODEL_299683b144d24ffba4dde3176e15534a",
        "IPY_MODEL_1ca52ed47c1c4dcc89528f6f69aa2a81",
        "IPY_MODEL_26334e67bbcf4d7aabd9d6dea1ab469f",
        "IPY_MODEL_9f695a5d6dce4a2c993c1d0c677f1247"
       ],
       "layout": "IPY_MODEL_0f3d730140034c8b899837a65955986f",
       "modisdate": "yesterday",
       "north": -90,
       "options": [
        "attribution_control",
        "basemap",
        "bounce_at_zoom_limits",
        "box_zoom",
        "center",
        "close_popup_on_click",
        "double_click_zoom",
        "dragging",
        "inertia",
        "inertia_deceleration",
        "inertia_max_speed",
        "interpolation",
        "keyboard",
        "keyboard_pan_offset",
        "keyboard_zoom_offset",
        "max_zoom",
        "min_zoom",
        "scroll_wheel_zoom",
        "tap",
        "tap_tolerance",
        "touch_zoom",
        "world_copy_jump",
        "zoom",
        "zoom_animation_threshold",
        "zoom_control",
        "zoom_start"
       ],
       "south": 90,
       "west": 180,
       "zoom": 15
      }
     },
     "45ed638315324ed08f13da01a9487b5e": {
      "model_module": "jupyter-leaflet",
      "model_module_version": "~0.9.1",
      "model_name": "LeafletMarkerModel",
      "state": {
       "_model_module_version": "~0.9.1",
       "_view_count": null,
       "_view_module_version": "~0.9.1",
       "draggable": false,
       "location": [
        42.3714,
        -71.122
       ],
       "options": [
        "alt",
        "draggable",
        "keyboard",
        "rise_offset",
        "rise_on_hover",
        "rotation_angle",
        "rotation_origin",
        "title",
        "z_index_offset"
       ],
       "popup": "IPY_MODEL_de4ddb4f2e244fddb3d6de746175563c",
       "rise_on_hover": true
      }
     },
     "4798efbe16fb49fab50b42d28d26ceb0": {
      "model_module": "@jupyter-widgets/controls",
      "model_module_version": "1.4.0",
      "model_name": "DescriptionStyleModel",
      "state": {
       "description_width": ""
      }
     },
     "5440b96e3f0b48de90fc2e4a99b36ea3": {
      "model_module": "@jupyter-widgets/controls",
      "model_module_version": "1.4.0",
      "model_name": "DescriptionStyleModel",
      "state": {
       "description_width": ""
      }
     },
     "5930c6f37b944fdd9bf49ec432d508b3": {
      "model_module": "jupyter-leaflet",
      "model_module_version": "~0.9.1",
      "model_name": "LeafletMarkerModel",
      "state": {
       "_model_module_version": "~0.9.1",
       "_view_count": null,
       "_view_module_version": "~0.9.1",
       "draggable": false,
       "location": [
        42.3714,
        -71.122
       ],
       "options": [
        "alt",
        "draggable",
        "keyboard",
        "rise_offset",
        "rise_on_hover",
        "rotation_angle",
        "rotation_origin",
        "title",
        "z_index_offset"
       ],
       "popup": "IPY_MODEL_ff447b468b16429eb437178a49a56bc4",
       "rise_on_hover": true
      }
     },
     "59bb5f7c72644c0abb03419843803b6b": {
      "model_module": "@jupyter-widgets/base",
      "model_module_version": "1.1.0",
      "model_name": "LayoutModel",
      "state": {}
     },
     "5f113dce8a0c4d22b2665f3d21c5d2d8": {
      "model_module": "@jupyter-widgets/controls",
      "model_module_version": "1.4.0",
      "model_name": "DescriptionStyleModel",
      "state": {
       "description_width": ""
      }
     },
     "5fb67117ab0b447f8e82f936e6d2f6b0": {
      "model_module": "@jupyter-widgets/controls",
      "model_module_version": "1.4.0",
      "model_name": "DescriptionStyleModel",
      "state": {
       "description_width": ""
      }
     },
     "6deca3e1045a4f78bf4159c4bce43d77": {
      "model_module": "@jupyter-widgets/controls",
      "model_module_version": "1.4.0",
      "model_name": "HTMLModel",
      "state": {
       "layout": "IPY_MODEL_f37c8b429c164336af826554eed567d6",
       "style": "IPY_MODEL_c58746e3319544ecb890de7d2b75734f",
       "value": "\n<b> At the Kennedy School, I am reflecting on the regulation and self-regulation that will\nbe most effective in harnessing the benefits of digital technology: </b>  \n<br> - As a student in Solutions for Technology's Public Dilemmas instructed by former secretary of defense Ash Carter \n<br> - As an active member in the Future Society, a student organization focused on emerging policy issues\n\n"
      }
     },
     "72443a4c90034ff7a77eaededbd10412": {
      "model_module": "@jupyter-widgets/base",
      "model_module_version": "1.1.0",
      "model_name": "LayoutModel",
      "state": {}
     },
     "76063b4ff1ee4b628813464a59ba195d": {
      "model_module": "@jupyter-widgets/controls",
      "model_module_version": "1.4.0",
      "model_name": "HTMLModel",
      "state": {
       "layout": "IPY_MODEL_72443a4c90034ff7a77eaededbd10412",
       "style": "IPY_MODEL_5440b96e3f0b48de90fc2e4a99b36ea3",
       "value": "\n<b> At the Law School, I am researching the legal ramifications of artificially intelligent devices: </b>\n<br> - As a research assistant for Sara Gerke, I study the implications of medical device regulation \non machine learning used in healthcare settings\n<br> - As a member of Techtopia, I participate in bi-weekly interdisciplinary seminars on digital ethics\n"
      }
     },
     "792ccd36af3d49bfa7db80900c19017c": {
      "model_module": "@jupyter-widgets/base",
      "model_module_version": "1.1.0",
      "model_name": "LayoutModel",
      "state": {}
     },
     "79ca81a5465b46e382188f9b1ada9db6": {
      "model_module": "@jupyter-widgets/controls",
      "model_module_version": "1.4.0",
      "model_name": "DescriptionStyleModel",
      "state": {
       "description_width": ""
      }
     },
     "7d6d4dc3077b4285869da053ea4b08c9": {
      "model_module": "jupyter-leaflet",
      "model_module_version": "~0.9.1",
      "model_name": "LeafletMarkerModel",
      "state": {
       "_model_module_version": "~0.9.1",
       "_view_count": null,
       "_view_module_version": "~0.9.1",
       "draggable": false,
       "location": [
        42.3781,
        -71.1188
       ],
       "options": [
        "alt",
        "draggable",
        "keyboard",
        "rise_offset",
        "rise_on_hover",
        "rotation_angle",
        "rotation_origin",
        "title",
        "z_index_offset"
       ],
       "popup": "IPY_MODEL_39d975b3782f459e82bc594a3ca96c39"
      }
     },
     "8011de89949d4f3e9754828a242cf3ba": {
      "model_module": "@jupyter-widgets/base",
      "model_module_version": "1.1.0",
      "model_name": "LayoutModel",
      "state": {}
     },
     "8ccb63ed70a3405b972fb453f145d848": {
      "model_module": "jupyter-leaflet",
      "model_module_version": "~0.9.1",
      "model_name": "LeafletMarkerModel",
      "state": {
       "_model_module_version": "~0.9.1",
       "_view_count": null,
       "_view_module_version": "~0.9.1",
       "draggable": false,
       "location": [
        42.3781,
        -71.1188
       ],
       "options": [
        "alt",
        "draggable",
        "keyboard",
        "rise_offset",
        "rise_on_hover",
        "rotation_angle",
        "rotation_origin",
        "title",
        "z_index_offset"
       ],
       "popup": "IPY_MODEL_b941e61287ce4b9ea1f6d426e835fb27"
      }
     },
     "91faad3d41714ef5a71856c067edc6f0": {
      "model_module": "@jupyter-widgets/controls",
      "model_module_version": "1.4.0",
      "model_name": "DescriptionStyleModel",
      "state": {
       "description_width": ""
      }
     },
     "956d030c13b64b6a98cb14a6dcb2a8e3": {
      "model_module": "jupyter-leaflet",
      "model_module_version": "~0.9.1",
      "model_name": "LeafletMarkerModel",
      "state": {
       "_model_module_version": "~0.9.1",
       "_view_count": null,
       "_view_module_version": "~0.9.1",
       "draggable": false,
       "location": [
        42.3781,
        -71.1188
       ],
       "options": [
        "alt",
        "draggable",
        "keyboard",
        "rise_offset",
        "rise_on_hover",
        "rotation_angle",
        "rotation_origin",
        "title",
        "z_index_offset"
       ],
       "popup": "IPY_MODEL_20cd289a1c474dc9a96948701edead45"
      }
     },
     "9f695a5d6dce4a2c993c1d0c677f1247": {
      "model_module": "jupyter-leaflet",
      "model_module_version": "~0.9.1",
      "model_name": "LeafletMarkerModel",
      "state": {
       "_model_module_version": "~0.9.1",
       "_view_count": null,
       "_view_module_version": "~0.9.1",
       "draggable": false,
       "location": [
        42.3782,
        -71.1171
       ],
       "options": [
        "alt",
        "draggable",
        "keyboard",
        "rise_offset",
        "rise_on_hover",
        "rotation_angle",
        "rotation_origin",
        "title",
        "z_index_offset"
       ],
       "popup": "IPY_MODEL_aa51420f1eea4e6194519bd242b76110"
      }
     },
     "a006335030ab4a6dbdb70ed7e7e537b5": {
      "model_module": "@jupyter-widgets/controls",
      "model_module_version": "1.4.0",
      "model_name": "DescriptionStyleModel",
      "state": {
       "description_width": ""
      }
     },
     "a120a894867a41c6ac7fc0a4a57036b8": {
      "model_module": "@jupyter-widgets/controls",
      "model_module_version": "1.4.0",
      "model_name": "HTMLModel",
      "state": {
       "layout": "IPY_MODEL_bc40bfbbfcd1453bb4b52dbd19940216",
       "style": "IPY_MODEL_5fb67117ab0b447f8e82f936e6d2f6b0",
       "value": "\n<b> At the Engineering School, I am promoting public interest technology: </b>\n<br> - As a student in the M.Sc. in Data Science Program, I am learning cutting edge techniques in statistics, computer science, and machine learning\n<br> - As a member of the Philantropy Advisory Fellowship, I am applying my statistical modelling skills to identify effective interventions to address the opioid epidemic\n<br> - I am creating a fellowship in public interest data science, to encourage students to apply their skills to social problems and prepare them for these challenges\n\n"
      }
     },
     "aa4d72ee728c4b4f9b0d70d82cd1ec67": {
      "model_module": "@jupyter-widgets/controls",
      "model_module_version": "1.4.0",
      "model_name": "DescriptionStyleModel",
      "state": {
       "description_width": ""
      }
     },
     "aa51420f1eea4e6194519bd242b76110": {
      "model_module": "@jupyter-widgets/controls",
      "model_module_version": "1.4.0",
      "model_name": "HTMLModel",
      "state": {
       "layout": "IPY_MODEL_30fed83fbfdb4d109d67b47a27cfe298",
       "style": "IPY_MODEL_3e7f5710635a425991c64f8316bf1f85",
       "value": "\n<b> At the Engineering School, I am promoting public interest technology: </b>\n<br> - As a student in the M.Sc. in Data Science Program, I am learning cutting edge techniques in statistics, computer science, and machine learning\n<br> - As a member of the Philantropy Advisory Fellowship, I am applying my statistical modelling skills to identify effective interventions to address the opioid epidemic\n<br> - I am creating a fellowship in public interest data science, to encourage students to apply their skills to social problems and prepare them for these challenges\n\n"
      }
     },
     "b114d4f3126a44b8bbb0b93c8ec757fe": {
      "model_module": "jupyter-leaflet",
      "model_module_version": "~0.9.1",
      "model_name": "LeafletMarkerModel",
      "state": {
       "_model_module_version": "~0.9.1",
       "_view_count": null,
       "_view_module_version": "~0.9.1",
       "draggable": false,
       "location": [
        42.3782,
        -71.1171
       ],
       "options": [
        "alt",
        "draggable",
        "keyboard",
        "rise_offset",
        "rise_on_hover",
        "rotation_angle",
        "rotation_origin",
        "title",
        "z_index_offset"
       ],
       "popup": "IPY_MODEL_de60b92e008940c2bd2014acd6a657b2"
      }
     },
     "b41d544cc7bb468cb60343e9962888ee": {
      "model_module": "@jupyter-widgets/base",
      "model_module_version": "1.1.0",
      "model_name": "LayoutModel",
      "state": {}
     },
     "b941e61287ce4b9ea1f6d426e835fb27": {
      "model_module": "@jupyter-widgets/controls",
      "model_module_version": "1.4.0",
      "model_name": "HTMLModel",
      "state": {
       "layout": "IPY_MODEL_59bb5f7c72644c0abb03419843803b6b",
       "style": "IPY_MODEL_e7dfcca5b8c54a02891839ee7e5703b4",
       "value": "\n<b> At the Law School, I am researching the legal ramifications of artificially intelligent devices: </b>\n<br> - As a research assistant for Sara Gerke, I study the implications of medical device regulation \non machine learning used in healthcare settings\n<br> - As a member of Techtopia, I participate in bi-weekly interdisciplinary seminars on digital ethics\n"
      }
     },
     "bbbe290a4258484c924b9a8cd6b3065d": {
      "model_module": "jupyter-leaflet",
      "model_module_version": "~0.9.1",
      "model_name": "LeafletMapModel",
      "state": {
       "_dom_classes": [],
       "_model_module_version": "~0.9.1",
       "_view_count": null,
       "_view_module_version": "~0.9.1",
       "basemap": {
        "attribution": "Tiles &copy; Esri &mdash; Source: Esri, DeLorme, NAVTEQ, USGS, Intermap, iPC, NRCAN, Esri Japan, METI, Esri China (Hong Kong), Esri (Thailand), TomTom, 2012",
        "max_zoom": 20,
        "name": "Esri.WoldStreetMap",
        "url": "http://server.arcgisonline.com/ArcGIS/rest/services/World_Street_Map/MapServer/tile/{z}/{y}/{x}"
       },
       "center": [
        42.38240947282603,
        -71.11838528886439
       ],
       "east": -180,
       "interpolation": "bilinear",
       "layers": [
        "IPY_MODEL_26f9a123b5c247b68c1784fb071e90ab",
        "IPY_MODEL_d8c53061b82f47d9aee643f93155fcf2",
        "IPY_MODEL_7d6d4dc3077b4285869da053ea4b08c9",
        "IPY_MODEL_2bd40d777e06471b945d593e86055e7d"
       ],
       "layout": "IPY_MODEL_dd30d3bb17b34678b880b14c324dbe7f",
       "modisdate": "yesterday",
       "north": -90,
       "options": [
        "attribution_control",
        "basemap",
        "bounce_at_zoom_limits",
        "box_zoom",
        "center",
        "close_popup_on_click",
        "double_click_zoom",
        "dragging",
        "inertia",
        "inertia_deceleration",
        "inertia_max_speed",
        "interpolation",
        "keyboard",
        "keyboard_pan_offset",
        "keyboard_zoom_offset",
        "max_zoom",
        "min_zoom",
        "scroll_wheel_zoom",
        "tap",
        "tap_tolerance",
        "touch_zoom",
        "world_copy_jump",
        "zoom",
        "zoom_animation_threshold",
        "zoom_control",
        "zoom_start"
       ],
       "south": 90,
       "west": 180,
       "zoom": 15
      }
     },
     "bc40bfbbfcd1453bb4b52dbd19940216": {
      "model_module": "@jupyter-widgets/base",
      "model_module_version": "1.1.0",
      "model_name": "LayoutModel",
      "state": {}
     },
     "c58746e3319544ecb890de7d2b75734f": {
      "model_module": "@jupyter-widgets/controls",
      "model_module_version": "1.4.0",
      "model_name": "DescriptionStyleModel",
      "state": {
       "description_width": ""
      }
     },
     "d4b9873e14bd47b392c083aff389dbc2": {
      "model_module": "@jupyter-widgets/controls",
      "model_module_version": "1.4.0",
      "model_name": "DescriptionStyleModel",
      "state": {
       "description_width": ""
      }
     },
     "d8c53061b82f47d9aee643f93155fcf2": {
      "model_module": "jupyter-leaflet",
      "model_module_version": "~0.9.1",
      "model_name": "LeafletMarkerModel",
      "state": {
       "_model_module_version": "~0.9.1",
       "_view_count": null,
       "_view_module_version": "~0.9.1",
       "draggable": false,
       "location": [
        42.3714,
        -71.122
       ],
       "options": [
        "alt",
        "draggable",
        "keyboard",
        "rise_offset",
        "rise_on_hover",
        "rotation_angle",
        "rotation_origin",
        "title",
        "z_index_offset"
       ],
       "popup": "IPY_MODEL_6deca3e1045a4f78bf4159c4bce43d77",
       "rise_on_hover": true
      }
     },
     "dba562189a2f47fea641b8c2ffc9c9eb": {
      "model_module": "jupyter-leaflet",
      "model_module_version": "~0.9.1",
      "model_name": "LeafletTileLayerModel",
      "state": {
       "_model_module_version": "~0.9.1",
       "_view_count": null,
       "_view_module_version": "~0.9.1",
       "attribution": "Tiles &copy; Esri &mdash; Source: Esri, DeLorme, NAVTEQ, USGS, Intermap, iPC, NRCAN, Esri Japan, METI, Esri China (Hong Kong), Esri (Thailand), TomTom, 2012",
       "base": true,
       "max_zoom": 20,
       "min_zoom": 1,
       "name": "Esri.WoldStreetMap",
       "options": [
        "attribution",
        "detect_retina",
        "max_zoom",
        "min_zoom",
        "tile_size"
       ],
       "url": "http://server.arcgisonline.com/ArcGIS/rest/services/World_Street_Map/MapServer/tile/{z}/{y}/{x}"
      }
     },
     "dd30d3bb17b34678b880b14c324dbe7f": {
      "model_module": "@jupyter-widgets/base",
      "model_module_version": "1.1.0",
      "model_name": "LayoutModel",
      "state": {}
     },
     "de4ddb4f2e244fddb3d6de746175563c": {
      "model_module": "@jupyter-widgets/controls",
      "model_module_version": "1.4.0",
      "model_name": "HTMLModel",
      "state": {
       "layout": "IPY_MODEL_12fd6645b25d452db6eee470d52a2d17",
       "style": "IPY_MODEL_91faad3d41714ef5a71856c067edc6f0",
       "value": "\n<b> At the Kennedy School, I am reflecting on the regulation and self-regulation that will\nbe most effective in harnessing the benefits of digital technology: </b>  \n<br> - As a student in Solutions for Technology's Public Dilemmas instructed by former secretary of defense Ash Carter \n<br> - As an active member in the Future Society, a student organization focused on emerging policy issues\n\n"
      }
     },
     "de60b92e008940c2bd2014acd6a657b2": {
      "model_module": "@jupyter-widgets/controls",
      "model_module_version": "1.4.0",
      "model_name": "HTMLModel",
      "state": {
       "layout": "IPY_MODEL_3305f7d84cfd4fa0b553106481a4443f",
       "style": "IPY_MODEL_4798efbe16fb49fab50b42d28d26ceb0",
       "value": "\n<b> At the Engineering School, I am promoting public interest technology: </b>\n<br> - As a student in the M.Sc. in Data Science Program, I am learning cutting edge techniques in statistics, computer science, and machine learning\n<br> - As a member of the Philantropy Advisory Fellowship, I am applying my statistical modelling skills to identify effective interventions to address the opioid epidemic\n<br> - I am creating a fellowship in public interest data science, to encourage students to apply their skills to social problems and prepare them for these challenges\n\n"
      }
     },
     "e08092e447804e6da3644f6472716677": {
      "model_module": "@jupyter-widgets/controls",
      "model_module_version": "1.4.0",
      "model_name": "HTMLModel",
      "state": {
       "layout": "IPY_MODEL_1b8c71a5d4be4ad5af35621a52b70e50",
       "style": "IPY_MODEL_d4b9873e14bd47b392c083aff389dbc2",
       "value": "\n<b> At the Engineering School, I am promoting public interest technology: </b>\n<br> - As a student in the M.Sc. in Data Science Program, I am learning cutting edge techniques in statistics, computer science, and machine learning\n<br> - As a member of the Philantropy Advisory Fellowship, I am applying my statistical modelling skills to identify effective interventions to address the opioid epidemic\n<br> - I am creating a fellowship in public interest data science, to encourage students to apply their skills to social problems and prepare them for these challenges\n\n"
      }
     },
     "e7dfcca5b8c54a02891839ee7e5703b4": {
      "model_module": "@jupyter-widgets/controls",
      "model_module_version": "1.4.0",
      "model_name": "DescriptionStyleModel",
      "state": {
       "description_width": ""
      }
     },
     "f37c8b429c164336af826554eed567d6": {
      "model_module": "@jupyter-widgets/base",
      "model_module_version": "1.1.0",
      "model_name": "LayoutModel",
      "state": {}
     },
     "ff447b468b16429eb437178a49a56bc4": {
      "model_module": "@jupyter-widgets/controls",
      "model_module_version": "1.4.0",
      "model_name": "HTMLModel",
      "state": {
       "layout": "IPY_MODEL_145d324bd81b471387ac5020f00ebab3",
       "style": "IPY_MODEL_5f113dce8a0c4d22b2665f3d21c5d2d8",
       "value": "\n<b> At the Kennedy School, I am reflecting on the regulation and self-regulation that will\nbe most effective in harnessing the benefits of digital technology: </b>  \n<br> - As a student in Solutions for Technology's Public Dilemmas instructed by former secretary of defense Ash Carter \n<br> - As an active member in the Future Society, a student organization focused on emerging policy issues\n\n"
      }
     }
    },
    "version_major": 2,
    "version_minor": 0
   }
  }
 },
 "nbformat": 4,
 "nbformat_minor": 2
}
