{
 "cells": [
  {
   "cell_type": "markdown",
   "metadata": {},
   "source": [
    "Dear Ms. Dale:\n",
    "\n",
    "I am writing to apply for Upturn's 2019 Summer Fellowship. I heard about the opportunity from Hilary Ross, who was asked by Miranda Bogen to encourage those connected to Harvard's Berkman Klein Center for Internet & Society to apply. The fellowship particularly appeals to me because, as someone who has a deep technical understanding of machine learning, I have an obligation to ensure that AI lessens rather than widens social inequality. For this reason, Upturn's mission to \"promote equity and justice in the design, governance, and use of digital technology\" strongly resonates with me."
   ]
  },
  {
   "cell_type": "markdown",
   "metadata": {},
   "source": [
    "My education has been shaped by a fascination in the interplay between ethical and technical questions. While I am currently based at Harvard's School of Engineering and Applied Science completing a M.Sc. in Data Science, I have sought out opportunities to learn about the ethics and governance of AI across the Harvard schools - interdisciplinary problems demand an interdisciplinary education. A highlight of my first semester at Harvard has been participating in the Berkman Klein Center's Techtopia student cohort on digital ethics, where we received explicit training on how to work across academic and socioeconomic groups. Similarly, during my B.Sc. from Dalhousie University, I  gained a foundation in mathematics and computer science, but also wrestled with some of the critical ethical, political, and literary debates of the 20th and 21st centuries throughout my minor in Contemporary Studies. The Upturn Summer Fellowship would allow me to both apply what I've learned from these many academic communities and help me futher develop my interdisciplinary research skills."
   ]
  },
  {
   "cell_type": "code",
   "execution_count": 51,
   "metadata": {},
   "outputs": [
    {
     "data": {
      "application/vnd.jupyter.widget-view+json": {
       "model_id": "bff6ee80e2f24a19b989801a20eeb3ea",
       "version_major": 2,
       "version_minor": 0
      },
      "text/plain": [
       "Map(basemap={'url': 'http://server.arcgisonline.com/ArcGIS/rest/services/World_Street_Map/MapServer/tile/{z}/{…"
      ]
     },
     "metadata": {},
     "output_type": "display_data"
    }
   ],
   "source": [
    "from ipyleaflet import Map, basemaps, Popup\n",
    "from ipywidgets import HTML\n",
    "\n",
    "m = Map(\n",
    "    center=(42.3760, -71.1167), \n",
    "    zoom=15, \n",
    "    basemap = basemaps.Esri.WorldStreetMap\n",
    ")\n",
    "hks = Marker(location=(42.3714, -71.1220), rise_on_hover = True, draggable = False)\n",
    "hks_message = HTML()\n",
    "hks_message.value = \"\"\"\n",
    "<b> At the Kennedy School, I am reflecting on the regulation and self-regulation that will\n",
    "be most effective in harnessing the benefits of digital technology: </b>  \n",
    "<br> - As a student in Solutions for Technology's Public Dilemmas instructed by former secretary of defense Ash Carter \n",
    "<br> - As an active member in the Future Society, a student organization focused on emerging policy issues\n",
    "\n",
    "\"\"\"\n",
    "hks.popup = hks_message\n",
    "hls = Marker(location=(42.3781, -71.1188), draggable = False)\n",
    "hls_message = HTML()\n",
    "hls_message.value = \"\"\"\n",
    "<b> At the Law School, I am researching the legal ramifications of artificially intelligent devices: </b>\n",
    "<br> - As a research assistant for Sara Gerke, I study the implications of medical device regulation \n",
    "on machine learning used in healthcare settings\n",
    "<br> - As a member of Techtopia, I participate in bi-weekly interdisciplinary seminars on digital ethics\n",
    "\"\"\"\n",
    "hls.popup = hls_message\n",
    "seas = Marker(location=(42.3782, -71.1171), draggable = False)\n",
    "seas_message = HTML()\n",
    "seas_message.value = \"\"\"\n",
    "<b> At the Engineering School, I am promoting public interest technology: </b>\n",
    "<br> - As a student in the M.Sc. in Data Science Program, I am learning cutting edge techniques in statistics, computer science, and machine learning\n",
    "<br> - As a member of the Philantropy Advisory Fellowship, I am applying my statistical modelling skills to identify effective interventions to address the opioid epidemic\n",
    "<br> - I am creating a fellowship in public interest data science, to encourage students to apply their skills to social problems and prepare them for these challenges\n",
    "\n",
    "\"\"\"\n",
    "seas.popup = seas_message\n",
    "markers = [hks, hls, seas]\n",
    "for mark in markers:\n",
    "    m.add_layer(mark)\n",
    "m"
   ]
  },
  {
   "cell_type": "code",
   "execution_count": null,
   "metadata": {},
   "outputs": [],
   "source": []
  }
 ],
 "metadata": {
  "kernelspec": {
   "display_name": "Python 3",
   "language": "python",
   "name": "python3"
  },
  "language_info": {
   "codemirror_mode": {
    "name": "ipython",
    "version": 3
   },
   "file_extension": ".py",
   "mimetype": "text/x-python",
   "name": "python",
   "nbconvert_exporter": "python",
   "pygments_lexer": "ipython3",
   "version": "3.6.7"
  }
 },
 "nbformat": 4,
 "nbformat_minor": 2
}
