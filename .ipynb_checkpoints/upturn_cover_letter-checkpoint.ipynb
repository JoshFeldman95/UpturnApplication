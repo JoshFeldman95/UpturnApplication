{
 "cells": [
  {
   "cell_type": "markdown",
   "metadata": {},
   "source": [
    "Dear Ms. Dale:\n",
    "\n",
    "I am writing to apply for Upturn's 2019 Summer Fellowship. I heard about the opportunity from Hilary Ross, who was asked by Miranda Bogen to encourage those connected to Harvard's Berkman Klein Center for Internet & Society to apply. I later spoke with Ms. Bogen over the phone to learn more about Upturn’s fascinating advocacy. As someone who has a strong technical understanding of machine learning, I feel an obligation to ensure that algorithmic decision-making lessens rather than widens social inequality, which is why Upturn's mission deeply resonates with me.\n",
    "\n",
    "I am well-suited for this position because I have experience working across the many subjects involved in digital policy – interdisciplinary problems demand an interdisciplinary education. While I am currently based at Harvard's Engineering School completing a M.Sc. in Data Science, I have sought out opportunities to learn about the ethics and governance of AI across the Harvard institutions (see map below). Similarly, during my B.Sc. at Dalhousie University, I gained a foundation in mathematics and computer science, but also studied modern ethical, political, and literary debates through my minor in Contemporary Studies. The Upturn Summer Fellowship would allow me to both apply what I've learned from these many academic subjects and help me further develop my interdisciplinary research skills."
   ]
  },
  {
   "cell_type": "code",
   "execution_count": 5,
   "metadata": {},
   "outputs": [
    {
     "name": "stdout",
     "output_type": "stream",
     "text": [
      "Click the markers to learn more!\n"
     ]
    }
   ],
   "source": [
    "from ipyleaflet import Map, basemaps, Popup, Marker\n",
    "from ipywidgets import HTML\n",
    "\n",
    "m = Map(\n",
    "    center=(42.3760, -71.1167), \n",
    "    zoom=15, \n",
    "    basemap = basemaps.Esri.WorldStreetMap\n",
    ")\n",
    "hks = Marker(location=(42.3714, -71.1220), rise_on_hover = True, draggable = False)\n",
    "hks_message = HTML()\n",
    "hks_message.value = \"\"\"\n",
    "<b> At the Kennedy School, I am reflecting on the regulation and self-regulation that will\n",
    "be most effective in harnessing the benefits of digital technology: </b>  \n",
    "<br> - I am a student in Solutions for Technology's Public Dilemmas instructed by former secretary of defense Ash Carter \n",
    "<br> - I help organize events and programming tutorials with the Future Society, a student organization focused on emerging policy issues\n",
    "\n",
    "\"\"\"\n",
    "hks.popup = hks_message\n",
    "hls = Marker(location=(42.3781, -71.1188), draggable = False)\n",
    "hls_message = HTML()\n",
    "hls_message.value = \"\"\"\n",
    "<b> At the Law School, I am researching the legal ramifications of artificially intelligent devices: </b>\n",
    "<br> - As a research assistant for Sara Gerke, I study the implications of medical device regulation \n",
    "on machine learning used in healthcare settings\n",
    "<br> - As a member of Techtopia, I participate in bi-weekly interdisciplinary seminars on digital ethics\n",
    "\"\"\"\n",
    "hls.popup = hls_message\n",
    "seas = Marker(location=(42.3782, -71.1171), draggable = False)\n",
    "seas_message = HTML()\n",
    "seas_message.value = \"\"\"\n",
    "<b> At the Engineering School, I am promoting public interest technology: </b>\n",
    "<br> - I am creating a fellowship in public interest data science, to encourage students to apply their skills to social problems and prepare them for these challenges\n",
    "<br> - As a student in the M.Sc. in Data Science Program, I am learning cutting edge techniques in statistics, computer science, and machine learning\n",
    "<br> - As a member of the Philantropy Advisory Fellowship, I am applying my statistical modelling skills to identify effective interventions to address the opioid epidemic\n",
    "\"\"\"\n",
    "seas.popup = seas_message\n",
    "markers = [hks, hls, seas]\n",
    "for mark in markers:\n",
    "    m.add_layer(mark)\n",
    "\n",
    "\n",
    "print(\"Click the markers to learn more!\")"
   ]
  },
  {
   "cell_type": "code",
   "execution_count": 6,
   "metadata": {},
   "outputs": [
    {
     "data": {
      "application/vnd.jupyter.widget-view+json": {
       "model_id": "07627431b3034786bd249f946e3e813e",
       "version_major": 2,
       "version_minor": 0
      },
      "text/plain": [
       "Map(basemap={'url': 'http://server.arcgisonline.com/ArcGIS/rest/services/World_Street_Map/MapServer/tile/{z}/{…"
      ]
     },
     "metadata": {},
     "output_type": "display_data"
    }
   ],
   "source": [
    "m"
   ]
  },
  {
   "cell_type": "markdown",
   "metadata": {},
   "source": [
    "In addition to reaching across academic disciplines, when working on issues related to equity, I believe affected communities need to be involved and I seek out these partnerships. When I helped facilitate a summer reading camp for Indigenous children in northern Canada, I worked closely with my Inuit co-counselors to ensure that the camp was culturally relevant and that the material resonated with the students. Likewise, when I organized a homework club for new immigrants to Halifax, I would often co-teach with the older students. They had an intuitive understanding of the many social and linguistic barriers the students faced, which helped us overcome barriers unique to new immigrants in Canada. At Upturn, I would ensure to collaborate with the communities most negatively impacted by digital innovation.\n",
    "\n",
    "Thank you for considering my application. I would be very excited to help with Upturn’s important and timely digital advocacy.\n",
    "\n",
    "Sincerely,\n",
    "\n",
    "Joshua Feldman"
   ]
  }
 ],
 "metadata": {
  "kernelspec": {
   "display_name": "Python 3",
   "language": "python",
   "name": "python3"
  },
  "language_info": {
   "codemirror_mode": {
    "name": "ipython",
    "version": 3
   },
   "file_extension": ".py",
   "mimetype": "text/x-python",
   "name": "python",
   "nbconvert_exporter": "python",
   "pygments_lexer": "ipython3",
   "version": "3.6.6"
  },
  "widgets": {
   "application/vnd.jupyter.widget-state+json": {
    "state": {
     "04085f46b2334255a7a5c6c30b6cbbf3": {
      "model_module": "@jupyter-widgets/base",
      "model_module_version": "1.1.0",
      "model_name": "LayoutModel",
      "state": {}
     },
     "07627431b3034786bd249f946e3e813e": {
      "model_module": "jupyter-leaflet",
      "model_module_version": "~0.9.1",
      "model_name": "LeafletMapModel",
      "state": {
       "_dom_classes": [],
       "_model_module_version": "~0.9.1",
       "_view_count": null,
       "_view_module_version": "~0.9.1",
       "basemap": {
        "attribution": "Tiles &copy; Esri &mdash; Source: Esri, DeLorme, NAVTEQ, USGS, Intermap, iPC, NRCAN, Esri Japan, METI, Esri China (Hong Kong), Esri (Thailand), TomTom, 2012",
        "max_zoom": 20,
        "name": "Esri.WoldStreetMap",
        "url": "http://server.arcgisonline.com/ArcGIS/rest/services/World_Street_Map/MapServer/tile/{z}/{y}/{x}"
       },
       "center": [
        42.376,
        -71.1167
       ],
       "east": -71.09566211700441,
       "interpolation": "bilinear",
       "layers": [
        "IPY_MODEL_adb8301e359b4e68b53da231a4828ec8",
        "IPY_MODEL_53212bc0145d468dbc29221ef1004a2a",
        "IPY_MODEL_77603ee673d141ea8ecd1dfbf9eed696",
        "IPY_MODEL_7847fcd62d0e4a888678a367c5155752"
       ],
       "layout": "IPY_MODEL_a9f66586c91b442dbdf2aa987f8dd1cb",
       "modisdate": "yesterday",
       "north": 42.38235511234488,
       "options": [
        "attribution_control",
        "basemap",
        "bounce_at_zoom_limits",
        "box_zoom",
        "center",
        "close_popup_on_click",
        "double_click_zoom",
        "dragging",
        "inertia",
        "inertia_deceleration",
        "inertia_max_speed",
        "interpolation",
        "keyboard",
        "keyboard_pan_offset",
        "keyboard_zoom_offset",
        "max_zoom",
        "min_zoom",
        "scroll_wheel_zoom",
        "tap",
        "tap_tolerance",
        "touch_zoom",
        "world_copy_jump",
        "zoom",
        "zoom_animation_threshold",
        "zoom_control",
        "zoom_start"
       ],
       "south": 42.36967384179557,
       "west": -71.13776206970216,
       "zoom": 15
      }
     },
     "0826b6bd04704bfe88251bd71e4a243d": {
      "model_module": "@jupyter-widgets/base",
      "model_module_version": "1.1.0",
      "model_name": "LayoutModel",
      "state": {}
     },
     "09db2ab527844d1fab7f04f9e2bb26d1": {
      "model_module": "@jupyter-widgets/controls",
      "model_module_version": "1.4.0",
      "model_name": "DescriptionStyleModel",
      "state": {
       "description_width": ""
      }
     },
     "0cbb0424430441e98d56cf27bcfd8404": {
      "model_module": "jupyter-leaflet",
      "model_module_version": "~0.9.1",
      "model_name": "LeafletMarkerModel",
      "state": {
       "_model_module_version": "~0.9.1",
       "_view_count": null,
       "_view_module_version": "~0.9.1",
       "draggable": false,
       "location": [
        42.3781,
        -71.1188
       ],
       "options": [
        "alt",
        "draggable",
        "keyboard",
        "rise_offset",
        "rise_on_hover",
        "rotation_angle",
        "rotation_origin",
        "title",
        "z_index_offset"
       ],
       "popup": "IPY_MODEL_dede9a67cc754fd18758ed2f113acd4b"
      }
     },
     "1a20cc97b33042d8b217f4a9d5814fdd": {
      "model_module": "@jupyter-widgets/base",
      "model_module_version": "1.1.0",
      "model_name": "LayoutModel",
      "state": {}
     },
     "1fca0241ba6f471f9d1c40108f83e825": {
      "model_module": "@jupyter-widgets/base",
      "model_module_version": "1.1.0",
      "model_name": "LayoutModel",
      "state": {}
     },
     "2189c09627bb48c9a6b9d1fb119029ed": {
      "model_module": "@jupyter-widgets/controls",
      "model_module_version": "1.4.0",
      "model_name": "DescriptionStyleModel",
      "state": {
       "description_width": ""
      }
     },
     "2199f8b141bb4e858a9304d6aef0e69a": {
      "model_module": "jupyter-leaflet",
      "model_module_version": "~0.9.1",
      "model_name": "LeafletMarkerModel",
      "state": {
       "_model_module_version": "~0.9.1",
       "_view_count": null,
       "_view_module_version": "~0.9.1",
       "draggable": false,
       "location": [
        42.3714,
        -71.122
       ],
       "options": [
        "alt",
        "draggable",
        "keyboard",
        "rise_offset",
        "rise_on_hover",
        "rotation_angle",
        "rotation_origin",
        "title",
        "z_index_offset"
       ],
       "popup": "IPY_MODEL_6ed48a6e50a946e285b985874a81c940",
       "rise_on_hover": true
      }
     },
     "240ca9d8af3c4d8e97d51658018d51a2": {
      "model_module": "jupyter-leaflet",
      "model_module_version": "~0.9.1",
      "model_name": "LeafletMarkerModel",
      "state": {
       "_model_module_version": "~0.9.1",
       "_view_count": null,
       "_view_module_version": "~0.9.1",
       "draggable": false,
       "location": [
        42.3714,
        -71.122
       ],
       "options": [
        "alt",
        "draggable",
        "keyboard",
        "rise_offset",
        "rise_on_hover",
        "rotation_angle",
        "rotation_origin",
        "title",
        "z_index_offset"
       ],
       "popup": "IPY_MODEL_47ab95ae55234c3da0d0879747bf3cc0",
       "rise_on_hover": true
      }
     },
     "27f2f8831bb04761a0172512f737b97f": {
      "model_module": "@jupyter-widgets/controls",
      "model_module_version": "1.4.0",
      "model_name": "HTMLModel",
      "state": {
       "layout": "IPY_MODEL_0826b6bd04704bfe88251bd71e4a243d",
       "style": "IPY_MODEL_bc2a61225acf420ab41ca6664c723a26",
       "value": "\n<b> At the Engineering School, I am promoting public interest technology: </b>\n<br> - I am creating a fellowship in public interest data science, to encourage students to apply their skills to social problems and prepare them for these challenges\n<br> - As a student in the M.Sc. in Data Science Program, I am learning cutting edge techniques in statistics, computer science, and machine learning\n<br> - As a member of the Philantropy Advisory Fellowship, I am applying my statistical modelling skills to identify effective interventions to address the opioid epidemic\n"
      }
     },
     "2b211253b51b461fbbe8bd86d0eead51": {
      "model_module": "jupyter-leaflet",
      "model_module_version": "~0.9.1",
      "model_name": "LeafletMarkerModel",
      "state": {
       "_model_module_version": "~0.9.1",
       "_view_count": null,
       "_view_module_version": "~0.9.1",
       "draggable": false,
       "location": [
        42.3782,
        -71.1171
       ],
       "options": [
        "alt",
        "draggable",
        "keyboard",
        "rise_offset",
        "rise_on_hover",
        "rotation_angle",
        "rotation_origin",
        "title",
        "z_index_offset"
       ],
       "popup": "IPY_MODEL_27f2f8831bb04761a0172512f737b97f"
      }
     },
     "2d12c337ee274f4b90f64ab998f309de": {
      "model_module": "@jupyter-widgets/controls",
      "model_module_version": "1.4.0",
      "model_name": "DescriptionStyleModel",
      "state": {
       "description_width": ""
      }
     },
     "2d13584ae8ca4116a58afabe1e6efdd9": {
      "model_module": "@jupyter-widgets/controls",
      "model_module_version": "1.4.0",
      "model_name": "HTMLModel",
      "state": {
       "layout": "IPY_MODEL_a8c646c3dfa54767974dc6db4e6eeb55",
       "style": "IPY_MODEL_09db2ab527844d1fab7f04f9e2bb26d1",
       "value": "\n<b> At the Kennedy School, I am reflecting on the regulation and self-regulation that will\nbe most effective in harnessing the benefits of digital technology: </b>  \n<br> - As a student in Solutions for Technology's Public Dilemmas instructed by former secretary of defense Ash Carter \n<br> - As an active member in the Future Society, a student organization focused on emerging policy issues\n\n"
      }
     },
     "2e9c138dd77146369230d05461c2bb43": {
      "model_module": "@jupyter-widgets/base",
      "model_module_version": "1.1.0",
      "model_name": "LayoutModel",
      "state": {}
     },
     "32a9d203c4d84088b0f464f0f0711aca": {
      "model_module": "@jupyter-widgets/controls",
      "model_module_version": "1.4.0",
      "model_name": "HTMLModel",
      "state": {
       "layout": "IPY_MODEL_67772ca8a1ba49de9220721bfa9b4501",
       "style": "IPY_MODEL_61da5e409add46ea8872f2f1260c9c4f",
       "value": "\n<b> At the Law School, I am researching the legal ramifications of artificially intelligent devices: </b>\n<br> - As a research assistant for Sara Gerke, I study the implications of medical device regulation \non machine learning used in healthcare settings\n<br> - As a member of Techtopia, I participate in bi-weekly interdisciplinary seminars on digital ethics\n"
      }
     },
     "413234676fb1430399368a28173f7fdc": {
      "model_module": "@jupyter-widgets/base",
      "model_module_version": "1.1.0",
      "model_name": "LayoutModel",
      "state": {}
     },
     "4779e2af02324ebd85b4c861dc16da38": {
      "model_module": "jupyter-leaflet",
      "model_module_version": "~0.9.1",
      "model_name": "LeafletTileLayerModel",
      "state": {
       "_model_module_version": "~0.9.1",
       "_view_count": null,
       "_view_module_version": "~0.9.1",
       "attribution": "Tiles &copy; Esri &mdash; Source: Esri, DeLorme, NAVTEQ, USGS, Intermap, iPC, NRCAN, Esri Japan, METI, Esri China (Hong Kong), Esri (Thailand), TomTom, 2012",
       "base": true,
       "max_zoom": 20,
       "min_zoom": 1,
       "name": "Esri.WoldStreetMap",
       "options": [
        "attribution",
        "detect_retina",
        "max_zoom",
        "min_zoom",
        "tile_size"
       ],
       "url": "http://server.arcgisonline.com/ArcGIS/rest/services/World_Street_Map/MapServer/tile/{z}/{y}/{x}"
      }
     },
     "47ab95ae55234c3da0d0879747bf3cc0": {
      "model_module": "@jupyter-widgets/controls",
      "model_module_version": "1.4.0",
      "model_name": "HTMLModel",
      "state": {
       "layout": "IPY_MODEL_60586c7b12e04315bc497548923d48d1",
       "style": "IPY_MODEL_e4de3d69ccb54e6781a90d9045a54ee1",
       "value": "\n<b> At the Kennedy School, I am reflecting on the regulation and self-regulation that will\nbe most effective in harnessing the benefits of digital technology: </b>  \n<br> - As a student in Solutions for Technology's Public Dilemmas instructed by former secretary of defense Ash Carter \n<br> - As an active member in the Future Society, a student organization focused on emerging policy issues\n\n"
      }
     },
     "4832de96cba640d6961e6602f5ceb7f0": {
      "model_module": "@jupyter-widgets/controls",
      "model_module_version": "1.4.0",
      "model_name": "DescriptionStyleModel",
      "state": {
       "description_width": ""
      }
     },
     "49f778c5237e4e5fa85c98e84d49cd70": {
      "model_module": "@jupyter-widgets/controls",
      "model_module_version": "1.4.0",
      "model_name": "DescriptionStyleModel",
      "state": {
       "description_width": ""
      }
     },
     "53212bc0145d468dbc29221ef1004a2a": {
      "model_module": "jupyter-leaflet",
      "model_module_version": "~0.9.1",
      "model_name": "LeafletMarkerModel",
      "state": {
       "_model_module_version": "~0.9.1",
       "_view_count": null,
       "_view_module_version": "~0.9.1",
       "draggable": false,
       "location": [
        42.3714,
        -71.122
       ],
       "options": [
        "alt",
        "draggable",
        "keyboard",
        "rise_offset",
        "rise_on_hover",
        "rotation_angle",
        "rotation_origin",
        "title",
        "z_index_offset"
       ],
       "popup": "IPY_MODEL_e16722ef3b134d558a67659a7d85747c",
       "rise_on_hover": true
      }
     },
     "5cdcb17443d343a8a40242805db51b69": {
      "model_module": "@jupyter-widgets/controls",
      "model_module_version": "1.4.0",
      "model_name": "DescriptionStyleModel",
      "state": {
       "description_width": ""
      }
     },
     "60586c7b12e04315bc497548923d48d1": {
      "model_module": "@jupyter-widgets/base",
      "model_module_version": "1.1.0",
      "model_name": "LayoutModel",
      "state": {}
     },
     "61da5e409add46ea8872f2f1260c9c4f": {
      "model_module": "@jupyter-widgets/controls",
      "model_module_version": "1.4.0",
      "model_name": "DescriptionStyleModel",
      "state": {
       "description_width": ""
      }
     },
     "625da6c762bb4c2ea9e67b30e882790c": {
      "model_module": "@jupyter-widgets/controls",
      "model_module_version": "1.4.0",
      "model_name": "DescriptionStyleModel",
      "state": {
       "description_width": ""
      }
     },
     "67772ca8a1ba49de9220721bfa9b4501": {
      "model_module": "@jupyter-widgets/base",
      "model_module_version": "1.1.0",
      "model_name": "LayoutModel",
      "state": {}
     },
     "6898336e5e8d4600819dce3251b748a6": {
      "model_module": "@jupyter-widgets/base",
      "model_module_version": "1.1.0",
      "model_name": "LayoutModel",
      "state": {}
     },
     "6eb9d3326faa41bd9c1ad84118d46de2": {
      "model_module": "jupyter-leaflet",
      "model_module_version": "~0.9.1",
      "model_name": "LeafletTileLayerModel",
      "state": {
       "_model_module_version": "~0.9.1",
       "_view_count": null,
       "_view_module_version": "~0.9.1",
       "attribution": "Tiles &copy; Esri &mdash; Source: Esri, DeLorme, NAVTEQ, USGS, Intermap, iPC, NRCAN, Esri Japan, METI, Esri China (Hong Kong), Esri (Thailand), TomTom, 2012",
       "base": true,
       "max_zoom": 20,
       "min_zoom": 1,
       "name": "Esri.WoldStreetMap",
       "options": [
        "attribution",
        "detect_retina",
        "max_zoom",
        "min_zoom",
        "tile_size"
       ],
       "url": "http://server.arcgisonline.com/ArcGIS/rest/services/World_Street_Map/MapServer/tile/{z}/{y}/{x}"
      }
     },
     "6ed48a6e50a946e285b985874a81c940": {
      "model_module": "@jupyter-widgets/controls",
      "model_module_version": "1.4.0",
      "model_name": "HTMLModel",
      "state": {
       "layout": "IPY_MODEL_1a20cc97b33042d8b217f4a9d5814fdd",
       "style": "IPY_MODEL_be02ad26555b46c381b9450401c4444a",
       "value": "\n<b> At the Kennedy School, I am reflecting on the regulation and self-regulation that will\nbe most effective in harnessing the benefits of digital technology: </b>  \n<br> - I am a student in Solutions for Technology's Public Dilemmas instructed by former secretary of defense Ash Carter \n<br> - I help organize events and programming tutorials with the Future Society, a student organization focused on emerging policy issues\n\n"
      }
     },
     "710b39d6090349698023cc3b5d486f9f": {
      "model_module": "jupyter-leaflet",
      "model_module_version": "~0.9.1",
      "model_name": "LeafletMarkerModel",
      "state": {
       "_model_module_version": "~0.9.1",
       "_view_count": null,
       "_view_module_version": "~0.9.1",
       "draggable": false,
       "location": [
        42.3782,
        -71.1171
       ],
       "options": [
        "alt",
        "draggable",
        "keyboard",
        "rise_offset",
        "rise_on_hover",
        "rotation_angle",
        "rotation_origin",
        "title",
        "z_index_offset"
       ],
       "popup": "IPY_MODEL_e2dfb1aa6fb24dcab09a756e9b569c22"
      }
     },
     "75439ec1e10d45458ca2116443497f2e": {
      "model_module": "@jupyter-widgets/controls",
      "model_module_version": "1.4.0",
      "model_name": "HTMLModel",
      "state": {
       "layout": "IPY_MODEL_1fca0241ba6f471f9d1c40108f83e825",
       "style": "IPY_MODEL_dc9ec891df414b25a9cc6af9af24929b",
       "value": "\n<b> At the Engineering School, I am promoting public interest technology: </b>\n<br> - I am creating a fellowship in public interest data science, to encourage students to apply their skills to social problems and prepare them for these challenges\n<br> - As a student in the M.Sc. in Data Science Program, I am learning cutting edge techniques in statistics, computer science, and machine learning\n<br> - As a member of the Philantropy Advisory Fellowship, I am applying my statistical modelling skills to identify effective interventions to address the opioid epidemic\n"
      }
     },
     "7572083203884e978e156deea14b17e3": {
      "model_module": "@jupyter-widgets/base",
      "model_module_version": "1.1.0",
      "model_name": "LayoutModel",
      "state": {}
     },
     "7599bc7351c746888233828d4fe6ab00": {
      "model_module": "jupyter-leaflet",
      "model_module_version": "~0.9.1",
      "model_name": "LeafletMapModel",
      "state": {
       "_dom_classes": [],
       "_model_module_version": "~0.9.1",
       "_view_count": null,
       "_view_module_version": "~0.9.1",
       "basemap": {
        "attribution": "Tiles &copy; Esri &mdash; Source: Esri, DeLorme, NAVTEQ, USGS, Intermap, iPC, NRCAN, Esri Japan, METI, Esri China (Hong Kong), Esri (Thailand), TomTom, 2012",
        "max_zoom": 20,
        "name": "Esri.WoldStreetMap",
        "url": "http://server.arcgisonline.com/ArcGIS/rest/services/World_Street_Map/MapServer/tile/{z}/{y}/{x}"
       },
       "center": [
        42.3765854517469,
        -71.11671209335329
       ],
       "east": -71.09566211700441,
       "interpolation": "bilinear",
       "layers": [
        "IPY_MODEL_81b32f1bf4424a4da3399a7d853de562",
        "IPY_MODEL_f9d17b54a25f4b8098fe65825a14e7f1",
        "IPY_MODEL_c4d03a6f32594e2cb0035b943f9d3dbe",
        "IPY_MODEL_710b39d6090349698023cc3b5d486f9f"
       ],
       "layout": "IPY_MODEL_6898336e5e8d4600819dce3251b748a6",
       "modisdate": "yesterday",
       "north": 42.38292570930936,
       "options": [
        "attribution_control",
        "basemap",
        "bounce_at_zoom_limits",
        "box_zoom",
        "center",
        "close_popup_on_click",
        "double_click_zoom",
        "dragging",
        "inertia",
        "inertia_deceleration",
        "inertia_max_speed",
        "interpolation",
        "keyboard",
        "keyboard_pan_offset",
        "keyboard_zoom_offset",
        "max_zoom",
        "min_zoom",
        "scroll_wheel_zoom",
        "tap",
        "tap_tolerance",
        "touch_zoom",
        "world_copy_jump",
        "zoom",
        "zoom_animation_threshold",
        "zoom_control",
        "zoom_start"
       ],
       "south": 42.37024455399419,
       "west": -71.13776206970216,
       "zoom": 15
      }
     },
     "77603ee673d141ea8ecd1dfbf9eed696": {
      "model_module": "jupyter-leaflet",
      "model_module_version": "~0.9.1",
      "model_name": "LeafletMarkerModel",
      "state": {
       "_model_module_version": "~0.9.1",
       "_view_count": null,
       "_view_module_version": "~0.9.1",
       "draggable": false,
       "location": [
        42.3781,
        -71.1188
       ],
       "options": [
        "alt",
        "draggable",
        "keyboard",
        "rise_offset",
        "rise_on_hover",
        "rotation_angle",
        "rotation_origin",
        "title",
        "z_index_offset"
       ],
       "popup": "IPY_MODEL_f29e60bf5cf34f76a9e22963c5ceb14d"
      }
     },
     "7847fcd62d0e4a888678a367c5155752": {
      "model_module": "jupyter-leaflet",
      "model_module_version": "~0.9.1",
      "model_name": "LeafletMarkerModel",
      "state": {
       "_model_module_version": "~0.9.1",
       "_view_count": null,
       "_view_module_version": "~0.9.1",
       "draggable": false,
       "location": [
        42.3782,
        -71.1171
       ],
       "options": [
        "alt",
        "draggable",
        "keyboard",
        "rise_offset",
        "rise_on_hover",
        "rotation_angle",
        "rotation_origin",
        "title",
        "z_index_offset"
       ],
       "popup": "IPY_MODEL_75439ec1e10d45458ca2116443497f2e"
      }
     },
     "7b832057f03e4ec2af2217f18d555b79": {
      "model_module": "@jupyter-widgets/base",
      "model_module_version": "1.1.0",
      "model_name": "LayoutModel",
      "state": {}
     },
     "81b32f1bf4424a4da3399a7d853de562": {
      "model_module": "jupyter-leaflet",
      "model_module_version": "~0.9.1",
      "model_name": "LeafletTileLayerModel",
      "state": {
       "_model_module_version": "~0.9.1",
       "_view_count": null,
       "_view_module_version": "~0.9.1",
       "attribution": "Tiles &copy; Esri &mdash; Source: Esri, DeLorme, NAVTEQ, USGS, Intermap, iPC, NRCAN, Esri Japan, METI, Esri China (Hong Kong), Esri (Thailand), TomTom, 2012",
       "base": true,
       "max_zoom": 20,
       "min_zoom": 1,
       "name": "Esri.WoldStreetMap",
       "options": [
        "attribution",
        "detect_retina",
        "max_zoom",
        "min_zoom",
        "tile_size"
       ],
       "url": "http://server.arcgisonline.com/ArcGIS/rest/services/World_Street_Map/MapServer/tile/{z}/{y}/{x}"
      }
     },
     "893c9448c4a444b8a68253deb90d53af": {
      "model_module": "jupyter-leaflet",
      "model_module_version": "~0.9.1",
      "model_name": "LeafletMapModel",
      "state": {
       "_dom_classes": [],
       "_model_module_version": "~0.9.1",
       "_view_count": null,
       "_view_module_version": "~0.9.1",
       "basemap": {
        "attribution": "Tiles &copy; Esri &mdash; Source: Esri, DeLorme, NAVTEQ, USGS, Intermap, iPC, NRCAN, Esri Japan, METI, Esri China (Hong Kong), Esri (Thailand), TomTom, 2012",
        "max_zoom": 20,
        "name": "Esri.WoldStreetMap",
        "url": "http://server.arcgisonline.com/ArcGIS/rest/services/World_Street_Map/MapServer/tile/{z}/{y}/{x}"
       },
       "center": [
        42.37552029997061,
        -71.11830163747074
       ],
       "east": -71.09725166112186,
       "interpolation": "bilinear",
       "layers": [
        "IPY_MODEL_4779e2af02324ebd85b4c861dc16da38",
        "IPY_MODEL_2199f8b141bb4e858a9304d6aef0e69a",
        "IPY_MODEL_ade672cff9844771bf4128831d190669",
        "IPY_MODEL_2b211253b51b461fbbe8bd86d0eead51"
       ],
       "layout": "IPY_MODEL_7b832057f03e4ec2af2217f18d555b79",
       "modisdate": "yesterday",
       "north": 42.38186066507845,
       "options": [
        "attribution_control",
        "basemap",
        "bounce_at_zoom_limits",
        "box_zoom",
        "center",
        "close_popup_on_click",
        "double_click_zoom",
        "dragging",
        "inertia",
        "inertia_deceleration",
        "inertia_max_speed",
        "interpolation",
        "keyboard",
        "keyboard_pan_offset",
        "keyboard_zoom_offset",
        "max_zoom",
        "min_zoom",
        "scroll_wheel_zoom",
        "tap",
        "tap_tolerance",
        "touch_zoom",
        "world_copy_jump",
        "zoom",
        "zoom_animation_threshold",
        "zoom_control",
        "zoom_start"
       ],
       "south": 42.36917929467472,
       "west": -71.13935161381961,
       "zoom": 15
      }
     },
     "8f9d44e1d18b492fb951b582219b3091": {
      "model_module": "@jupyter-widgets/controls",
      "model_module_version": "1.4.0",
      "model_name": "HTMLModel",
      "state": {
       "layout": "IPY_MODEL_413234676fb1430399368a28173f7fdc",
       "style": "IPY_MODEL_2d12c337ee274f4b90f64ab998f309de",
       "value": "\n<b> At the Engineering School, I am promoting public interest technology: </b>\n<br> - As a student in the M.Sc. in Data Science Program, I am learning cutting edge techniques in statistics, computer science, and machine learning\n<br> - As a member of the Philantropy Advisory Fellowship, I am applying my statistical modelling skills to identify effective interventions to address the opioid epidemic\n<br> - I am creating a fellowship in public interest data science, to encourage students to apply their skills to social problems and prepare them for these challenges\n\n"
      }
     },
     "a68db0f26bd14228abdccd15946e7f44": {
      "model_module": "@jupyter-widgets/base",
      "model_module_version": "1.1.0",
      "model_name": "LayoutModel",
      "state": {}
     },
     "a8c646c3dfa54767974dc6db4e6eeb55": {
      "model_module": "@jupyter-widgets/base",
      "model_module_version": "1.1.0",
      "model_name": "LayoutModel",
      "state": {}
     },
     "a9f66586c91b442dbdf2aa987f8dd1cb": {
      "model_module": "@jupyter-widgets/base",
      "model_module_version": "1.1.0",
      "model_name": "LayoutModel",
      "state": {}
     },
     "adb8301e359b4e68b53da231a4828ec8": {
      "model_module": "jupyter-leaflet",
      "model_module_version": "~0.9.1",
      "model_name": "LeafletTileLayerModel",
      "state": {
       "_model_module_version": "~0.9.1",
       "_view_count": null,
       "_view_module_version": "~0.9.1",
       "attribution": "Tiles &copy; Esri &mdash; Source: Esri, DeLorme, NAVTEQ, USGS, Intermap, iPC, NRCAN, Esri Japan, METI, Esri China (Hong Kong), Esri (Thailand), TomTom, 2012",
       "base": true,
       "max_zoom": 20,
       "min_zoom": 1,
       "name": "Esri.WoldStreetMap",
       "options": [
        "attribution",
        "detect_retina",
        "max_zoom",
        "min_zoom",
        "tile_size"
       ],
       "url": "http://server.arcgisonline.com/ArcGIS/rest/services/World_Street_Map/MapServer/tile/{z}/{y}/{x}"
      }
     },
     "ade672cff9844771bf4128831d190669": {
      "model_module": "jupyter-leaflet",
      "model_module_version": "~0.9.1",
      "model_name": "LeafletMarkerModel",
      "state": {
       "_model_module_version": "~0.9.1",
       "_view_count": null,
       "_view_module_version": "~0.9.1",
       "draggable": false,
       "location": [
        42.3781,
        -71.1188
       ],
       "options": [
        "alt",
        "draggable",
        "keyboard",
        "rise_offset",
        "rise_on_hover",
        "rotation_angle",
        "rotation_origin",
        "title",
        "z_index_offset"
       ],
       "popup": "IPY_MODEL_32a9d203c4d84088b0f464f0f0711aca"
      }
     },
     "b22700391df34fefaa59454a02e8d8dd": {
      "model_module": "@jupyter-widgets/base",
      "model_module_version": "1.1.0",
      "model_name": "LayoutModel",
      "state": {}
     },
     "b821252208ee431ea1c38c8be2eb5343": {
      "model_module": "jupyter-leaflet",
      "model_module_version": "~0.9.1",
      "model_name": "LeafletMapModel",
      "state": {
       "_dom_classes": [],
       "_model_module_version": "~0.9.1",
       "_view_count": null,
       "_view_module_version": "~0.9.1",
       "basemap": {
        "attribution": "Tiles &copy; Esri &mdash; Source: Esri, DeLorme, NAVTEQ, USGS, Intermap, iPC, NRCAN, Esri Japan, METI, Esri China (Hong Kong), Esri (Thailand), TomTom, 2012",
        "max_zoom": 20,
        "name": "Esri.WoldStreetMap",
        "url": "http://server.arcgisonline.com/ArcGIS/rest/services/World_Street_Map/MapServer/tile/{z}/{y}/{x}"
       },
       "center": [
        42.376,
        -71.1167
       ],
       "east": -71.09566211700441,
       "interpolation": "bilinear",
       "layers": [
        "IPY_MODEL_6eb9d3326faa41bd9c1ad84118d46de2",
        "IPY_MODEL_240ca9d8af3c4d8e97d51658018d51a2",
        "IPY_MODEL_0cbb0424430441e98d56cf27bcfd8404",
        "IPY_MODEL_bd28f515004d4843985f7e863ba12414"
       ],
       "layout": "IPY_MODEL_04085f46b2334255a7a5c6c30b6cbbf3",
       "modisdate": "yesterday",
       "north": 42.38235511234488,
       "options": [
        "attribution_control",
        "basemap",
        "bounce_at_zoom_limits",
        "box_zoom",
        "center",
        "close_popup_on_click",
        "double_click_zoom",
        "dragging",
        "inertia",
        "inertia_deceleration",
        "inertia_max_speed",
        "interpolation",
        "keyboard",
        "keyboard_pan_offset",
        "keyboard_zoom_offset",
        "max_zoom",
        "min_zoom",
        "scroll_wheel_zoom",
        "tap",
        "tap_tolerance",
        "touch_zoom",
        "world_copy_jump",
        "zoom",
        "zoom_animation_threshold",
        "zoom_control",
        "zoom_start"
       ],
       "south": 42.36967384179557,
       "west": -71.13776206970216,
       "zoom": 15
      }
     },
     "b857c9c9429c46d3afdc6218591156f4": {
      "model_module": "@jupyter-widgets/base",
      "model_module_version": "1.1.0",
      "model_name": "LayoutModel",
      "state": {}
     },
     "bc2a61225acf420ab41ca6664c723a26": {
      "model_module": "@jupyter-widgets/controls",
      "model_module_version": "1.4.0",
      "model_name": "DescriptionStyleModel",
      "state": {
       "description_width": ""
      }
     },
     "bd28f515004d4843985f7e863ba12414": {
      "model_module": "jupyter-leaflet",
      "model_module_version": "~0.9.1",
      "model_name": "LeafletMarkerModel",
      "state": {
       "_model_module_version": "~0.9.1",
       "_view_count": null,
       "_view_module_version": "~0.9.1",
       "draggable": false,
       "location": [
        42.3782,
        -71.1171
       ],
       "options": [
        "alt",
        "draggable",
        "keyboard",
        "rise_offset",
        "rise_on_hover",
        "rotation_angle",
        "rotation_origin",
        "title",
        "z_index_offset"
       ],
       "popup": "IPY_MODEL_8f9d44e1d18b492fb951b582219b3091"
      }
     },
     "be02ad26555b46c381b9450401c4444a": {
      "model_module": "@jupyter-widgets/controls",
      "model_module_version": "1.4.0",
      "model_name": "DescriptionStyleModel",
      "state": {
       "description_width": ""
      }
     },
     "c4d03a6f32594e2cb0035b943f9d3dbe": {
      "model_module": "jupyter-leaflet",
      "model_module_version": "~0.9.1",
      "model_name": "LeafletMarkerModel",
      "state": {
       "_model_module_version": "~0.9.1",
       "_view_count": null,
       "_view_module_version": "~0.9.1",
       "draggable": false,
       "location": [
        42.3781,
        -71.1188
       ],
       "options": [
        "alt",
        "draggable",
        "keyboard",
        "rise_offset",
        "rise_on_hover",
        "rotation_angle",
        "rotation_origin",
        "title",
        "z_index_offset"
       ],
       "popup": "IPY_MODEL_ee6297fc558f4c278fe2ed9ea4962305"
      }
     },
     "dc9ec891df414b25a9cc6af9af24929b": {
      "model_module": "@jupyter-widgets/controls",
      "model_module_version": "1.4.0",
      "model_name": "DescriptionStyleModel",
      "state": {
       "description_width": ""
      }
     },
     "dede9a67cc754fd18758ed2f113acd4b": {
      "model_module": "@jupyter-widgets/controls",
      "model_module_version": "1.4.0",
      "model_name": "HTMLModel",
      "state": {
       "layout": "IPY_MODEL_b857c9c9429c46d3afdc6218591156f4",
       "style": "IPY_MODEL_4832de96cba640d6961e6602f5ceb7f0",
       "value": "\n<b> At the Law School, I am researching the legal ramifications of artificially intelligent devices: </b>\n<br> - As a research assistant for Sara Gerke, I study the implications of medical device regulation \non machine learning used in healthcare settings\n<br> - As a member of Techtopia, I participate in bi-weekly interdisciplinary seminars on digital ethics\n"
      }
     },
     "e16722ef3b134d558a67659a7d85747c": {
      "model_module": "@jupyter-widgets/controls",
      "model_module_version": "1.4.0",
      "model_name": "HTMLModel",
      "state": {
       "layout": "IPY_MODEL_2e9c138dd77146369230d05461c2bb43",
       "style": "IPY_MODEL_625da6c762bb4c2ea9e67b30e882790c",
       "value": "\n<b> At the Kennedy School, I am reflecting on the regulation and self-regulation that will\nbe most effective in harnessing the benefits of digital technology: </b>  \n<br> - I am a student in Solutions for Technology's Public Dilemmas instructed by former secretary of defense Ash Carter \n<br> - I help organize events and programming tutorials with the Future Society, a student organization focused on emerging policy issues\n\n"
      }
     },
     "e2dfb1aa6fb24dcab09a756e9b569c22": {
      "model_module": "@jupyter-widgets/controls",
      "model_module_version": "1.4.0",
      "model_name": "HTMLModel",
      "state": {
       "layout": "IPY_MODEL_7572083203884e978e156deea14b17e3",
       "style": "IPY_MODEL_5cdcb17443d343a8a40242805db51b69",
       "value": "\n<b> At the Engineering School, I am promoting public interest technology: </b>\n<br> - As a student in the M.Sc. in Data Science Program, I am learning cutting edge techniques in statistics, computer science, and machine learning\n<br> - As a member of the Philantropy Advisory Fellowship, I am applying my statistical modelling skills to identify effective interventions to address the opioid epidemic\n<br> - I am creating a fellowship in public interest data science, to encourage students to apply their skills to social problems and prepare them for these challenges\n\n"
      }
     },
     "e4de3d69ccb54e6781a90d9045a54ee1": {
      "model_module": "@jupyter-widgets/controls",
      "model_module_version": "1.4.0",
      "model_name": "DescriptionStyleModel",
      "state": {
       "description_width": ""
      }
     },
     "ee6297fc558f4c278fe2ed9ea4962305": {
      "model_module": "@jupyter-widgets/controls",
      "model_module_version": "1.4.0",
      "model_name": "HTMLModel",
      "state": {
       "layout": "IPY_MODEL_b22700391df34fefaa59454a02e8d8dd",
       "style": "IPY_MODEL_49f778c5237e4e5fa85c98e84d49cd70",
       "value": "\n<b> At the Law School, I am researching the legal ramifications of artificially intelligent devices: </b>\n<br> - As a research assistant for Sara Gerke, I study the implications of medical device regulation \non machine learning used in healthcare settings\n<br> - As a member of Techtopia, I participate in bi-weekly interdisciplinary seminars on digital ethics\n"
      }
     },
     "f29e60bf5cf34f76a9e22963c5ceb14d": {
      "model_module": "@jupyter-widgets/controls",
      "model_module_version": "1.4.0",
      "model_name": "HTMLModel",
      "state": {
       "layout": "IPY_MODEL_a68db0f26bd14228abdccd15946e7f44",
       "style": "IPY_MODEL_2189c09627bb48c9a6b9d1fb119029ed",
       "value": "\n<b> At the Law School, I am researching the legal ramifications of artificially intelligent devices: </b>\n<br> - As a research assistant for Sara Gerke, I study the implications of medical device regulation \non machine learning used in healthcare settings\n<br> - As a member of Techtopia, I participate in bi-weekly interdisciplinary seminars on digital ethics\n"
      }
     },
     "f9d17b54a25f4b8098fe65825a14e7f1": {
      "model_module": "jupyter-leaflet",
      "model_module_version": "~0.9.1",
      "model_name": "LeafletMarkerModel",
      "state": {
       "_model_module_version": "~0.9.1",
       "_view_count": null,
       "_view_module_version": "~0.9.1",
       "draggable": false,
       "location": [
        42.3714,
        -71.122
       ],
       "options": [
        "alt",
        "draggable",
        "keyboard",
        "rise_offset",
        "rise_on_hover",
        "rotation_angle",
        "rotation_origin",
        "title",
        "z_index_offset"
       ],
       "popup": "IPY_MODEL_2d13584ae8ca4116a58afabe1e6efdd9",
       "rise_on_hover": true
      }
     }
    },
    "version_major": 2,
    "version_minor": 0
   }
  }
 },
 "nbformat": 4,
 "nbformat_minor": 2
}
