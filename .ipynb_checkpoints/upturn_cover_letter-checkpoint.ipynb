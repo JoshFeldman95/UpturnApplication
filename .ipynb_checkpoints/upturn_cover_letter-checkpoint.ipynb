{
 "cells": [
  {
   "attachments": {},
   "cell_type": "markdown",
   "metadata": {},
   "source": [
    "Dear Ms. Dale:\n",
    "\n",
    "I am writing to apply for Upturn's 2019 Summer Fellowship. I heard about the opportunity from Hilary Ross, who was asked by Miranda Bogen to encourage those connected to Harvard's Berkman Klein Center for Internet & Society to apply. I later spoke with Ms. Bogen over the phone to learn more about Upturn’s fascinating advocacy. As someone who has a strong technical understanding of machine learning, I feel an obligation to ensure that algorithmic decision-making lessens rather than widens social inequality, which is why Upturn's mission deeply resonates with me.\n",
    "\n",
    "I am well-suited for this position because I have experience working across the many subjects involved in digital policy – interdisciplinary problems demand an interdisciplinary education. While I am currently based at Harvard's Engineering School completing a M.Sc. in Data Science, I have sought out opportunities to learn about the ethics and governance of AI across the Harvard institutions (see map below). Similarly, during my B.Sc. at Dalhousie University, I gained a foundation in mathematics and computer science, but also studied modern ethical, political, and literary debates through my minor in Contemporary Studies. The Upturn Summer Fellowship would allow me to both apply what I've learned from these many academic subjects and help me further develop my interdisciplinary research skills."
   ]
  },
  {
   "cell_type": "code",
   "execution_count": 1,
   "metadata": {},
   "outputs": [
    {
     "name": "stdout",
     "output_type": "stream",
     "text": [
      "Click the markers to learn more!\n"
     ]
    }
   ],
   "source": [
    "from ipyleaflet import Map, basemaps, Popup, Marker\n",
    "from ipywidgets import HTML\n",
    "\n",
    "m = Map(\n",
    "    center=(42.3760, -71.1167), \n",
    "    zoom=15, \n",
    "    basemap = basemaps.Esri.WorldStreetMap\n",
    ")\n",
    "hks = Marker(location=(42.3714, -71.1220), rise_on_hover = True, draggable = False)\n",
    "hks_message = HTML()\n",
    "hks_message.value = \"\"\"\n",
    "<b> At the Kennedy School, I am reflecting on the regulation and self-regulation that will\n",
    "be most effective in harnessing the benefits of digital technology: </b>  \n",
    "<br> - As a student in Solutions for Technology's Public Dilemmas instructed by former secretary of defense Ash Carter \n",
    "<br> - As an active member in the Future Society, a student organization focused on emerging policy issues\n",
    "\n",
    "\"\"\"\n",
    "hks.popup = hks_message\n",
    "hls = Marker(location=(42.3781, -71.1188), draggable = False)\n",
    "hls_message = HTML()\n",
    "hls_message.value = \"\"\"\n",
    "<b> At the Law School, I am researching the legal ramifications of artificially intelligent devices: </b>\n",
    "<br> - As a research assistant for Sara Gerke, I study the implications of medical device regulation \n",
    "on machine learning used in healthcare settings\n",
    "<br> - As a member of Techtopia, I participate in bi-weekly interdisciplinary seminars on digital ethics\n",
    "\"\"\"\n",
    "hls.popup = hls_message\n",
    "seas = Marker(location=(42.3782, -71.1171), draggable = False)\n",
    "seas_message = HTML()\n",
    "seas_message.value = \"\"\"\n",
    "<b> At the Engineering School, I am promoting public interest technology: </b>\n",
    "<br> - As a student in the M.Sc. in Data Science Program, I am learning cutting edge techniques in statistics, computer science, and machine learning\n",
    "<br> - As a member of the Philantropy Advisory Fellowship, I am applying my statistical modelling skills to identify effective interventions to address the opioid epidemic\n",
    "<br> - I am creating a fellowship in public interest data science, to encourage students to apply their skills to social problems and prepare them for these challenges\n",
    "\n",
    "\"\"\"\n",
    "seas.popup = seas_message\n",
    "markers = [hks, hls, seas]\n",
    "for mark in markers:\n",
    "    m.add_layer(mark)\n",
    "\n",
    "\n",
    "print(\"Click the markers to learn more!\")"
   ]
  },
  {
   "cell_type": "code",
   "execution_count": 2,
   "metadata": {},
   "outputs": [
    {
     "data": {
      "application/vnd.jupyter.widget-view+json": {
       "model_id": "c7e126e322d740d1ad8749e7965131cb",
       "version_major": 2,
       "version_minor": 0
      },
      "text/plain": [
       "Map(basemap={'url': 'http://server.arcgisonline.com/ArcGIS/rest/services/World_Street_Map/MapServer/tile/{z}/{…"
      ]
     },
     "metadata": {},
     "output_type": "display_data"
    }
   ],
   "source": [
    "m"
   ]
  },
  {
   "attachments": {},
   "cell_type": "markdown",
   "metadata": {},
   "source": [
    "In addition to reaching across academic disciplines, when working on issues related to equity, I believe affected communities need to be involved and I seek out these partnerships. When I helped facilitate a summer reading camp for Indigenous children in northern Canada, I worked closely with my Inuit co-counselors to ensure that the camp was culturally relevant and that the material resonated with the students. Likewise, when I organized a homework club for new immigrants to Halifax, I would often co-teach with the older students. They had an intuitive understanding of the many social and linguistic barriers the students faced, which helped us overcome barriers unique to new immigrants in Canada. At Upturn, I would ensure to collaborate with the communities most negatively impacted by digital innovation.\n",
    "\n",
    "Thank you for considering my application. I would be very excited to help with Upturn’s important and timely digital advocacy.\n",
    "\n",
    "Sincerely,\n",
    "\n",
    "Joshua Feldman"
   ]
  },
  {
   "cell_type": "code",
   "execution_count": null,
   "metadata": {},
   "outputs": [],
   "source": []
  }
 ],
 "metadata": {
  "kernelspec": {
   "display_name": "Python 3",
   "language": "python",
   "name": "python3"
  },
  "language_info": {
   "codemirror_mode": {
    "name": "ipython",
    "version": 3
   },
   "file_extension": ".py",
   "mimetype": "text/x-python",
   "name": "python",
   "nbconvert_exporter": "python",
   "pygments_lexer": "ipython3",
   "version": "3.6.6"
  },
  "widgets": {
   "application/vnd.jupyter.widget-state+json": {
    "state": {
     "04085f46b2334255a7a5c6c30b6cbbf3": {
      "model_module": "@jupyter-widgets/base",
      "model_module_version": "1.1.0",
      "model_name": "LayoutModel",
      "state": {}
     },
     "0cbb0424430441e98d56cf27bcfd8404": {
      "model_module": "jupyter-leaflet",
      "model_module_version": "~0.9.1",
      "model_name": "LeafletMarkerModel",
      "state": {
       "_model_module_version": "~0.9.1",
       "_view_count": null,
       "_view_module_version": "~0.9.1",
       "draggable": false,
       "location": [
        42.3781,
        -71.1188
       ],
       "options": [
        "alt",
        "draggable",
        "keyboard",
        "rise_offset",
        "rise_on_hover",
        "rotation_angle",
        "rotation_origin",
        "title",
        "z_index_offset"
       ],
       "popup": "IPY_MODEL_dede9a67cc754fd18758ed2f113acd4b"
      }
     },
     "240ca9d8af3c4d8e97d51658018d51a2": {
      "model_module": "jupyter-leaflet",
      "model_module_version": "~0.9.1",
      "model_name": "LeafletMarkerModel",
      "state": {
       "_model_module_version": "~0.9.1",
       "_view_count": null,
       "_view_module_version": "~0.9.1",
       "draggable": false,
       "location": [
        42.3714,
        -71.122
       ],
       "options": [
        "alt",
        "draggable",
        "keyboard",
        "rise_offset",
        "rise_on_hover",
        "rotation_angle",
        "rotation_origin",
        "title",
        "z_index_offset"
       ],
       "popup": "IPY_MODEL_47ab95ae55234c3da0d0879747bf3cc0",
       "rise_on_hover": true
      }
     },
     "2d12c337ee274f4b90f64ab998f309de": {
      "model_module": "@jupyter-widgets/controls",
      "model_module_version": "1.4.0",
      "model_name": "DescriptionStyleModel",
      "state": {
       "description_width": ""
      }
     },
     "413234676fb1430399368a28173f7fdc": {
      "model_module": "@jupyter-widgets/base",
      "model_module_version": "1.1.0",
      "model_name": "LayoutModel",
      "state": {}
     },
     "47ab95ae55234c3da0d0879747bf3cc0": {
      "model_module": "@jupyter-widgets/controls",
      "model_module_version": "1.4.0",
      "model_name": "HTMLModel",
      "state": {
       "layout": "IPY_MODEL_60586c7b12e04315bc497548923d48d1",
       "style": "IPY_MODEL_e4de3d69ccb54e6781a90d9045a54ee1",
       "value": "\n<b> At the Kennedy School, I am reflecting on the regulation and self-regulation that will\nbe most effective in harnessing the benefits of digital technology: </b>  \n<br> - As a student in Solutions for Technology's Public Dilemmas instructed by former secretary of defense Ash Carter \n<br> - As an active member in the Future Society, a student organization focused on emerging policy issues\n\n"
      }
     },
     "4832de96cba640d6961e6602f5ceb7f0": {
      "model_module": "@jupyter-widgets/controls",
      "model_module_version": "1.4.0",
      "model_name": "DescriptionStyleModel",
      "state": {
       "description_width": ""
      }
     },
     "60586c7b12e04315bc497548923d48d1": {
      "model_module": "@jupyter-widgets/base",
      "model_module_version": "1.1.0",
      "model_name": "LayoutModel",
      "state": {}
     },
     "6eb9d3326faa41bd9c1ad84118d46de2": {
      "model_module": "jupyter-leaflet",
      "model_module_version": "~0.9.1",
      "model_name": "LeafletTileLayerModel",
      "state": {
       "_model_module_version": "~0.9.1",
       "_view_count": null,
       "_view_module_version": "~0.9.1",
       "attribution": "Tiles &copy; Esri &mdash; Source: Esri, DeLorme, NAVTEQ, USGS, Intermap, iPC, NRCAN, Esri Japan, METI, Esri China (Hong Kong), Esri (Thailand), TomTom, 2012",
       "base": true,
       "max_zoom": 20,
       "min_zoom": 1,
       "name": "Esri.WoldStreetMap",
       "options": [
        "attribution",
        "detect_retina",
        "max_zoom",
        "min_zoom",
        "tile_size"
       ],
       "url": "http://server.arcgisonline.com/ArcGIS/rest/services/World_Street_Map/MapServer/tile/{z}/{y}/{x}"
      }
     },
     "8f9d44e1d18b492fb951b582219b3091": {
      "model_module": "@jupyter-widgets/controls",
      "model_module_version": "1.4.0",
      "model_name": "HTMLModel",
      "state": {
       "layout": "IPY_MODEL_413234676fb1430399368a28173f7fdc",
       "style": "IPY_MODEL_2d12c337ee274f4b90f64ab998f309de",
       "value": "\n<b> At the Engineering School, I am promoting public interest technology: </b>\n<br> - As a student in the M.Sc. in Data Science Program, I am learning cutting edge techniques in statistics, computer science, and machine learning\n<br> - As a member of the Philantropy Advisory Fellowship, I am applying my statistical modelling skills to identify effective interventions to address the opioid epidemic\n<br> - I am creating a fellowship in public interest data science, to encourage students to apply their skills to social problems and prepare them for these challenges\n\n"
      }
     },
     "b821252208ee431ea1c38c8be2eb5343": {
      "model_module": "jupyter-leaflet",
      "model_module_version": "~0.9.1",
      "model_name": "LeafletMapModel",
      "state": {
       "_dom_classes": [],
       "_model_module_version": "~0.9.1",
       "_view_count": null,
       "_view_module_version": "~0.9.1",
       "basemap": {
        "attribution": "Tiles &copy; Esri &mdash; Source: Esri, DeLorme, NAVTEQ, USGS, Intermap, iPC, NRCAN, Esri Japan, METI, Esri China (Hong Kong), Esri (Thailand), TomTom, 2012",
        "max_zoom": 20,
        "name": "Esri.WoldStreetMap",
        "url": "http://server.arcgisonline.com/ArcGIS/rest/services/World_Street_Map/MapServer/tile/{z}/{y}/{x}"
       },
       "center": [
        42.376,
        -71.1167
       ],
       "east": -71.09566211700441,
       "interpolation": "bilinear",
       "layers": [
        "IPY_MODEL_6eb9d3326faa41bd9c1ad84118d46de2",
        "IPY_MODEL_240ca9d8af3c4d8e97d51658018d51a2",
        "IPY_MODEL_0cbb0424430441e98d56cf27bcfd8404",
        "IPY_MODEL_bd28f515004d4843985f7e863ba12414"
       ],
       "layout": "IPY_MODEL_04085f46b2334255a7a5c6c30b6cbbf3",
       "modisdate": "yesterday",
       "north": 42.38235511234488,
       "options": [
        "attribution_control",
        "basemap",
        "bounce_at_zoom_limits",
        "box_zoom",
        "center",
        "close_popup_on_click",
        "double_click_zoom",
        "dragging",
        "inertia",
        "inertia_deceleration",
        "inertia_max_speed",
        "interpolation",
        "keyboard",
        "keyboard_pan_offset",
        "keyboard_zoom_offset",
        "max_zoom",
        "min_zoom",
        "scroll_wheel_zoom",
        "tap",
        "tap_tolerance",
        "touch_zoom",
        "world_copy_jump",
        "zoom",
        "zoom_animation_threshold",
        "zoom_control",
        "zoom_start"
       ],
       "south": 42.36967384179557,
       "west": -71.13776206970216,
       "zoom": 15
      }
     },
     "b857c9c9429c46d3afdc6218591156f4": {
      "model_module": "@jupyter-widgets/base",
      "model_module_version": "1.1.0",
      "model_name": "LayoutModel",
      "state": {}
     },
     "bd28f515004d4843985f7e863ba12414": {
      "model_module": "jupyter-leaflet",
      "model_module_version": "~0.9.1",
      "model_name": "LeafletMarkerModel",
      "state": {
       "_model_module_version": "~0.9.1",
       "_view_count": null,
       "_view_module_version": "~0.9.1",
       "draggable": false,
       "location": [
        42.3782,
        -71.1171
       ],
       "options": [
        "alt",
        "draggable",
        "keyboard",
        "rise_offset",
        "rise_on_hover",
        "rotation_angle",
        "rotation_origin",
        "title",
        "z_index_offset"
       ],
       "popup": "IPY_MODEL_8f9d44e1d18b492fb951b582219b3091"
      }
     },
     "dede9a67cc754fd18758ed2f113acd4b": {
      "model_module": "@jupyter-widgets/controls",
      "model_module_version": "1.4.0",
      "model_name": "HTMLModel",
      "state": {
       "layout": "IPY_MODEL_b857c9c9429c46d3afdc6218591156f4",
       "style": "IPY_MODEL_4832de96cba640d6961e6602f5ceb7f0",
       "value": "\n<b> At the Law School, I am researching the legal ramifications of artificially intelligent devices: </b>\n<br> - As a research assistant for Sara Gerke, I study the implications of medical device regulation \non machine learning used in healthcare settings\n<br> - As a member of Techtopia, I participate in bi-weekly interdisciplinary seminars on digital ethics\n"
      }
     },
     "e4de3d69ccb54e6781a90d9045a54ee1": {
      "model_module": "@jupyter-widgets/controls",
      "model_module_version": "1.4.0",
      "model_name": "DescriptionStyleModel",
      "state": {
       "description_width": ""
      }
     }
    },
    "version_major": 2,
    "version_minor": 0
   }
  }
 },
 "nbformat": 4,
 "nbformat_minor": 2
}
